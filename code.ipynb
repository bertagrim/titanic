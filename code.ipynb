{
 "cells": [
  {
   "cell_type": "code",
   "execution_count": 2,
   "id": "54912aa2",
   "metadata": {},
   "outputs": [],
   "source": [
    "import numpy as np \n",
    "import pandas as pd\n",
    "import seaborn as sns\n",
    "import matplotlib.pyplot as plt\n",
    "import warnings\n",
    "warnings.filterwarnings('ignore')\n",
    "\n",
    "\n",
    "from sklearn.model_selection import train_test_split\n",
    "from sklearn.tree import DecisionTreeClassifier\n",
    "from sklearn.model_selection import GridSearchCV\n",
    "from sklearn.model_selection import cross_validate\n",
    "from sklearn.model_selection import cross_val_score\n",
    "from sklearn import metrics\n",
    "from sklearn.metrics import confusion_matrix\n",
    "from sklearn import preprocessing\n",
    "from sklearn.preprocessing import MinMaxScaler, LabelEncoder, RobustScaler,StandardScaler\n",
    "from sklearn.tree import DecisionTreeClassifier\n",
    "from sklearn.linear_model import LogisticRegression, LogisticRegressionCV\n",
    "from imblearn.over_sampling import SMOTE\n",
    "from sklearn.ensemble import RandomForestClassifier\n",
    "from sklearn.ensemble import GradientBoostingClassifier, AdaBoostClassifier\n",
    "from sklearn.impute import SimpleImputer, KNNImputer\n",
    "from sklearn.svm import SVR, SVC"
   ]
  },
  {
   "cell_type": "code",
   "execution_count": 3,
   "id": "8b16dd8a",
   "metadata": {},
   "outputs": [],
   "source": [
    "import sys\n",
    "sys.path.insert(0, '/Users/bertagrim/dev_projects/data_science_bootcamp/_CLASS CONTENT/_functions_')"
   ]
  },
  {
   "cell_type": "code",
   "execution_count": 4,
   "id": "04ab8727",
   "metadata": {},
   "outputs": [
    {
     "data": {
      "text/html": [
       "        <script type=\"text/javascript\">\n",
       "        window.PlotlyConfig = {MathJaxConfig: 'local'};\n",
       "        if (window.MathJax) {MathJax.Hub.Config({SVG: {font: \"STIX-Web\"}});}\n",
       "        if (typeof require !== 'undefined') {\n",
       "        require.undef(\"plotly\");\n",
       "        requirejs.config({\n",
       "            paths: {\n",
       "                'plotly': ['https://cdn.plot.ly/plotly-latest.min']\n",
       "            }\n",
       "        });\n",
       "        require(['plotly'], function(Plotly) {\n",
       "            window._Plotly = Plotly;\n",
       "        });\n",
       "        }\n",
       "        </script>\n",
       "        "
      ]
     },
     "metadata": {},
     "output_type": "display_data"
    }
   ],
   "source": [
    "from fx_MLClassification import *\n",
    "from Functions_EDA import *\n",
    "from fx_MLClassification import *\n",
    "from Functions_EDA import *"
   ]
  },
  {
   "cell_type": "code",
   "execution_count": 5,
   "id": "c1edacf9",
   "metadata": {},
   "outputs": [],
   "source": [
    "# survival - Survival (0 = No; 1 = Yes)\n",
    "# class - Passenger Class (1 = 1st; 2 = 2nd; 3 = 3rd)\n",
    "# name - Name\n",
    "# sex - Sex\n",
    "# age - Age\n",
    "# sibsp - Number of Siblings/Spouses Aboard\n",
    "# parch - Number of Parents/Children Aboard\n",
    "# ticket - Ticket Number\n",
    "# fare - Passenger Fare\n",
    "# cabin - Cabin\n",
    "# embarked - Port of Embarkation (C = Cherbourg; Q = Queenstown; S = Southampton)"
   ]
  },
  {
   "cell_type": "code",
   "execution_count": 6,
   "id": "1ce37cee",
   "metadata": {},
   "outputs": [],
   "source": [
    "list_missing_values=['Nan']"
   ]
  },
  {
   "cell_type": "code",
   "execution_count": 7,
   "id": "354e07b3",
   "metadata": {},
   "outputs": [
    {
     "data": {
      "text/html": [
       "<div>\n",
       "<style scoped>\n",
       "    .dataframe tbody tr th:only-of-type {\n",
       "        vertical-align: middle;\n",
       "    }\n",
       "\n",
       "    .dataframe tbody tr th {\n",
       "        vertical-align: top;\n",
       "    }\n",
       "\n",
       "    .dataframe thead th {\n",
       "        text-align: right;\n",
       "    }\n",
       "</style>\n",
       "<table border=\"1\" class=\"dataframe\">\n",
       "  <thead>\n",
       "    <tr style=\"text-align: right;\">\n",
       "      <th></th>\n",
       "      <th>PassengerId</th>\n",
       "      <th>Survived</th>\n",
       "      <th>Pclass</th>\n",
       "      <th>Name</th>\n",
       "      <th>Sex</th>\n",
       "      <th>Age</th>\n",
       "      <th>SibSp</th>\n",
       "      <th>Parch</th>\n",
       "      <th>Ticket</th>\n",
       "      <th>Fare</th>\n",
       "      <th>Cabin</th>\n",
       "      <th>Embarked</th>\n",
       "    </tr>\n",
       "  </thead>\n",
       "  <tbody>\n",
       "    <tr>\n",
       "      <th>0</th>\n",
       "      <td>1</td>\n",
       "      <td>0</td>\n",
       "      <td>3</td>\n",
       "      <td>Braund, Mr. Owen Harris</td>\n",
       "      <td>male</td>\n",
       "      <td>22.0</td>\n",
       "      <td>1</td>\n",
       "      <td>0</td>\n",
       "      <td>A/5 21171</td>\n",
       "      <td>7.2500</td>\n",
       "      <td>NaN</td>\n",
       "      <td>S</td>\n",
       "    </tr>\n",
       "    <tr>\n",
       "      <th>1</th>\n",
       "      <td>2</td>\n",
       "      <td>1</td>\n",
       "      <td>1</td>\n",
       "      <td>Cumings, Mrs. John Bradley (Florence Briggs Th...</td>\n",
       "      <td>female</td>\n",
       "      <td>38.0</td>\n",
       "      <td>1</td>\n",
       "      <td>0</td>\n",
       "      <td>PC 17599</td>\n",
       "      <td>71.2833</td>\n",
       "      <td>C85</td>\n",
       "      <td>C</td>\n",
       "    </tr>\n",
       "    <tr>\n",
       "      <th>2</th>\n",
       "      <td>3</td>\n",
       "      <td>1</td>\n",
       "      <td>3</td>\n",
       "      <td>Heikkinen, Miss. Laina</td>\n",
       "      <td>female</td>\n",
       "      <td>26.0</td>\n",
       "      <td>0</td>\n",
       "      <td>0</td>\n",
       "      <td>STON/O2. 3101282</td>\n",
       "      <td>7.9250</td>\n",
       "      <td>NaN</td>\n",
       "      <td>S</td>\n",
       "    </tr>\n",
       "    <tr>\n",
       "      <th>3</th>\n",
       "      <td>4</td>\n",
       "      <td>1</td>\n",
       "      <td>1</td>\n",
       "      <td>Futrelle, Mrs. Jacques Heath (Lily May Peel)</td>\n",
       "      <td>female</td>\n",
       "      <td>35.0</td>\n",
       "      <td>1</td>\n",
       "      <td>0</td>\n",
       "      <td>113803</td>\n",
       "      <td>53.1000</td>\n",
       "      <td>C123</td>\n",
       "      <td>S</td>\n",
       "    </tr>\n",
       "    <tr>\n",
       "      <th>4</th>\n",
       "      <td>5</td>\n",
       "      <td>0</td>\n",
       "      <td>3</td>\n",
       "      <td>Allen, Mr. William Henry</td>\n",
       "      <td>male</td>\n",
       "      <td>35.0</td>\n",
       "      <td>0</td>\n",
       "      <td>0</td>\n",
       "      <td>373450</td>\n",
       "      <td>8.0500</td>\n",
       "      <td>NaN</td>\n",
       "      <td>S</td>\n",
       "    </tr>\n",
       "  </tbody>\n",
       "</table>\n",
       "</div>"
      ],
      "text/plain": [
       "   PassengerId  Survived  Pclass  \\\n",
       "0            1         0       3   \n",
       "1            2         1       1   \n",
       "2            3         1       3   \n",
       "3            4         1       1   \n",
       "4            5         0       3   \n",
       "\n",
       "                                                Name     Sex   Age  SibSp  \\\n",
       "0                            Braund, Mr. Owen Harris    male  22.0      1   \n",
       "1  Cumings, Mrs. John Bradley (Florence Briggs Th...  female  38.0      1   \n",
       "2                             Heikkinen, Miss. Laina  female  26.0      0   \n",
       "3       Futrelle, Mrs. Jacques Heath (Lily May Peel)  female  35.0      1   \n",
       "4                           Allen, Mr. William Henry    male  35.0      0   \n",
       "\n",
       "   Parch            Ticket     Fare Cabin Embarked  \n",
       "0      0         A/5 21171   7.2500   NaN        S  \n",
       "1      0          PC 17599  71.2833   C85        C  \n",
       "2      0  STON/O2. 3101282   7.9250   NaN        S  \n",
       "3      0            113803  53.1000  C123        S  \n",
       "4      0            373450   8.0500   NaN        S  "
      ]
     },
     "execution_count": 7,
     "metadata": {},
     "output_type": "execute_result"
    }
   ],
   "source": [
    "train_data = pd.read_csv(\"/Users/bertagrim/dev_projects/titanic/train.csv\", na_values=list_missing_values)\n",
    "train_data.head()"
   ]
  },
  {
   "cell_type": "code",
   "execution_count": 8,
   "id": "f20d8090",
   "metadata": {},
   "outputs": [
    {
     "data": {
      "text/html": [
       "<div>\n",
       "<style scoped>\n",
       "    .dataframe tbody tr th:only-of-type {\n",
       "        vertical-align: middle;\n",
       "    }\n",
       "\n",
       "    .dataframe tbody tr th {\n",
       "        vertical-align: top;\n",
       "    }\n",
       "\n",
       "    .dataframe thead th {\n",
       "        text-align: right;\n",
       "    }\n",
       "</style>\n",
       "<table border=\"1\" class=\"dataframe\">\n",
       "  <thead>\n",
       "    <tr style=\"text-align: right;\">\n",
       "      <th></th>\n",
       "      <th>PassengerId</th>\n",
       "      <th>Pclass</th>\n",
       "      <th>Name</th>\n",
       "      <th>Sex</th>\n",
       "      <th>Age</th>\n",
       "      <th>SibSp</th>\n",
       "      <th>Parch</th>\n",
       "      <th>Ticket</th>\n",
       "      <th>Fare</th>\n",
       "      <th>Cabin</th>\n",
       "      <th>Embarked</th>\n",
       "    </tr>\n",
       "  </thead>\n",
       "  <tbody>\n",
       "    <tr>\n",
       "      <th>0</th>\n",
       "      <td>892</td>\n",
       "      <td>3</td>\n",
       "      <td>Kelly, Mr. James</td>\n",
       "      <td>male</td>\n",
       "      <td>34.5</td>\n",
       "      <td>0</td>\n",
       "      <td>0</td>\n",
       "      <td>330911</td>\n",
       "      <td>7.8292</td>\n",
       "      <td>NaN</td>\n",
       "      <td>Q</td>\n",
       "    </tr>\n",
       "    <tr>\n",
       "      <th>1</th>\n",
       "      <td>893</td>\n",
       "      <td>3</td>\n",
       "      <td>Wilkes, Mrs. James (Ellen Needs)</td>\n",
       "      <td>female</td>\n",
       "      <td>47.0</td>\n",
       "      <td>1</td>\n",
       "      <td>0</td>\n",
       "      <td>363272</td>\n",
       "      <td>7.0000</td>\n",
       "      <td>NaN</td>\n",
       "      <td>S</td>\n",
       "    </tr>\n",
       "    <tr>\n",
       "      <th>2</th>\n",
       "      <td>894</td>\n",
       "      <td>2</td>\n",
       "      <td>Myles, Mr. Thomas Francis</td>\n",
       "      <td>male</td>\n",
       "      <td>62.0</td>\n",
       "      <td>0</td>\n",
       "      <td>0</td>\n",
       "      <td>240276</td>\n",
       "      <td>9.6875</td>\n",
       "      <td>NaN</td>\n",
       "      <td>Q</td>\n",
       "    </tr>\n",
       "    <tr>\n",
       "      <th>3</th>\n",
       "      <td>895</td>\n",
       "      <td>3</td>\n",
       "      <td>Wirz, Mr. Albert</td>\n",
       "      <td>male</td>\n",
       "      <td>27.0</td>\n",
       "      <td>0</td>\n",
       "      <td>0</td>\n",
       "      <td>315154</td>\n",
       "      <td>8.6625</td>\n",
       "      <td>NaN</td>\n",
       "      <td>S</td>\n",
       "    </tr>\n",
       "    <tr>\n",
       "      <th>4</th>\n",
       "      <td>896</td>\n",
       "      <td>3</td>\n",
       "      <td>Hirvonen, Mrs. Alexander (Helga E Lindqvist)</td>\n",
       "      <td>female</td>\n",
       "      <td>22.0</td>\n",
       "      <td>1</td>\n",
       "      <td>1</td>\n",
       "      <td>3101298</td>\n",
       "      <td>12.2875</td>\n",
       "      <td>NaN</td>\n",
       "      <td>S</td>\n",
       "    </tr>\n",
       "  </tbody>\n",
       "</table>\n",
       "</div>"
      ],
      "text/plain": [
       "   PassengerId  Pclass                                          Name     Sex  \\\n",
       "0          892       3                              Kelly, Mr. James    male   \n",
       "1          893       3              Wilkes, Mrs. James (Ellen Needs)  female   \n",
       "2          894       2                     Myles, Mr. Thomas Francis    male   \n",
       "3          895       3                              Wirz, Mr. Albert    male   \n",
       "4          896       3  Hirvonen, Mrs. Alexander (Helga E Lindqvist)  female   \n",
       "\n",
       "    Age  SibSp  Parch   Ticket     Fare Cabin Embarked  \n",
       "0  34.5      0      0   330911   7.8292   NaN        Q  \n",
       "1  47.0      1      0   363272   7.0000   NaN        S  \n",
       "2  62.0      0      0   240276   9.6875   NaN        Q  \n",
       "3  27.0      0      0   315154   8.6625   NaN        S  \n",
       "4  22.0      1      1  3101298  12.2875   NaN        S  "
      ]
     },
     "execution_count": 8,
     "metadata": {},
     "output_type": "execute_result"
    }
   ],
   "source": [
    "test_data = pd.read_csv(\"/Users/bertagrim/dev_projects/titanic/test.csv\", na_values=list_missing_values)\n",
    "test_data.head()"
   ]
  },
  {
   "cell_type": "code",
   "execution_count": 9,
   "id": "e1bc56dc",
   "metadata": {},
   "outputs": [],
   "source": [
    "#gender_submission=pd.read_csv(\"/Users/bertagrim/dev_projects/titanic/gender_submission.csv\")\n",
    "#gender_submission.head()"
   ]
  },
  {
   "cell_type": "code",
   "execution_count": 10,
   "id": "1063f2ae",
   "metadata": {},
   "outputs": [
    {
     "name": "stdout",
     "output_type": "stream",
     "text": [
      "(891, 12)\n",
      "(418, 11)\n"
     ]
    }
   ],
   "source": [
    "print(train_data.shape)\n",
    "print(test_data.shape)\n"
   ]
  },
  {
   "cell_type": "code",
   "execution_count": 11,
   "id": "9ed439d3",
   "metadata": {},
   "outputs": [
    {
     "name": "stdout",
     "output_type": "stream",
     "text": [
      "<class 'pandas.core.frame.DataFrame'>\n",
      "RangeIndex: 891 entries, 0 to 890\n",
      "Data columns (total 12 columns):\n",
      " #   Column       Non-Null Count  Dtype  \n",
      "---  ------       --------------  -----  \n",
      " 0   PassengerId  891 non-null    int64  \n",
      " 1   Survived     891 non-null    int64  \n",
      " 2   Pclass       891 non-null    int64  \n",
      " 3   Name         891 non-null    object \n",
      " 4   Sex          891 non-null    object \n",
      " 5   Age          714 non-null    float64\n",
      " 6   SibSp        891 non-null    int64  \n",
      " 7   Parch        891 non-null    int64  \n",
      " 8   Ticket       891 non-null    object \n",
      " 9   Fare         891 non-null    float64\n",
      " 10  Cabin        204 non-null    object \n",
      " 11  Embarked     889 non-null    object \n",
      "dtypes: float64(2), int64(5), object(5)\n",
      "memory usage: 83.7+ KB\n"
     ]
    }
   ],
   "source": [
    "train_data.info()"
   ]
  },
  {
   "cell_type": "code",
   "execution_count": 12,
   "id": "67b67596",
   "metadata": {},
   "outputs": [
    {
     "name": "stdout",
     "output_type": "stream",
     "text": [
      "<class 'pandas.core.frame.DataFrame'>\n",
      "RangeIndex: 418 entries, 0 to 417\n",
      "Data columns (total 11 columns):\n",
      " #   Column       Non-Null Count  Dtype  \n",
      "---  ------       --------------  -----  \n",
      " 0   PassengerId  418 non-null    int64  \n",
      " 1   Pclass       418 non-null    int64  \n",
      " 2   Name         418 non-null    object \n",
      " 3   Sex          418 non-null    object \n",
      " 4   Age          332 non-null    float64\n",
      " 5   SibSp        418 non-null    int64  \n",
      " 6   Parch        418 non-null    int64  \n",
      " 7   Ticket       418 non-null    object \n",
      " 8   Fare         417 non-null    float64\n",
      " 9   Cabin        91 non-null     object \n",
      " 10  Embarked     418 non-null    object \n",
      "dtypes: float64(2), int64(4), object(5)\n",
      "memory usage: 36.0+ KB\n"
     ]
    }
   ],
   "source": [
    "test_data.info()"
   ]
  },
  {
   "cell_type": "code",
   "execution_count": 13,
   "id": "a9f2d880",
   "metadata": {},
   "outputs": [
    {
     "data": {
      "text/plain": [
       "PassengerId    891\n",
       "Survived         2\n",
       "Pclass           3\n",
       "Name           891\n",
       "Sex              2\n",
       "Age             88\n",
       "SibSp            7\n",
       "Parch            7\n",
       "Ticket         681\n",
       "Fare           248\n",
       "Cabin          147\n",
       "Embarked         3\n",
       "dtype: int64"
      ]
     },
     "execution_count": 13,
     "metadata": {},
     "output_type": "execute_result"
    }
   ],
   "source": [
    "train_data.nunique()"
   ]
  },
  {
   "cell_type": "markdown",
   "id": "7ea80dd6",
   "metadata": {},
   "source": [
    "## Data cleaning"
   ]
  },
  {
   "cell_type": "code",
   "execution_count": 14,
   "id": "4fc862d6",
   "metadata": {},
   "outputs": [
    {
     "data": {
      "text/plain": [
       "PassengerId      0\n",
       "Survived         0\n",
       "Pclass           0\n",
       "Name             0\n",
       "Sex              0\n",
       "Age            177\n",
       "SibSp            0\n",
       "Parch            0\n",
       "Ticket           0\n",
       "Fare             0\n",
       "Cabin          687\n",
       "Embarked         2\n",
       "dtype: int64"
      ]
     },
     "execution_count": 14,
     "metadata": {},
     "output_type": "execute_result"
    }
   ],
   "source": [
    "train_data.isnull().sum()"
   ]
  },
  {
   "cell_type": "code",
   "execution_count": 15,
   "id": "74bfa87e",
   "metadata": {},
   "outputs": [
    {
     "data": {
      "text/plain": [
       "PassengerId      0\n",
       "Pclass           0\n",
       "Name             0\n",
       "Sex              0\n",
       "Age             86\n",
       "SibSp            0\n",
       "Parch            0\n",
       "Ticket           0\n",
       "Fare             1\n",
       "Cabin          327\n",
       "Embarked         0\n",
       "dtype: int64"
      ]
     },
     "execution_count": 15,
     "metadata": {},
     "output_type": "execute_result"
    }
   ],
   "source": [
    "test_data.isnull().sum()"
   ]
  },
  {
   "cell_type": "code",
   "execution_count": 16,
   "id": "8be135c7",
   "metadata": {},
   "outputs": [
    {
     "data": {
      "text/plain": [
       "array([nan, 'C85', 'C123', 'E46', 'G6', 'C103', 'D56', 'A6',\n",
       "       'C23 C25 C27', 'B78', 'D33', 'B30', 'C52', 'B28', 'C83', 'F33',\n",
       "       'F G73', 'E31', 'A5', 'D10 D12', 'D26', 'C110', 'B58 B60', 'E101',\n",
       "       'F E69', 'D47', 'B86', 'F2', 'C2', 'E33', 'B19', 'A7', 'C49', 'F4',\n",
       "       'A32', 'B4', 'B80', 'A31', 'D36', 'D15', 'C93', 'C78', 'D35',\n",
       "       'C87', 'B77', 'E67', 'B94', 'C125', 'C99', 'C118', 'D7', 'A19',\n",
       "       'B49', 'D', 'C22 C26', 'C106', 'C65', 'E36', 'C54',\n",
       "       'B57 B59 B63 B66', 'C7', 'E34', 'C32', 'B18', 'C124', 'C91', 'E40',\n",
       "       'T', 'C128', 'D37', 'B35', 'E50', 'C82', 'B96 B98', 'E10', 'E44',\n",
       "       'A34', 'C104', 'C111', 'C92', 'E38', 'D21', 'E12', 'E63', 'A14',\n",
       "       'B37', 'C30', 'D20', 'B79', 'E25', 'D46', 'B73', 'C95', 'B38',\n",
       "       'B39', 'B22', 'C86', 'C70', 'A16', 'C101', 'C68', 'A10', 'E68',\n",
       "       'B41', 'A20', 'D19', 'D50', 'D9', 'A23', 'B50', 'A26', 'D48',\n",
       "       'E58', 'C126', 'B71', 'B51 B53 B55', 'D49', 'B5', 'B20', 'F G63',\n",
       "       'C62 C64', 'E24', 'C90', 'C45', 'E8', 'B101', 'D45', 'C46', 'D30',\n",
       "       'E121', 'D11', 'E77', 'F38', 'B3', 'D6', 'B82 B84', 'D17', 'A36',\n",
       "       'B102', 'B69', 'E49', 'C47', 'D28', 'E17', 'A24', 'C50', 'B42',\n",
       "       'C148'], dtype=object)"
      ]
     },
     "execution_count": 16,
     "metadata": {},
     "output_type": "execute_result"
    }
   ],
   "source": [
    "train_data['Cabin'].unique()"
   ]
  },
  {
   "cell_type": "code",
   "execution_count": 17,
   "id": "e79b461a",
   "metadata": {},
   "outputs": [],
   "source": [
    "train_data['Cabin'].fillna('no_cabin',inplace=True)\n",
    "test_data['Cabin'].fillna('no_cabin',inplace=True)"
   ]
  },
  {
   "cell_type": "code",
   "execution_count": 18,
   "id": "b9009e0c",
   "metadata": {},
   "outputs": [
    {
     "name": "stdout",
     "output_type": "stream",
     "text": [
      "0\n",
      "0\n"
     ]
    }
   ],
   "source": [
    "print(train_data.Cabin.isnull().sum())\n",
    "print(test_data.Cabin.isnull().sum())"
   ]
  },
  {
   "cell_type": "code",
   "execution_count": 19,
   "id": "e772ba3a",
   "metadata": {},
   "outputs": [
    {
     "data": {
      "text/plain": [
       "2"
      ]
     },
     "execution_count": 19,
     "metadata": {},
     "output_type": "execute_result"
    }
   ],
   "source": [
    "train_data.Embarked.isnull().sum()"
   ]
  },
  {
   "cell_type": "code",
   "execution_count": 20,
   "id": "ecc941cb",
   "metadata": {},
   "outputs": [
    {
     "data": {
      "text/plain": [
       "0"
      ]
     },
     "execution_count": 20,
     "metadata": {},
     "output_type": "execute_result"
    }
   ],
   "source": [
    "train_data['Embarked'].fillna('unknown',inplace=True)\n",
    "train_data.Embarked.isnull().sum()"
   ]
  },
  {
   "cell_type": "code",
   "execution_count": 21,
   "id": "4fdd9ca3",
   "metadata": {},
   "outputs": [
    {
     "name": "stdout",
     "output_type": "stream",
     "text": [
      "<class 'pandas.core.frame.DataFrame'>\n",
      "RangeIndex: 418 entries, 0 to 417\n",
      "Data columns (total 11 columns):\n",
      " #   Column       Non-Null Count  Dtype  \n",
      "---  ------       --------------  -----  \n",
      " 0   PassengerId  418 non-null    int64  \n",
      " 1   Pclass       418 non-null    int64  \n",
      " 2   Name         418 non-null    object \n",
      " 3   Sex          418 non-null    object \n",
      " 4   Age          332 non-null    float64\n",
      " 5   SibSp        418 non-null    int64  \n",
      " 6   Parch        418 non-null    int64  \n",
      " 7   Ticket       418 non-null    object \n",
      " 8   Fare         417 non-null    float64\n",
      " 9   Cabin        418 non-null    object \n",
      " 10  Embarked     418 non-null    object \n",
      "dtypes: float64(2), int64(4), object(5)\n",
      "memory usage: 36.0+ KB\n"
     ]
    }
   ],
   "source": [
    "test_data.info()"
   ]
  },
  {
   "cell_type": "code",
   "execution_count": 22,
   "id": "0a7e39c8",
   "metadata": {},
   "outputs": [],
   "source": [
    "test_data['Fare']= test_data['Fare'].fillna(test_data['Fare'].median())"
   ]
  },
  {
   "cell_type": "code",
   "execution_count": 23,
   "id": "8e056cf3",
   "metadata": {},
   "outputs": [
    {
     "data": {
      "text/plain": [
       "0"
      ]
     },
     "execution_count": 23,
     "metadata": {},
     "output_type": "execute_result"
    }
   ],
   "source": [
    "test_data['Fare'].isnull().sum()"
   ]
  },
  {
   "cell_type": "code",
   "execution_count": 24,
   "id": "6b3a1d45",
   "metadata": {},
   "outputs": [
    {
     "data": {
      "text/plain": [
       "14.4542"
      ]
     },
     "execution_count": 24,
     "metadata": {},
     "output_type": "execute_result"
    }
   ],
   "source": [
    "test_data['Fare'].median()"
   ]
  },
  {
   "cell_type": "markdown",
   "id": "0ededef0",
   "metadata": {},
   "source": [
    "## Null values Age"
   ]
  },
  {
   "cell_type": "markdown",
   "id": "7243f874",
   "metadata": {},
   "source": [
    "#### Method 1: group by means"
   ]
  },
  {
   "cell_type": "code",
   "execution_count": 25,
   "id": "1c221127",
   "metadata": {},
   "outputs": [],
   "source": [
    "all_data=pd.concat([train_data, test_data], ignore_index=True)"
   ]
  },
  {
   "cell_type": "code",
   "execution_count": 26,
   "id": "810a3177",
   "metadata": {
    "scrolled": true
   },
   "outputs": [
    {
     "name": "stdout",
     "output_type": "stream",
     "text": [
      "<class 'pandas.core.frame.DataFrame'>\n",
      "RangeIndex: 1309 entries, 0 to 1308\n",
      "Data columns (total 12 columns):\n",
      " #   Column       Non-Null Count  Dtype  \n",
      "---  ------       --------------  -----  \n",
      " 0   PassengerId  1309 non-null   int64  \n",
      " 1   Survived     891 non-null    float64\n",
      " 2   Pclass       1309 non-null   int64  \n",
      " 3   Name         1309 non-null   object \n",
      " 4   Sex          1309 non-null   object \n",
      " 5   Age          1046 non-null   float64\n",
      " 6   SibSp        1309 non-null   int64  \n",
      " 7   Parch        1309 non-null   int64  \n",
      " 8   Ticket       1309 non-null   object \n",
      " 9   Fare         1309 non-null   float64\n",
      " 10  Cabin        1309 non-null   object \n",
      " 11  Embarked     1309 non-null   object \n",
      "dtypes: float64(3), int64(4), object(5)\n",
      "memory usage: 122.8+ KB\n"
     ]
    }
   ],
   "source": [
    "all_data.info()"
   ]
  },
  {
   "cell_type": "code",
   "execution_count": 27,
   "id": "4f11c9ec",
   "metadata": {
    "scrolled": true
   },
   "outputs": [
    {
     "data": {
      "text/plain": [
       "Sex     Pclass\n",
       "female  1         37.037594\n",
       "        2         27.499223\n",
       "        3         22.185329\n",
       "male    1         41.029272\n",
       "        2         30.815380\n",
       "        3         25.962264\n",
       "Name: Age, dtype: float64"
      ]
     },
     "execution_count": 27,
     "metadata": {},
     "output_type": "execute_result"
    }
   ],
   "source": [
    "all_data.groupby(['Sex','Pclass']).Age.mean()\n"
   ]
  },
  {
   "cell_type": "code",
   "execution_count": 28,
   "id": "07669f7f",
   "metadata": {},
   "outputs": [],
   "source": [
    "mean_f1=37\n",
    "mean_f2=27\n",
    "mean_f3=22\n",
    "mean_m1=41\n",
    "mean_m2=31\n",
    "mean_m3=26"
   ]
  },
  {
   "cell_type": "code",
   "execution_count": 29,
   "id": "07694081",
   "metadata": {},
   "outputs": [],
   "source": [
    "train_data_c=train_data.copy()\n",
    "        "
   ]
  },
  {
   "cell_type": "code",
   "execution_count": 30,
   "id": "a821d8bc",
   "metadata": {},
   "outputs": [],
   "source": [
    "train_data_c.loc[(train_data_c['Sex']=='female') & (train_data_c['Pclass']==1), 'Age'] = train_data_c.loc[(train_data_c['Sex']=='female') & (train_data_c['Pclass']==1),'Age'].fillna(mean_f1)\n",
    "train_data_c.loc[(train_data_c['Sex']=='female') & (train_data_c['Pclass']==2), 'Age'] = train_data_c.loc[(train_data_c['Sex']=='female') & (train_data_c['Pclass']==2),'Age'].fillna(mean_f2)\n",
    "train_data_c.loc[(train_data_c['Sex']=='female') & (train_data_c['Pclass']==3), 'Age'] = train_data_c.loc[(train_data_c['Sex']=='female') & (train_data_c['Pclass']==3),'Age'].fillna(mean_f3)\n",
    "train_data_c.loc[(train_data_c['Sex']=='male') & (train_data_c['Pclass']==1), 'Age'] = train_data_c.loc[(train_data_c['Sex']=='male') & (train_data_c['Pclass']==1),'Age'].fillna(mean_m1)\n",
    "train_data_c.loc[(train_data_c['Sex']=='male') & (train_data_c['Pclass']==2), 'Age'] = train_data_c.loc[(train_data_c['Sex']=='male') & (train_data_c['Pclass']==2),'Age'].fillna(mean_m2)\n",
    "train_data_c.loc[(train_data_c['Sex']=='male') & (train_data_c['Pclass']==3), 'Age'] = train_data_c.loc[(train_data_c['Sex']=='male') & (train_data_c['Pclass']==3),'Age'].fillna(mean_m3)\n"
   ]
  },
  {
   "cell_type": "code",
   "execution_count": 31,
   "id": "5fdfbd90",
   "metadata": {
    "scrolled": true
   },
   "outputs": [
    {
     "data": {
      "text/plain": [
       "0"
      ]
     },
     "execution_count": 31,
     "metadata": {},
     "output_type": "execute_result"
    }
   ],
   "source": [
    "train_data_c['Age'].isnull().sum()"
   ]
  },
  {
   "cell_type": "code",
   "execution_count": 32,
   "id": "8ab9889d",
   "metadata": {},
   "outputs": [],
   "source": [
    "test_data_c=test_data.copy()"
   ]
  },
  {
   "cell_type": "code",
   "execution_count": 33,
   "id": "671e337c",
   "metadata": {},
   "outputs": [],
   "source": [
    "test_data_c.loc[(test_data_c['Sex']=='female') & (test_data_c['Pclass']==1), 'Age'] = test_data_c.loc[(test_data_c['Sex']=='female') & (test_data_c['Pclass']==1),'Age'].fillna(mean_f1)\n",
    "test_data_c.loc[(test_data_c['Sex']=='female') & (test_data_c['Pclass']==2), 'Age'] = test_data_c.loc[(test_data_c['Sex']=='female') & (test_data_c['Pclass']==2),'Age'].fillna(mean_f2)\n",
    "test_data_c.loc[(test_data_c['Sex']=='female') & (test_data_c['Pclass']==3), 'Age'] = test_data_c.loc[(test_data_c['Sex']=='female') & (test_data_c['Pclass']==3),'Age'].fillna(mean_f3)\n",
    "test_data_c.loc[(test_data_c['Sex']=='male') & (test_data_c['Pclass']==1), 'Age'] = test_data_c.loc[(test_data_c['Sex']=='male') & (test_data_c['Pclass']==1),'Age'].fillna(mean_m1)\n",
    "test_data_c.loc[(test_data_c['Sex']=='male') & (test_data_c['Pclass']==2), 'Age'] = test_data_c.loc[(test_data_c['Sex']=='male') & (test_data_c['Pclass']==2),'Age'].fillna(mean_m2)\n",
    "test_data_c.loc[(test_data_c['Sex']=='male') & (test_data_c['Pclass']==3), 'Age'] = test_data_c.loc[(test_data_c['Sex']=='male') & (test_data_c['Pclass']==3),'Age'].fillna(mean_m3)\n"
   ]
  },
  {
   "cell_type": "code",
   "execution_count": 34,
   "id": "210fa650",
   "metadata": {},
   "outputs": [
    {
     "data": {
      "text/plain": [
       "0"
      ]
     },
     "execution_count": 34,
     "metadata": {},
     "output_type": "execute_result"
    }
   ],
   "source": [
    "test_data_c['Age'].isnull().sum()"
   ]
  },
  {
   "cell_type": "code",
   "execution_count": 35,
   "id": "ce330a42",
   "metadata": {},
   "outputs": [
    {
     "name": "stdout",
     "output_type": "stream",
     "text": [
      "<class 'pandas.core.frame.DataFrame'>\n",
      "RangeIndex: 418 entries, 0 to 417\n",
      "Data columns (total 11 columns):\n",
      " #   Column       Non-Null Count  Dtype  \n",
      "---  ------       --------------  -----  \n",
      " 0   PassengerId  418 non-null    int64  \n",
      " 1   Pclass       418 non-null    int64  \n",
      " 2   Name         418 non-null    object \n",
      " 3   Sex          418 non-null    object \n",
      " 4   Age          418 non-null    float64\n",
      " 5   SibSp        418 non-null    int64  \n",
      " 6   Parch        418 non-null    int64  \n",
      " 7   Ticket       418 non-null    object \n",
      " 8   Fare         418 non-null    float64\n",
      " 9   Cabin        418 non-null    object \n",
      " 10  Embarked     418 non-null    object \n",
      "dtypes: float64(2), int64(4), object(5)\n",
      "memory usage: 36.0+ KB\n"
     ]
    }
   ],
   "source": [
    "test_data_c.info()"
   ]
  },
  {
   "cell_type": "markdown",
   "id": "dde7c4e7",
   "metadata": {},
   "source": [
    "#### Method 2: KNN imputer"
   ]
  },
  {
   "cell_type": "code",
   "execution_count": 36,
   "id": "43e7285d",
   "metadata": {},
   "outputs": [],
   "source": [
    "train_data_c2=train_data.copy()"
   ]
  },
  {
   "cell_type": "code",
   "execution_count": 37,
   "id": "cd9721d1",
   "metadata": {},
   "outputs": [],
   "source": [
    "test_data_c2=test_data.copy()"
   ]
  },
  {
   "cell_type": "code",
   "execution_count": 38,
   "id": "b0f9bf59",
   "metadata": {
    "scrolled": true
   },
   "outputs": [
    {
     "data": {
      "text/plain": [
       "PassengerId      0\n",
       "Survived         0\n",
       "Pclass           0\n",
       "Name             0\n",
       "Sex              0\n",
       "Age            177\n",
       "SibSp            0\n",
       "Parch            0\n",
       "Ticket           0\n",
       "Fare             0\n",
       "Cabin            0\n",
       "Embarked         0\n",
       "dtype: int64"
      ]
     },
     "execution_count": 38,
     "metadata": {},
     "output_type": "execute_result"
    }
   ],
   "source": [
    "train_data_c2.isnull().sum()"
   ]
  },
  {
   "cell_type": "code",
   "execution_count": 39,
   "id": "ca41fd0c",
   "metadata": {
    "scrolled": true
   },
   "outputs": [],
   "source": [
    "train_num=train_data_c2[['Age','Fare']]\n",
    "test_num=train_data_c2[['Age','Fare']]"
   ]
  },
  {
   "cell_type": "code",
   "execution_count": 40,
   "id": "39f48b3a",
   "metadata": {},
   "outputs": [],
   "source": [
    "imputer=KNNImputer(n_neighbors=1)\n",
    "array_train_num=imputer.fit_transform(train_num)\n",
    "train_num=pd.DataFrame(array_train_num, columns = train_num.columns)"
   ]
  },
  {
   "cell_type": "code",
   "execution_count": 41,
   "id": "8f807866",
   "metadata": {},
   "outputs": [],
   "source": [
    "imputer=KNNImputer(n_neighbors=1)\n",
    "array_test_num=imputer.fit_transform(test_num)\n",
    "test_num=pd.DataFrame(array_test_num, columns = test_num.columns)"
   ]
  },
  {
   "cell_type": "code",
   "execution_count": 42,
   "id": "4f647503",
   "metadata": {},
   "outputs": [
    {
     "name": "stdout",
     "output_type": "stream",
     "text": [
      "<class 'pandas.core.frame.DataFrame'>\n",
      "RangeIndex: 891 entries, 0 to 890\n",
      "Data columns (total 2 columns):\n",
      " #   Column  Non-Null Count  Dtype  \n",
      "---  ------  --------------  -----  \n",
      " 0   Age     891 non-null    float64\n",
      " 1   Fare    891 non-null    float64\n",
      "dtypes: float64(2)\n",
      "memory usage: 14.0 KB\n"
     ]
    }
   ],
   "source": [
    "train_num.info()"
   ]
  },
  {
   "cell_type": "code",
   "execution_count": 43,
   "id": "c77a88c3",
   "metadata": {},
   "outputs": [],
   "source": [
    "train_data_c2[['Age','Fare']]=train_num[['Age', 'Fare']]\n",
    "test_data_c2[['Age','Fare']]=test_num[['Age', 'Fare']]"
   ]
  },
  {
   "cell_type": "code",
   "execution_count": 44,
   "id": "a73b1763",
   "metadata": {},
   "outputs": [
    {
     "name": "stdout",
     "output_type": "stream",
     "text": [
      "<class 'pandas.core.frame.DataFrame'>\n",
      "RangeIndex: 891 entries, 0 to 890\n",
      "Data columns (total 12 columns):\n",
      " #   Column       Non-Null Count  Dtype  \n",
      "---  ------       --------------  -----  \n",
      " 0   PassengerId  891 non-null    int64  \n",
      " 1   Survived     891 non-null    int64  \n",
      " 2   Pclass       891 non-null    int64  \n",
      " 3   Name         891 non-null    object \n",
      " 4   Sex          891 non-null    object \n",
      " 5   Age          891 non-null    float64\n",
      " 6   SibSp        891 non-null    int64  \n",
      " 7   Parch        891 non-null    int64  \n",
      " 8   Ticket       891 non-null    object \n",
      " 9   Fare         891 non-null    float64\n",
      " 10  Cabin        891 non-null    object \n",
      " 11  Embarked     891 non-null    object \n",
      "dtypes: float64(2), int64(5), object(5)\n",
      "memory usage: 83.7+ KB\n"
     ]
    }
   ],
   "source": [
    "train_data_c2.info()"
   ]
  },
  {
   "cell_type": "code",
   "execution_count": 45,
   "id": "dc556d95",
   "metadata": {},
   "outputs": [
    {
     "name": "stdout",
     "output_type": "stream",
     "text": [
      "<class 'pandas.core.frame.DataFrame'>\n",
      "RangeIndex: 418 entries, 0 to 417\n",
      "Data columns (total 11 columns):\n",
      " #   Column       Non-Null Count  Dtype  \n",
      "---  ------       --------------  -----  \n",
      " 0   PassengerId  418 non-null    int64  \n",
      " 1   Pclass       418 non-null    int64  \n",
      " 2   Name         418 non-null    object \n",
      " 3   Sex          418 non-null    object \n",
      " 4   Age          418 non-null    float64\n",
      " 5   SibSp        418 non-null    int64  \n",
      " 6   Parch        418 non-null    int64  \n",
      " 7   Ticket       418 non-null    object \n",
      " 8   Fare         418 non-null    float64\n",
      " 9   Cabin        418 non-null    object \n",
      " 10  Embarked     418 non-null    object \n",
      "dtypes: float64(2), int64(4), object(5)\n",
      "memory usage: 36.0+ KB\n"
     ]
    }
   ],
   "source": [
    "test_data_c2.info()"
   ]
  },
  {
   "cell_type": "markdown",
   "id": "dc7b528f",
   "metadata": {},
   "source": [
    "## NOT FOR NOW: Creating a new column for titles"
   ]
  },
  {
   "cell_type": "code",
   "execution_count": 46,
   "id": "44642725",
   "metadata": {},
   "outputs": [],
   "source": [
    "#titles=['Mr', Mrs., Miss.]"
   ]
  },
  {
   "cell_type": "code",
   "execution_count": 47,
   "id": "53ae76c0",
   "metadata": {
    "scrolled": true
   },
   "outputs": [],
   "source": [
    "#test_data_c.Name.head(50)"
   ]
  },
  {
   "cell_type": "code",
   "execution_count": 48,
   "id": "c04b073f",
   "metadata": {},
   "outputs": [],
   "source": [
    "#test_data_c.isnull().sum()"
   ]
  },
  {
   "cell_type": "markdown",
   "id": "b19399fd",
   "metadata": {},
   "source": [
    "## Feature engineering"
   ]
  },
  {
   "cell_type": "markdown",
   "id": "9001b5ab",
   "metadata": {},
   "source": [
    "#### Change type of categorical data"
   ]
  },
  {
   "cell_type": "code",
   "execution_count": 49,
   "id": "439a0134",
   "metadata": {},
   "outputs": [
    {
     "data": {
      "text/html": [
       "<div>\n",
       "<style scoped>\n",
       "    .dataframe tbody tr th:only-of-type {\n",
       "        vertical-align: middle;\n",
       "    }\n",
       "\n",
       "    .dataframe tbody tr th {\n",
       "        vertical-align: top;\n",
       "    }\n",
       "\n",
       "    .dataframe thead th {\n",
       "        text-align: right;\n",
       "    }\n",
       "</style>\n",
       "<table border=\"1\" class=\"dataframe\">\n",
       "  <thead>\n",
       "    <tr style=\"text-align: right;\">\n",
       "      <th></th>\n",
       "      <th>PassengerId</th>\n",
       "      <th>Survived</th>\n",
       "      <th>Pclass</th>\n",
       "      <th>Name</th>\n",
       "      <th>Sex</th>\n",
       "      <th>Age</th>\n",
       "      <th>SibSp</th>\n",
       "      <th>Parch</th>\n",
       "      <th>Ticket</th>\n",
       "      <th>Fare</th>\n",
       "      <th>Cabin</th>\n",
       "      <th>Embarked</th>\n",
       "    </tr>\n",
       "  </thead>\n",
       "  <tbody>\n",
       "    <tr>\n",
       "      <th>0</th>\n",
       "      <td>1</td>\n",
       "      <td>0</td>\n",
       "      <td>3</td>\n",
       "      <td>Braund, Mr. Owen Harris</td>\n",
       "      <td>male</td>\n",
       "      <td>22.0</td>\n",
       "      <td>1</td>\n",
       "      <td>0</td>\n",
       "      <td>A/5 21171</td>\n",
       "      <td>7.2500</td>\n",
       "      <td>no_cabin</td>\n",
       "      <td>S</td>\n",
       "    </tr>\n",
       "    <tr>\n",
       "      <th>1</th>\n",
       "      <td>2</td>\n",
       "      <td>1</td>\n",
       "      <td>1</td>\n",
       "      <td>Cumings, Mrs. John Bradley (Florence Briggs Th...</td>\n",
       "      <td>female</td>\n",
       "      <td>38.0</td>\n",
       "      <td>1</td>\n",
       "      <td>0</td>\n",
       "      <td>PC 17599</td>\n",
       "      <td>71.2833</td>\n",
       "      <td>C85</td>\n",
       "      <td>C</td>\n",
       "    </tr>\n",
       "    <tr>\n",
       "      <th>2</th>\n",
       "      <td>3</td>\n",
       "      <td>1</td>\n",
       "      <td>3</td>\n",
       "      <td>Heikkinen, Miss. Laina</td>\n",
       "      <td>female</td>\n",
       "      <td>26.0</td>\n",
       "      <td>0</td>\n",
       "      <td>0</td>\n",
       "      <td>STON/O2. 3101282</td>\n",
       "      <td>7.9250</td>\n",
       "      <td>no_cabin</td>\n",
       "      <td>S</td>\n",
       "    </tr>\n",
       "    <tr>\n",
       "      <th>3</th>\n",
       "      <td>4</td>\n",
       "      <td>1</td>\n",
       "      <td>1</td>\n",
       "      <td>Futrelle, Mrs. Jacques Heath (Lily May Peel)</td>\n",
       "      <td>female</td>\n",
       "      <td>35.0</td>\n",
       "      <td>1</td>\n",
       "      <td>0</td>\n",
       "      <td>113803</td>\n",
       "      <td>53.1000</td>\n",
       "      <td>C123</td>\n",
       "      <td>S</td>\n",
       "    </tr>\n",
       "    <tr>\n",
       "      <th>4</th>\n",
       "      <td>5</td>\n",
       "      <td>0</td>\n",
       "      <td>3</td>\n",
       "      <td>Allen, Mr. William Henry</td>\n",
       "      <td>male</td>\n",
       "      <td>35.0</td>\n",
       "      <td>0</td>\n",
       "      <td>0</td>\n",
       "      <td>373450</td>\n",
       "      <td>8.0500</td>\n",
       "      <td>no_cabin</td>\n",
       "      <td>S</td>\n",
       "    </tr>\n",
       "  </tbody>\n",
       "</table>\n",
       "</div>"
      ],
      "text/plain": [
       "   PassengerId  Survived  Pclass  \\\n",
       "0            1         0       3   \n",
       "1            2         1       1   \n",
       "2            3         1       3   \n",
       "3            4         1       1   \n",
       "4            5         0       3   \n",
       "\n",
       "                                                Name     Sex   Age  SibSp  \\\n",
       "0                            Braund, Mr. Owen Harris    male  22.0      1   \n",
       "1  Cumings, Mrs. John Bradley (Florence Briggs Th...  female  38.0      1   \n",
       "2                             Heikkinen, Miss. Laina  female  26.0      0   \n",
       "3       Futrelle, Mrs. Jacques Heath (Lily May Peel)  female  35.0      1   \n",
       "4                           Allen, Mr. William Henry    male  35.0      0   \n",
       "\n",
       "   Parch            Ticket     Fare     Cabin Embarked  \n",
       "0      0         A/5 21171   7.2500  no_cabin        S  \n",
       "1      0          PC 17599  71.2833       C85        C  \n",
       "2      0  STON/O2. 3101282   7.9250  no_cabin        S  \n",
       "3      0            113803  53.1000      C123        S  \n",
       "4      0            373450   8.0500  no_cabin        S  "
      ]
     },
     "execution_count": 49,
     "metadata": {},
     "output_type": "execute_result"
    }
   ],
   "source": [
    "train_data_c.head()"
   ]
  },
  {
   "cell_type": "code",
   "execution_count": 50,
   "id": "4c3b948d",
   "metadata": {},
   "outputs": [
    {
     "name": "stdout",
     "output_type": "stream",
     "text": [
      "PassengerId [  1   2   3   4   5   6   7   8   9  10  11  12  13  14  15  16  17  18\n",
      "  19  20  21  22  23  24  25  26  27  28  29  30  31  32  33  34  35  36\n",
      "  37  38  39  40  41  42  43  44  45  46  47  48  49  50  51  52  53  54\n",
      "  55  56  57  58  59  60  61  62  63  64  65  66  67  68  69  70  71  72\n",
      "  73  74  75  76  77  78  79  80  81  82  83  84  85  86  87  88  89  90\n",
      "  91  92  93  94  95  96  97  98  99 100 101 102 103 104 105 106 107 108\n",
      " 109 110 111 112 113 114 115 116 117 118 119 120 121 122 123 124 125 126\n",
      " 127 128 129 130 131 132 133 134 135 136 137 138 139 140 141 142 143 144\n",
      " 145 146 147 148 149 150 151 152 153 154 155 156 157 158 159 160 161 162\n",
      " 163 164 165 166 167 168 169 170 171 172 173 174 175 176 177 178 179 180\n",
      " 181 182 183 184 185 186 187 188 189 190 191 192 193 194 195 196 197 198\n",
      " 199 200 201 202 203 204 205 206 207 208 209 210 211 212 213 214 215 216\n",
      " 217 218 219 220 221 222 223 224 225 226 227 228 229 230 231 232 233 234\n",
      " 235 236 237 238 239 240 241 242 243 244 245 246 247 248 249 250 251 252\n",
      " 253 254 255 256 257 258 259 260 261 262 263 264 265 266 267 268 269 270\n",
      " 271 272 273 274 275 276 277 278 279 280 281 282 283 284 285 286 287 288\n",
      " 289 290 291 292 293 294 295 296 297 298 299 300 301 302 303 304 305 306\n",
      " 307 308 309 310 311 312 313 314 315 316 317 318 319 320 321 322 323 324\n",
      " 325 326 327 328 329 330 331 332 333 334 335 336 337 338 339 340 341 342\n",
      " 343 344 345 346 347 348 349 350 351 352 353 354 355 356 357 358 359 360\n",
      " 361 362 363 364 365 366 367 368 369 370 371 372 373 374 375 376 377 378\n",
      " 379 380 381 382 383 384 385 386 387 388 389 390 391 392 393 394 395 396\n",
      " 397 398 399 400 401 402 403 404 405 406 407 408 409 410 411 412 413 414\n",
      " 415 416 417 418 419 420 421 422 423 424 425 426 427 428 429 430 431 432\n",
      " 433 434 435 436 437 438 439 440 441 442 443 444 445 446 447 448 449 450\n",
      " 451 452 453 454 455 456 457 458 459 460 461 462 463 464 465 466 467 468\n",
      " 469 470 471 472 473 474 475 476 477 478 479 480 481 482 483 484 485 486\n",
      " 487 488 489 490 491 492 493 494 495 496 497 498 499 500 501 502 503 504\n",
      " 505 506 507 508 509 510 511 512 513 514 515 516 517 518 519 520 521 522\n",
      " 523 524 525 526 527 528 529 530 531 532 533 534 535 536 537 538 539 540\n",
      " 541 542 543 544 545 546 547 548 549 550 551 552 553 554 555 556 557 558\n",
      " 559 560 561 562 563 564 565 566 567 568 569 570 571 572 573 574 575 576\n",
      " 577 578 579 580 581 582 583 584 585 586 587 588 589 590 591 592 593 594\n",
      " 595 596 597 598 599 600 601 602 603 604 605 606 607 608 609 610 611 612\n",
      " 613 614 615 616 617 618 619 620 621 622 623 624 625 626 627 628 629 630\n",
      " 631 632 633 634 635 636 637 638 639 640 641 642 643 644 645 646 647 648\n",
      " 649 650 651 652 653 654 655 656 657 658 659 660 661 662 663 664 665 666\n",
      " 667 668 669 670 671 672 673 674 675 676 677 678 679 680 681 682 683 684\n",
      " 685 686 687 688 689 690 691 692 693 694 695 696 697 698 699 700 701 702\n",
      " 703 704 705 706 707 708 709 710 711 712 713 714 715 716 717 718 719 720\n",
      " 721 722 723 724 725 726 727 728 729 730 731 732 733 734 735 736 737 738\n",
      " 739 740 741 742 743 744 745 746 747 748 749 750 751 752 753 754 755 756\n",
      " 757 758 759 760 761 762 763 764 765 766 767 768 769 770 771 772 773 774\n",
      " 775 776 777 778 779 780 781 782 783 784 785 786 787 788 789 790 791 792\n",
      " 793 794 795 796 797 798 799 800 801 802 803 804 805 806 807 808 809 810\n",
      " 811 812 813 814 815 816 817 818 819 820 821 822 823 824 825 826 827 828\n",
      " 829 830 831 832 833 834 835 836 837 838 839 840 841 842 843 844 845 846\n",
      " 847 848 849 850 851 852 853 854 855 856 857 858 859 860 861 862 863 864\n",
      " 865 866 867 868 869 870 871 872 873 874 875 876 877 878 879 880 881 882\n",
      " 883 884 885 886 887 888 889 890 891]\n",
      "Survived [0 1]\n",
      "Pclass [3 1 2]\n",
      "Name ['Braund, Mr. Owen Harris'\n",
      " 'Cumings, Mrs. John Bradley (Florence Briggs Thayer)'\n",
      " 'Heikkinen, Miss. Laina' 'Futrelle, Mrs. Jacques Heath (Lily May Peel)'\n",
      " 'Allen, Mr. William Henry' 'Moran, Mr. James' 'McCarthy, Mr. Timothy J'\n",
      " 'Palsson, Master. Gosta Leonard'\n",
      " 'Johnson, Mrs. Oscar W (Elisabeth Vilhelmina Berg)'\n",
      " 'Nasser, Mrs. Nicholas (Adele Achem)' 'Sandstrom, Miss. Marguerite Rut'\n",
      " 'Bonnell, Miss. Elizabeth' 'Saundercock, Mr. William Henry'\n",
      " 'Andersson, Mr. Anders Johan' 'Vestrom, Miss. Hulda Amanda Adolfina'\n",
      " 'Hewlett, Mrs. (Mary D Kingcome) ' 'Rice, Master. Eugene'\n",
      " 'Williams, Mr. Charles Eugene'\n",
      " 'Vander Planke, Mrs. Julius (Emelia Maria Vandemoortele)'\n",
      " 'Masselmani, Mrs. Fatima' 'Fynney, Mr. Joseph J' 'Beesley, Mr. Lawrence'\n",
      " 'McGowan, Miss. Anna \"Annie\"' 'Sloper, Mr. William Thompson'\n",
      " 'Palsson, Miss. Torborg Danira'\n",
      " 'Asplund, Mrs. Carl Oscar (Selma Augusta Emilia Johansson)'\n",
      " 'Emir, Mr. Farred Chehab' 'Fortune, Mr. Charles Alexander'\n",
      " 'O\\'Dwyer, Miss. Ellen \"Nellie\"' 'Todoroff, Mr. Lalio'\n",
      " 'Uruchurtu, Don. Manuel E'\n",
      " 'Spencer, Mrs. William Augustus (Marie Eugenie)'\n",
      " 'Glynn, Miss. Mary Agatha' 'Wheadon, Mr. Edward H'\n",
      " 'Meyer, Mr. Edgar Joseph' 'Holverson, Mr. Alexander Oskar'\n",
      " 'Mamee, Mr. Hanna' 'Cann, Mr. Ernest Charles'\n",
      " 'Vander Planke, Miss. Augusta Maria' 'Nicola-Yarred, Miss. Jamila'\n",
      " 'Ahlin, Mrs. Johan (Johanna Persdotter Larsson)'\n",
      " 'Turpin, Mrs. William John Robert (Dorothy Ann Wonnacott)'\n",
      " 'Kraeff, Mr. Theodor' 'Laroche, Miss. Simonne Marie Anne Andree'\n",
      " 'Devaney, Miss. Margaret Delia' 'Rogers, Mr. William John'\n",
      " 'Lennon, Mr. Denis' \"O'Driscoll, Miss. Bridget\" 'Samaan, Mr. Youssef'\n",
      " 'Arnold-Franchi, Mrs. Josef (Josefine Franchi)'\n",
      " 'Panula, Master. Juha Niilo' 'Nosworthy, Mr. Richard Cater'\n",
      " 'Harper, Mrs. Henry Sleeper (Myna Haxtun)'\n",
      " 'Faunthorpe, Mrs. Lizzie (Elizabeth Anne Wilkinson)'\n",
      " 'Ostby, Mr. Engelhart Cornelius' 'Woolner, Mr. Hugh' 'Rugg, Miss. Emily'\n",
      " 'Novel, Mr. Mansouer' 'West, Miss. Constance Mirium'\n",
      " 'Goodwin, Master. William Frederick' 'Sirayanian, Mr. Orsen'\n",
      " 'Icard, Miss. Amelie' 'Harris, Mr. Henry Birkhardt'\n",
      " 'Skoog, Master. Harald' 'Stewart, Mr. Albert A'\n",
      " 'Moubarek, Master. Gerios' 'Nye, Mrs. (Elizabeth Ramell)'\n",
      " 'Crease, Mr. Ernest James' 'Andersson, Miss. Erna Alexandra'\n",
      " 'Kink, Mr. Vincenz' 'Jenkin, Mr. Stephen Curnow'\n",
      " 'Goodwin, Miss. Lillian Amy' 'Hood, Mr. Ambrose Jr'\n",
      " 'Chronopoulos, Mr. Apostolos' 'Bing, Mr. Lee' 'Moen, Mr. Sigurd Hansen'\n",
      " 'Staneff, Mr. Ivan' 'Moutal, Mr. Rahamin Haim'\n",
      " 'Caldwell, Master. Alden Gates' 'Dowdell, Miss. Elizabeth'\n",
      " 'Waelens, Mr. Achille' 'Sheerlinck, Mr. Jan Baptist'\n",
      " 'McDermott, Miss. Brigdet Delia' 'Carrau, Mr. Francisco M'\n",
      " 'Ilett, Miss. Bertha'\n",
      " 'Backstrom, Mrs. Karl Alfred (Maria Mathilda Gustafsson)'\n",
      " 'Ford, Mr. William Neal' 'Slocovski, Mr. Selman Francis'\n",
      " 'Fortune, Miss. Mabel Helen' 'Celotti, Mr. Francesco'\n",
      " 'Christmann, Mr. Emil' 'Andreasson, Mr. Paul Edvin'\n",
      " 'Chaffee, Mr. Herbert Fuller' 'Dean, Mr. Bertram Frank'\n",
      " 'Coxon, Mr. Daniel' 'Shorney, Mr. Charles Joseph'\n",
      " 'Goldschmidt, Mr. George B' 'Greenfield, Mr. William Bertram'\n",
      " 'Doling, Mrs. John T (Ada Julia Bone)' 'Kantor, Mr. Sinai'\n",
      " 'Petranec, Miss. Matilda' 'Petroff, Mr. Pastcho (\"Pentcho\")'\n",
      " 'White, Mr. Richard Frasar' 'Johansson, Mr. Gustaf Joel'\n",
      " 'Gustafsson, Mr. Anders Vilhelm' 'Mionoff, Mr. Stoytcho'\n",
      " 'Salkjelsvik, Miss. Anna Kristine' 'Moss, Mr. Albert Johan'\n",
      " 'Rekic, Mr. Tido' 'Moran, Miss. Bertha' 'Porter, Mr. Walter Chamberlain'\n",
      " 'Zabour, Miss. Hileni' 'Barton, Mr. David John' 'Jussila, Miss. Katriina'\n",
      " 'Attalah, Miss. Malake' 'Pekoniemi, Mr. Edvard' 'Connors, Mr. Patrick'\n",
      " 'Turpin, Mr. William John Robert' 'Baxter, Mr. Quigg Edmond'\n",
      " 'Andersson, Miss. Ellis Anna Maria' 'Hickman, Mr. Stanley George'\n",
      " 'Moore, Mr. Leonard Charles' 'Nasser, Mr. Nicholas' 'Webber, Miss. Susan'\n",
      " 'White, Mr. Percival Wayland' 'Nicola-Yarred, Master. Elias'\n",
      " 'McMahon, Mr. Martin' 'Madsen, Mr. Fridtjof Arne' 'Peter, Miss. Anna'\n",
      " 'Ekstrom, Mr. Johan' 'Drazenoic, Mr. Jozef'\n",
      " 'Coelho, Mr. Domingos Fernandeo'\n",
      " 'Robins, Mrs. Alexander A (Grace Charity Laury)'\n",
      " 'Weisz, Mrs. Leopold (Mathilde Francoise Pede)'\n",
      " 'Sobey, Mr. Samuel James Hayden' 'Richard, Mr. Emile'\n",
      " 'Newsom, Miss. Helen Monypeny' 'Futrelle, Mr. Jacques Heath'\n",
      " 'Osen, Mr. Olaf Elon' 'Giglio, Mr. Victor'\n",
      " 'Boulos, Mrs. Joseph (Sultana)' 'Nysten, Miss. Anna Sofia'\n",
      " 'Hakkarainen, Mrs. Pekka Pietari (Elin Matilda Dolck)'\n",
      " 'Burke, Mr. Jeremiah' 'Andrew, Mr. Edgardo Samuel'\n",
      " 'Nicholls, Mr. Joseph Charles'\n",
      " 'Andersson, Mr. August Edvard (\"Wennerstrom\")'\n",
      " 'Ford, Miss. Robina Maggie \"Ruby\"'\n",
      " 'Navratil, Mr. Michel (\"Louis M Hoffman\")'\n",
      " 'Byles, Rev. Thomas Roussel Davids' 'Bateman, Rev. Robert James'\n",
      " 'Pears, Mrs. Thomas (Edith Wearne)' 'Meo, Mr. Alfonzo'\n",
      " 'van Billiard, Mr. Austin Blyler' 'Olsen, Mr. Ole Martin'\n",
      " 'Williams, Mr. Charles Duane' 'Gilnagh, Miss. Katherine \"Katie\"'\n",
      " 'Corn, Mr. Harry' 'Smiljanic, Mr. Mile' 'Sage, Master. Thomas Henry'\n",
      " 'Cribb, Mr. John Hatfield'\n",
      " 'Watt, Mrs. James (Elizabeth \"Bessie\" Inglis Milne)'\n",
      " 'Bengtsson, Mr. John Viktor' 'Calic, Mr. Jovo'\n",
      " 'Panula, Master. Eino Viljami'\n",
      " 'Goldsmith, Master. Frank John William \"Frankie\"'\n",
      " 'Chibnall, Mrs. (Edith Martha Bowerman)'\n",
      " 'Skoog, Mrs. William (Anna Bernhardina Karlsson)' 'Baumann, Mr. John D'\n",
      " 'Ling, Mr. Lee' 'Van der hoef, Mr. Wyckoff' 'Rice, Master. Arthur'\n",
      " 'Johnson, Miss. Eleanor Ileen' 'Sivola, Mr. Antti Wilhelm'\n",
      " 'Smith, Mr. James Clinch' 'Klasen, Mr. Klas Albin'\n",
      " 'Lefebre, Master. Henry Forbes' 'Isham, Miss. Ann Elizabeth'\n",
      " 'Hale, Mr. Reginald' 'Leonard, Mr. Lionel' 'Sage, Miss. Constance Gladys'\n",
      " 'Pernot, Mr. Rene' 'Asplund, Master. Clarence Gustaf Hugo'\n",
      " 'Becker, Master. Richard F' 'Kink-Heilmann, Miss. Luise Gretchen'\n",
      " 'Rood, Mr. Hugh Roscoe'\n",
      " 'O\\'Brien, Mrs. Thomas (Johanna \"Hannah\" Godfrey)'\n",
      " 'Romaine, Mr. Charles Hallace (\"Mr C Rolmane\")' 'Bourke, Mr. John'\n",
      " 'Turcin, Mr. Stjepan' 'Pinsky, Mrs. (Rosa)' 'Carbines, Mr. William'\n",
      " 'Andersen-Jensen, Miss. Carla Christine Nielsine'\n",
      " 'Navratil, Master. Michel M' 'Brown, Mrs. James Joseph (Margaret Tobin)'\n",
      " 'Lurette, Miss. Elise' 'Mernagh, Mr. Robert'\n",
      " 'Olsen, Mr. Karl Siegwart Andreas' 'Madigan, Miss. Margaret \"Maggie\"'\n",
      " 'Yrois, Miss. Henriette (\"Mrs Harbeck\")' 'Vande Walle, Mr. Nestor Cyriel'\n",
      " 'Sage, Mr. Frederick' 'Johanson, Mr. Jakob Alfred' 'Youseff, Mr. Gerious'\n",
      " 'Cohen, Mr. Gurshon \"Gus\"' 'Strom, Miss. Telma Matilda'\n",
      " 'Backstrom, Mr. Karl Alfred' 'Albimona, Mr. Nassef Cassem'\n",
      " 'Carr, Miss. Helen \"Ellen\"' 'Blank, Mr. Henry' 'Ali, Mr. Ahmed'\n",
      " 'Cameron, Miss. Clear Annie' 'Perkin, Mr. John Henry'\n",
      " 'Givard, Mr. Hans Kristensen' 'Kiernan, Mr. Philip'\n",
      " 'Newell, Miss. Madeleine' 'Honkanen, Miss. Eliina'\n",
      " 'Jacobsohn, Mr. Sidney Samuel' 'Bazzani, Miss. Albina'\n",
      " 'Harris, Mr. Walter' 'Sunderland, Mr. Victor Francis'\n",
      " 'Bracken, Mr. James H' 'Green, Mr. George Henry' 'Nenkoff, Mr. Christo'\n",
      " 'Hoyt, Mr. Frederick Maxfield' 'Berglund, Mr. Karl Ivar Sven'\n",
      " 'Mellors, Mr. William John' 'Lovell, Mr. John Hall (\"Henry\")'\n",
      " 'Fahlstrom, Mr. Arne Jonas' 'Lefebre, Miss. Mathilde'\n",
      " 'Harris, Mrs. Henry Birkhardt (Irene Wallach)' 'Larsson, Mr. Bengt Edvin'\n",
      " 'Sjostedt, Mr. Ernst Adolf' 'Asplund, Miss. Lillian Gertrud'\n",
      " 'Leyson, Mr. Robert William Norman' 'Harknett, Miss. Alice Phoebe'\n",
      " 'Hold, Mr. Stephen' 'Collyer, Miss. Marjorie \"Lottie\"'\n",
      " 'Pengelly, Mr. Frederick William' 'Hunt, Mr. George Henry'\n",
      " 'Zabour, Miss. Thamine' 'Murphy, Miss. Katherine \"Kate\"'\n",
      " 'Coleridge, Mr. Reginald Charles' 'Maenpaa, Mr. Matti Alexanteri'\n",
      " 'Attalah, Mr. Sleiman' 'Minahan, Dr. William Edward'\n",
      " 'Lindahl, Miss. Agda Thorilda Viktoria' 'Hamalainen, Mrs. William (Anna)'\n",
      " 'Beckwith, Mr. Richard Leonard' 'Carter, Rev. Ernest Courtenay'\n",
      " 'Reed, Mr. James George' 'Strom, Mrs. Wilhelm (Elna Matilda Persson)'\n",
      " 'Stead, Mr. William Thomas' 'Lobb, Mr. William Arthur'\n",
      " 'Rosblom, Mrs. Viktor (Helena Wilhelmina)'\n",
      " 'Touma, Mrs. Darwis (Hanne Youssef Razi)'\n",
      " 'Thorne, Mrs. Gertrude Maybelle' 'Cherry, Miss. Gladys'\n",
      " 'Ward, Miss. Anna' 'Parrish, Mrs. (Lutie Davis)' 'Smith, Mr. Thomas'\n",
      " 'Asplund, Master. Edvin Rojj Felix' 'Taussig, Mr. Emil'\n",
      " 'Harrison, Mr. William' 'Henry, Miss. Delia' 'Reeves, Mr. David'\n",
      " 'Panula, Mr. Ernesti Arvid' 'Persson, Mr. Ernst Ulrik'\n",
      " 'Graham, Mrs. William Thompson (Edith Junkins)' 'Bissette, Miss. Amelia'\n",
      " 'Cairns, Mr. Alexander' 'Tornquist, Mr. William Henry'\n",
      " 'Mellinger, Mrs. (Elizabeth Anne Maidment)' 'Natsch, Mr. Charles H'\n",
      " 'Healy, Miss. Hanora \"Nora\"' 'Andrews, Miss. Kornelia Theodosia'\n",
      " 'Lindblom, Miss. Augusta Charlotta' 'Parkes, Mr. Francis \"Frank\"'\n",
      " 'Rice, Master. Eric' 'Abbott, Mrs. Stanton (Rosa Hunt)'\n",
      " 'Duane, Mr. Frank' 'Olsson, Mr. Nils Johan Goransson'\n",
      " 'de Pelsmaeker, Mr. Alfons' 'Dorking, Mr. Edward Arthur'\n",
      " 'Smith, Mr. Richard William' 'Stankovic, Mr. Ivan'\n",
      " 'de Mulder, Mr. Theodore' 'Naidenoff, Mr. Penko' 'Hosono, Mr. Masabumi'\n",
      " 'Connolly, Miss. Kate' 'Barber, Miss. Ellen \"Nellie\"'\n",
      " 'Bishop, Mrs. Dickinson H (Helen Walton)' 'Levy, Mr. Rene Jacques'\n",
      " 'Haas, Miss. Aloisia' 'Mineff, Mr. Ivan' 'Lewy, Mr. Ervin G'\n",
      " 'Hanna, Mr. Mansour' 'Allison, Miss. Helen Loraine'\n",
      " 'Saalfeld, Mr. Adolphe' 'Baxter, Mrs. James (Helene DeLaudeniere Chaput)'\n",
      " 'Kelly, Miss. Anna Katherine \"Annie Kate\"' 'McCoy, Mr. Bernard'\n",
      " 'Johnson, Mr. William Cahoone Jr' 'Keane, Miss. Nora A'\n",
      " 'Williams, Mr. Howard Hugh \"Harry\"' 'Allison, Master. Hudson Trevor'\n",
      " 'Fleming, Miss. Margaret'\n",
      " 'Penasco y Castellana, Mrs. Victor de Satode (Maria Josefa Perez de Soto y Vallejo)'\n",
      " 'Abelson, Mr. Samuel' 'Francatelli, Miss. Laura Mabel'\n",
      " 'Hays, Miss. Margaret Bechstein' 'Ryerson, Miss. Emily Borie'\n",
      " 'Lahtinen, Mrs. William (Anna Sylfven)' 'Hendekovic, Mr. Ignjac'\n",
      " 'Hart, Mr. Benjamin' 'Nilsson, Miss. Helmina Josefina'\n",
      " 'Kantor, Mrs. Sinai (Miriam Sternin)' 'Moraweck, Dr. Ernest'\n",
      " 'Wick, Miss. Mary Natalie'\n",
      " 'Spedden, Mrs. Frederic Oakley (Margaretta Corning Stone)'\n",
      " 'Dennis, Mr. Samuel' 'Danoff, Mr. Yoto' 'Slayter, Miss. Hilda Mary'\n",
      " 'Caldwell, Mrs. Albert Francis (Sylvia Mae Harbaugh)'\n",
      " 'Sage, Mr. George John Jr' 'Young, Miss. Marie Grice'\n",
      " 'Nysveen, Mr. Johan Hansen' 'Ball, Mrs. (Ada E Hall)'\n",
      " 'Goldsmith, Mrs. Frank John (Emily Alice Brown)'\n",
      " 'Hippach, Miss. Jean Gertrude' 'McCoy, Miss. Agnes' 'Partner, Mr. Austen'\n",
      " 'Graham, Mr. George Edward' 'Vander Planke, Mr. Leo Edmondus'\n",
      " 'Frauenthal, Mrs. Henry William (Clara Heinsheimer)' 'Denkoff, Mr. Mitto'\n",
      " 'Pears, Mr. Thomas Clinton' 'Burns, Miss. Elizabeth Margaret'\n",
      " 'Dahl, Mr. Karl Edwart' 'Blackwell, Mr. Stephen Weart'\n",
      " 'Navratil, Master. Edmond Roger' 'Fortune, Miss. Alice Elizabeth'\n",
      " 'Collander, Mr. Erik Gustaf' 'Sedgwick, Mr. Charles Frederick Waddington'\n",
      " 'Fox, Mr. Stanley Hubert' 'Brown, Miss. Amelia \"Mildred\"'\n",
      " 'Smith, Miss. Marion Elsie' 'Davison, Mrs. Thomas Henry (Mary E Finck)'\n",
      " 'Coutts, Master. William Loch \"William\"' 'Dimic, Mr. Jovan'\n",
      " 'Odahl, Mr. Nils Martin' 'Williams-Lambert, Mr. Fletcher Fellows'\n",
      " 'Elias, Mr. Tannous' 'Arnold-Franchi, Mr. Josef' 'Yousif, Mr. Wazli'\n",
      " 'Vanden Steen, Mr. Leo Peter' 'Bowerman, Miss. Elsie Edith'\n",
      " 'Funk, Miss. Annie Clemmer' 'McGovern, Miss. Mary'\n",
      " 'Mockler, Miss. Helen Mary \"Ellie\"' 'Skoog, Mr. Wilhelm'\n",
      " 'del Carlo, Mr. Sebastiano' 'Barbara, Mrs. (Catherine David)'\n",
      " 'Asim, Mr. Adola' \"O'Brien, Mr. Thomas\" 'Adahl, Mr. Mauritz Nils Martin'\n",
      " 'Warren, Mrs. Frank Manley (Anna Sophia Atkinson)'\n",
      " 'Moussa, Mrs. (Mantoura Boulos)' 'Jermyn, Miss. Annie'\n",
      " 'Aubart, Mme. Leontine Pauline' 'Harder, Mr. George Achilles'\n",
      " 'Wiklund, Mr. Jakob Alfred' 'Beavan, Mr. William Thomas'\n",
      " 'Ringhini, Mr. Sante' 'Palsson, Miss. Stina Viola'\n",
      " 'Meyer, Mrs. Edgar Joseph (Leila Saks)' 'Landergren, Miss. Aurora Adelia'\n",
      " 'Widener, Mr. Harry Elkins' 'Betros, Mr. Tannous'\n",
      " 'Gustafsson, Mr. Karl Gideon' 'Bidois, Miss. Rosalie'\n",
      " 'Nakid, Miss. Maria (\"Mary\")' 'Tikkanen, Mr. Juho'\n",
      " 'Holverson, Mrs. Alexander Oskar (Mary Aline Towner)'\n",
      " 'Plotcharsky, Mr. Vasil' 'Davies, Mr. Charles Henry'\n",
      " 'Goodwin, Master. Sidney Leonard' 'Buss, Miss. Kate'\n",
      " 'Sadlier, Mr. Matthew' 'Lehmann, Miss. Bertha'\n",
      " 'Carter, Mr. William Ernest' 'Jansson, Mr. Carl Olof'\n",
      " 'Gustafsson, Mr. Johan Birger' 'Newell, Miss. Marjorie'\n",
      " 'Sandstrom, Mrs. Hjalmar (Agnes Charlotta Bengtsson)'\n",
      " 'Johansson, Mr. Erik' 'Olsson, Miss. Elina' 'McKane, Mr. Peter David'\n",
      " 'Pain, Dr. Alfred' 'Trout, Mrs. William H (Jessie L)'\n",
      " 'Niskanen, Mr. Juha' 'Adams, Mr. John' 'Jussila, Miss. Mari Aina'\n",
      " 'Hakkarainen, Mr. Pekka Pietari' 'Oreskovic, Miss. Marija'\n",
      " 'Gale, Mr. Shadrach' 'Widegren, Mr. Carl/Charles Peter'\n",
      " 'Richards, Master. William Rowe' 'Birkeland, Mr. Hans Martin Monsen'\n",
      " 'Lefebre, Miss. Ida' 'Sdycoff, Mr. Todor' 'Hart, Mr. Henry'\n",
      " 'Minahan, Miss. Daisy E' 'Cunningham, Mr. Alfred Fleming'\n",
      " 'Sundman, Mr. Johan Julian' 'Meek, Mrs. Thomas (Annie Louise Rowley)'\n",
      " 'Drew, Mrs. James Vivian (Lulu Thorne Christian)'\n",
      " 'Silven, Miss. Lyyli Karoliina' 'Matthews, Mr. William John'\n",
      " 'Van Impe, Miss. Catharina' 'Gheorgheff, Mr. Stanio'\n",
      " 'Charters, Mr. David' 'Zimmerman, Mr. Leo'\n",
      " 'Danbom, Mrs. Ernst Gilbert (Anna Sigrid Maria Brogren)'\n",
      " 'Rosblom, Mr. Viktor Richard' 'Wiseman, Mr. Phillippe'\n",
      " 'Clarke, Mrs. Charles V (Ada Maria Winfield)'\n",
      " 'Phillips, Miss. Kate Florence (\"Mrs Kate Louise Phillips Marshall\")'\n",
      " 'Flynn, Mr. James' 'Pickard, Mr. Berk (Berk Trembisky)'\n",
      " 'Bjornstrom-Steffansson, Mr. Mauritz Hakan'\n",
      " 'Thorneycroft, Mrs. Percival (Florence Kate White)'\n",
      " 'Louch, Mrs. Charles Alexander (Alice Adelaide Slow)'\n",
      " 'Kallio, Mr. Nikolai Erland' 'Silvey, Mr. William Baird'\n",
      " 'Carter, Miss. Lucile Polk' 'Ford, Miss. Doolina Margaret \"Daisy\"'\n",
      " 'Richards, Mrs. Sidney (Emily Hocking)' 'Fortune, Mr. Mark'\n",
      " 'Kvillner, Mr. Johan Henrik Johannesson'\n",
      " 'Hart, Mrs. Benjamin (Esther Ada Bloomfield)' 'Hampe, Mr. Leon'\n",
      " 'Petterson, Mr. Johan Emil' 'Reynaldo, Ms. Encarnacion'\n",
      " 'Johannesen-Bratthammer, Mr. Bernt' 'Dodge, Master. Washington'\n",
      " 'Mellinger, Miss. Madeleine Violet' 'Seward, Mr. Frederic Kimber'\n",
      " 'Baclini, Miss. Marie Catherine' 'Peuchen, Major. Arthur Godfrey'\n",
      " 'West, Mr. Edwy Arthur' 'Hagland, Mr. Ingvald Olai Olsen'\n",
      " 'Foreman, Mr. Benjamin Laventall' 'Goldenberg, Mr. Samuel L'\n",
      " 'Peduzzi, Mr. Joseph' 'Jalsevac, Mr. Ivan' 'Millet, Mr. Francis Davis'\n",
      " 'Kenyon, Mrs. Frederick R (Marion)' 'Toomey, Miss. Ellen'\n",
      " \"O'Connor, Mr. Maurice\" 'Anderson, Mr. Harry' 'Morley, Mr. William'\n",
      " 'Gee, Mr. Arthur H' 'Milling, Mr. Jacob Christian' 'Maisner, Mr. Simon'\n",
      " 'Goncalves, Mr. Manuel Estanslas' 'Campbell, Mr. William'\n",
      " 'Smart, Mr. John Montgomery' 'Scanlan, Mr. James'\n",
      " 'Baclini, Miss. Helene Barbara' 'Keefe, Mr. Arthur' 'Cacic, Mr. Luka'\n",
      " 'West, Mrs. Edwy Arthur (Ada Mary Worth)'\n",
      " 'Jerwan, Mrs. Amin S (Marie Marthe Thuillard)'\n",
      " 'Strandberg, Miss. Ida Sofia' 'Clifford, Mr. George Quincy'\n",
      " 'Renouf, Mr. Peter Henry' 'Braund, Mr. Lewis Richard'\n",
      " 'Karlsson, Mr. Nils August' 'Hirvonen, Miss. Hildur E'\n",
      " 'Goodwin, Master. Harold Victor' 'Frost, Mr. Anthony Wood \"Archie\"'\n",
      " 'Rouse, Mr. Richard Henry' 'Turkula, Mrs. (Hedwig)'\n",
      " 'Bishop, Mr. Dickinson H' 'Lefebre, Miss. Jeannie'\n",
      " 'Hoyt, Mrs. Frederick Maxfield (Jane Anne Forby)'\n",
      " 'Kent, Mr. Edward Austin' 'Somerton, Mr. Francis William'\n",
      " 'Coutts, Master. Eden Leslie \"Neville\"'\n",
      " 'Hagland, Mr. Konrad Mathias Reiersen' 'Windelov, Mr. Einar'\n",
      " 'Molson, Mr. Harry Markland' 'Artagaveytia, Mr. Ramon'\n",
      " 'Stanley, Mr. Edward Roland' 'Yousseff, Mr. Gerious'\n",
      " 'Eustis, Miss. Elizabeth Mussey' 'Shellard, Mr. Frederick William'\n",
      " 'Allison, Mrs. Hudson J C (Bessie Waldo Daniels)' 'Svensson, Mr. Olof'\n",
      " 'Calic, Mr. Petar' 'Canavan, Miss. Mary' \"O'Sullivan, Miss. Bridget Mary\"\n",
      " 'Laitinen, Miss. Kristina Sofia' 'Maioni, Miss. Roberta'\n",
      " 'Penasco y Castellana, Mr. Victor de Satode'\n",
      " 'Quick, Mrs. Frederick Charles (Jane Richards)'\n",
      " 'Bradley, Mr. George (\"George Arthur Brayton\")'\n",
      " 'Olsen, Mr. Henry Margido' 'Lang, Mr. Fang' 'Daly, Mr. Eugene Patrick'\n",
      " 'Webber, Mr. James' 'McGough, Mr. James Robert'\n",
      " 'Rothschild, Mrs. Martin (Elizabeth L. Barrett)' 'Coleff, Mr. Satio'\n",
      " 'Walker, Mr. William Anderson' 'Lemore, Mrs. (Amelia Milley)'\n",
      " 'Ryan, Mr. Patrick'\n",
      " 'Angle, Mrs. William A (Florence \"Mary\" Agnes Hughes)'\n",
      " 'Pavlovic, Mr. Stefo' 'Perreault, Miss. Anne' 'Vovk, Mr. Janko'\n",
      " 'Lahoud, Mr. Sarkis' 'Hippach, Mrs. Louis Albert (Ida Sophia Fischer)'\n",
      " 'Kassem, Mr. Fared' 'Farrell, Mr. James' 'Ridsdale, Miss. Lucy'\n",
      " 'Farthing, Mr. John' 'Salonen, Mr. Johan Werner'\n",
      " 'Hocking, Mr. Richard George' 'Quick, Miss. Phyllis May'\n",
      " 'Toufik, Mr. Nakli' 'Elias, Mr. Joseph Jr'\n",
      " 'Peter, Mrs. Catherine (Catherine Rizk)' 'Cacic, Miss. Marija'\n",
      " 'Hart, Miss. Eva Miriam' 'Butt, Major. Archibald Willingham'\n",
      " 'LeRoy, Miss. Bertha' 'Risien, Mr. Samuel Beard'\n",
      " 'Frolicher, Miss. Hedwig Margaritha' 'Crosby, Miss. Harriet R'\n",
      " 'Andersson, Miss. Ingeborg Constanzia'\n",
      " 'Andersson, Miss. Sigrid Elisabeth' 'Beane, Mr. Edward'\n",
      " 'Douglas, Mr. Walter Donald' 'Nicholson, Mr. Arthur Ernest'\n",
      " 'Beane, Mrs. Edward (Ethel Clarke)' 'Padro y Manent, Mr. Julian'\n",
      " 'Goldsmith, Mr. Frank John' 'Davies, Master. John Morgan Jr'\n",
      " 'Thayer, Mr. John Borland Jr' 'Sharp, Mr. Percival James R'\n",
      " \"O'Brien, Mr. Timothy\" 'Leeni, Mr. Fahim (\"Philip Zenni\")'\n",
      " 'Ohman, Miss. Velin' 'Wright, Mr. George'\n",
      " 'Duff Gordon, Lady. (Lucille Christiana Sutherland) (\"Mrs Morgan\")'\n",
      " 'Robbins, Mr. Victor' 'Taussig, Mrs. Emil (Tillie Mandelbaum)'\n",
      " 'de Messemaeker, Mrs. Guillaume Joseph (Emma)' 'Morrow, Mr. Thomas Rowan'\n",
      " 'Sivic, Mr. Husein' 'Norman, Mr. Robert Douglas' 'Simmons, Mr. John'\n",
      " 'Meanwell, Miss. (Marion Ogden)' 'Davies, Mr. Alfred J'\n",
      " 'Stoytcheff, Mr. Ilia' 'Palsson, Mrs. Nils (Alma Cornelia Berglund)'\n",
      " 'Doharr, Mr. Tannous' 'Jonsson, Mr. Carl' 'Harris, Mr. George'\n",
      " 'Appleton, Mrs. Edward Dale (Charlotte Lamson)'\n",
      " 'Flynn, Mr. John Irwin (\"Irving\")' 'Kelly, Miss. Mary'\n",
      " 'Rush, Mr. Alfred George John' 'Patchett, Mr. George'\n",
      " 'Garside, Miss. Ethel' 'Silvey, Mrs. William Baird (Alice Munger)'\n",
      " 'Caram, Mrs. Joseph (Maria Elias)' 'Jussila, Mr. Eiriik'\n",
      " 'Christy, Miss. Julie Rachel'\n",
      " 'Thayer, Mrs. John Borland (Marian Longstreth Morris)'\n",
      " 'Downton, Mr. William James' 'Ross, Mr. John Hugo' 'Paulner, Mr. Uscher'\n",
      " 'Taussig, Miss. Ruth' 'Jarvis, Mr. John Denzil'\n",
      " 'Frolicher-Stehli, Mr. Maxmillian' 'Gilinski, Mr. Eliezer'\n",
      " 'Murdlin, Mr. Joseph' 'Rintamaki, Mr. Matti'\n",
      " 'Stephenson, Mrs. Walter Bertram (Martha Eustis)'\n",
      " 'Elsbury, Mr. William James' 'Bourke, Miss. Mary'\n",
      " 'Chapman, Mr. John Henry' 'Van Impe, Mr. Jean Baptiste'\n",
      " 'Leitch, Miss. Jessie Wills' 'Johnson, Mr. Alfred' 'Boulos, Mr. Hanna'\n",
      " 'Duff Gordon, Sir. Cosmo Edmund (\"Mr Morgan\")'\n",
      " 'Jacobsohn, Mrs. Sidney Samuel (Amy Frances Christy)'\n",
      " 'Slabenoff, Mr. Petco' 'Harrington, Mr. Charles H'\n",
      " 'Torber, Mr. Ernst William' 'Homer, Mr. Harry (\"Mr E Haven\")'\n",
      " 'Lindell, Mr. Edvard Bengtsson' 'Karaic, Mr. Milan'\n",
      " 'Daniel, Mr. Robert Williams'\n",
      " 'Laroche, Mrs. Joseph (Juliette Marie Louise Lafargue)'\n",
      " 'Shutes, Miss. Elizabeth W'\n",
      " 'Andersson, Mrs. Anders Johan (Alfrida Konstantia Brogren)'\n",
      " 'Jardin, Mr. Jose Neto' 'Murphy, Miss. Margaret Jane' 'Horgan, Mr. John'\n",
      " 'Brocklebank, Mr. William Alfred' 'Herman, Miss. Alice'\n",
      " 'Danbom, Mr. Ernst Gilbert'\n",
      " 'Lobb, Mrs. William Arthur (Cordelia K Stanlick)'\n",
      " 'Becker, Miss. Marion Louise' 'Gavey, Mr. Lawrence' 'Yasbeck, Mr. Antoni'\n",
      " 'Kimball, Mr. Edwin Nelson Jr' 'Nakid, Mr. Sahid'\n",
      " 'Hansen, Mr. Henry Damsgaard' 'Bowen, Mr. David John \"Dai\"'\n",
      " 'Sutton, Mr. Frederick' 'Kirkland, Rev. Charles Leonard'\n",
      " 'Longley, Miss. Gretchen Fiske' 'Bostandyeff, Mr. Guentcho'\n",
      " \"O'Connell, Mr. Patrick D\" 'Barkworth, Mr. Algernon Henry Wilson'\n",
      " 'Lundahl, Mr. Johan Svensson' 'Stahelin-Maeglin, Dr. Max'\n",
      " 'Parr, Mr. William Henry Marsh' 'Skoog, Miss. Mabel' 'Davis, Miss. Mary'\n",
      " 'Leinonen, Mr. Antti Gustaf' 'Collyer, Mr. Harvey'\n",
      " 'Panula, Mrs. Juha (Maria Emilia Ojala)' 'Thorneycroft, Mr. Percival'\n",
      " 'Jensen, Mr. Hans Peder' 'Sagesser, Mlle. Emma'\n",
      " 'Skoog, Miss. Margit Elizabeth' 'Foo, Mr. Choong'\n",
      " 'Baclini, Miss. Eugenie' 'Harper, Mr. Henry Sleeper' 'Cor, Mr. Liudevit'\n",
      " 'Simonius-Blumer, Col. Oberst Alfons' 'Willey, Mr. Edward'\n",
      " 'Stanley, Miss. Amy Zillah Elsie' 'Mitkoff, Mr. Mito'\n",
      " 'Doling, Miss. Elsie' 'Kalvik, Mr. Johannes Halvorsen'\n",
      " 'O\\'Leary, Miss. Hanora \"Norah\"' 'Hegarty, Miss. Hanora \"Nora\"'\n",
      " 'Hickman, Mr. Leonard Mark' 'Radeff, Mr. Alexander'\n",
      " 'Bourke, Mrs. John (Catherine)' 'Eitemiller, Mr. George Floyd'\n",
      " 'Newell, Mr. Arthur Webster' 'Frauenthal, Dr. Henry William'\n",
      " 'Badt, Mr. Mohamed' 'Colley, Mr. Edward Pomeroy' 'Coleff, Mr. Peju'\n",
      " 'Lindqvist, Mr. Eino William' 'Hickman, Mr. Lewis'\n",
      " 'Butler, Mr. Reginald Fenton' 'Rommetvedt, Mr. Knud Paust'\n",
      " 'Cook, Mr. Jacob' 'Taylor, Mrs. Elmer Zebley (Juliet Cummins Wright)'\n",
      " 'Brown, Mrs. Thomas William Solomon (Elizabeth Catherine Ford)'\n",
      " 'Davidson, Mr. Thornton' 'Mitchell, Mr. Henry Michael'\n",
      " 'Wilhelms, Mr. Charles' 'Watson, Mr. Ennis Hastings'\n",
      " 'Edvardsson, Mr. Gustaf Hjalmar' 'Sawyer, Mr. Frederick Charles'\n",
      " 'Turja, Miss. Anna Sofia' 'Goodwin, Mrs. Frederick (Augusta Tyler)'\n",
      " 'Cardeza, Mr. Thomas Drake Martinez' 'Peters, Miss. Katie'\n",
      " 'Hassab, Mr. Hammad' 'Olsvigen, Mr. Thor Anderson'\n",
      " 'Goodwin, Mr. Charles Edward' 'Brown, Mr. Thomas William Solomon'\n",
      " 'Laroche, Mr. Joseph Philippe Lemercier' 'Panula, Mr. Jaako Arnold'\n",
      " 'Dakic, Mr. Branko' 'Fischer, Mr. Eberhard Thelander'\n",
      " 'Madill, Miss. Georgette Alexandra' 'Dick, Mr. Albert Adrian'\n",
      " 'Karun, Miss. Manca' 'Lam, Mr. Ali' 'Saad, Mr. Khalil' 'Weir, Col. John'\n",
      " 'Chapman, Mr. Charles Henry' 'Kelly, Mr. James'\n",
      " 'Mullens, Miss. Katherine \"Katie\"' 'Thayer, Mr. John Borland'\n",
      " 'Humblen, Mr. Adolf Mathias Nicolai Olsen'\n",
      " 'Astor, Mrs. John Jacob (Madeleine Talmadge Force)'\n",
      " 'Silverthorne, Mr. Spencer Victor' 'Barbara, Miss. Saiide'\n",
      " 'Gallagher, Mr. Martin' 'Hansen, Mr. Henrik Juul'\n",
      " 'Morley, Mr. Henry Samuel (\"Mr Henry Marshall\")'\n",
      " 'Kelly, Mrs. Florence \"Fannie\"' 'Calderhead, Mr. Edward Pennington'\n",
      " 'Cleaver, Miss. Alice'\n",
      " 'Moubarek, Master. Halim Gonios (\"William George\")'\n",
      " 'Mayne, Mlle. Berthe Antonine (\"Mrs de Villiers\")' 'Klaber, Mr. Herman'\n",
      " 'Taylor, Mr. Elmer Zebley' 'Larsson, Mr. August Viktor'\n",
      " 'Greenberg, Mr. Samuel' 'Soholt, Mr. Peter Andreas Lauritz Andersen'\n",
      " 'Endres, Miss. Caroline Louise' 'Troutt, Miss. Edwina Celia \"Winnie\"'\n",
      " 'McEvoy, Mr. Michael' 'Johnson, Mr. Malkolm Joackim'\n",
      " 'Harper, Miss. Annie Jessie \"Nina\"' 'Jensen, Mr. Svend Lauritz'\n",
      " 'Gillespie, Mr. William Henry' 'Hodges, Mr. Henry Price'\n",
      " 'Chambers, Mr. Norman Campbell' 'Oreskovic, Mr. Luka'\n",
      " 'Renouf, Mrs. Peter Henry (Lillian Jefferys)' 'Mannion, Miss. Margareth'\n",
      " 'Bryhl, Mr. Kurt Arnold Gottfrid' 'Ilmakangas, Miss. Pieta Sofia'\n",
      " 'Allen, Miss. Elisabeth Walton' 'Hassan, Mr. Houssein G N'\n",
      " 'Knight, Mr. Robert J' 'Berriman, Mr. William John'\n",
      " 'Troupiansky, Mr. Moses Aaron' 'Williams, Mr. Leslie'\n",
      " 'Ford, Mrs. Edward (Margaret Ann Watson)' 'Lesurer, Mr. Gustave J'\n",
      " 'Ivanoff, Mr. Kanio' 'Nankoff, Mr. Minko' 'Hawksford, Mr. Walter James'\n",
      " 'Cavendish, Mr. Tyrell William' 'Ryerson, Miss. Susan Parker \"Suzette\"'\n",
      " 'McNamee, Mr. Neal' 'Stranden, Mr. Juho' 'Crosby, Capt. Edward Gifford'\n",
      " 'Abbott, Mr. Rossmore Edward' 'Sinkkonen, Miss. Anna'\n",
      " 'Marvin, Mr. Daniel Warner' 'Connaghton, Mr. Michael' 'Wells, Miss. Joan'\n",
      " 'Moor, Master. Meier' 'Vande Velde, Mr. Johannes Joseph'\n",
      " 'Jonkoff, Mr. Lalio' 'Herman, Mrs. Samuel (Jane Laver)'\n",
      " 'Hamalainen, Master. Viljo' 'Carlsson, Mr. August Sigfrid'\n",
      " 'Bailey, Mr. Percy Andrew' 'Theobald, Mr. Thomas Leonard'\n",
      " 'Rothes, the Countess. of (Lucy Noel Martha Dyer-Edwards)'\n",
      " 'Garfirth, Mr. John' 'Nirva, Mr. Iisakki Antino Aijo'\n",
      " 'Barah, Mr. Hanna Assi' 'Carter, Mrs. William Ernest (Lucile Polk)'\n",
      " 'Eklund, Mr. Hans Linus' 'Hogeboom, Mrs. John C (Anna Andrews)'\n",
      " 'Brewe, Dr. Arthur Jackson' 'Mangan, Miss. Mary' 'Moran, Mr. Daniel J'\n",
      " 'Gronnestad, Mr. Daniel Danielsen' 'Lievens, Mr. Rene Aime'\n",
      " 'Jensen, Mr. Niels Peder' 'Mack, Mrs. (Mary)' 'Elias, Mr. Dibo'\n",
      " 'Hocking, Mrs. Elizabeth (Eliza Needs)'\n",
      " 'Myhrman, Mr. Pehr Fabian Oliver Malkolm' 'Tobin, Mr. Roger'\n",
      " 'Emanuel, Miss. Virginia Ethel' 'Kilgannon, Mr. Thomas J'\n",
      " 'Robert, Mrs. Edward Scott (Elisabeth Walton McMillan)'\n",
      " 'Ayoub, Miss. Banoura' 'Dick, Mrs. Albert Adrian (Vera Gillespie)'\n",
      " 'Long, Mr. Milton Clyde' 'Johnston, Mr. Andrew G' 'Ali, Mr. William'\n",
      " 'Harmer, Mr. Abraham (David Lishin)' 'Sjoblom, Miss. Anna Sofia'\n",
      " 'Rice, Master. George Hugh' 'Dean, Master. Bertram Vere'\n",
      " 'Guggenheim, Mr. Benjamin' 'Keane, Mr. Andrew \"Andy\"'\n",
      " 'Gaskell, Mr. Alfred' 'Sage, Miss. Stella Anna'\n",
      " 'Hoyt, Mr. William Fisher' 'Dantcheff, Mr. Ristiu' 'Otter, Mr. Richard'\n",
      " 'Leader, Dr. Alice (Farnham)' 'Osman, Mrs. Mara'\n",
      " 'Ibrahim Shawah, Mr. Yousseff'\n",
      " 'Van Impe, Mrs. Jean Baptiste (Rosalie Paula Govaert)'\n",
      " 'Ponesell, Mr. Martin' 'Collyer, Mrs. Harvey (Charlotte Annie Tate)'\n",
      " 'Carter, Master. William Thornton II' 'Thomas, Master. Assad Alexander'\n",
      " 'Hedman, Mr. Oskar Arvid' 'Johansson, Mr. Karl Johan'\n",
      " 'Andrews, Mr. Thomas Jr' 'Pettersson, Miss. Ellen Natalia'\n",
      " 'Meyer, Mr. August' 'Chambers, Mrs. Norman Campbell (Bertha Griggs)'\n",
      " 'Alexander, Mr. William' 'Lester, Mr. James' 'Slemen, Mr. Richard James'\n",
      " 'Andersson, Miss. Ebba Iris Alfrida' 'Tomlin, Mr. Ernest Portage'\n",
      " 'Fry, Mr. Richard' 'Heininen, Miss. Wendla Maria' 'Mallet, Mr. Albert'\n",
      " 'Holm, Mr. John Fredrik Alexander' 'Skoog, Master. Karl Thorsten'\n",
      " 'Hays, Mrs. Charles Melville (Clara Jennings Gregg)' 'Lulic, Mr. Nikola'\n",
      " 'Reuchlin, Jonkheer. John George' 'Moor, Mrs. (Beila)'\n",
      " 'Panula, Master. Urho Abraham' 'Flynn, Mr. John' 'Lam, Mr. Len'\n",
      " 'Mallet, Master. Andre' 'McCormack, Mr. Thomas Joseph'\n",
      " 'Stone, Mrs. George Nelson (Martha Evelyn)'\n",
      " 'Yasbeck, Mrs. Antoni (Selini Alexander)'\n",
      " 'Richards, Master. George Sibley' 'Saad, Mr. Amin'\n",
      " 'Augustsson, Mr. Albert' 'Allum, Mr. Owen George'\n",
      " 'Compton, Miss. Sara Rebecca' 'Pasic, Mr. Jakob' 'Sirota, Mr. Maurice'\n",
      " 'Chip, Mr. Chang' 'Marechal, Mr. Pierre' 'Alhomaki, Mr. Ilmari Rudolf'\n",
      " 'Mudd, Mr. Thomas Charles' 'Serepeca, Miss. Augusta'\n",
      " 'Lemberopolous, Mr. Peter L' 'Culumovic, Mr. Jeso' 'Abbing, Mr. Anthony'\n",
      " 'Sage, Mr. Douglas Bullen' 'Markoff, Mr. Marin' 'Harper, Rev. John'\n",
      " 'Goldenberg, Mrs. Samuel L (Edwiga Grabowska)'\n",
      " 'Andersson, Master. Sigvard Harald Elias' 'Svensson, Mr. Johan'\n",
      " 'Boulos, Miss. Nourelain' 'Lines, Miss. Mary Conover'\n",
      " 'Carter, Mrs. Ernest Courtenay (Lilian Hughes)'\n",
      " 'Aks, Mrs. Sam (Leah Rosen)' 'Wick, Mrs. George Dennick (Mary Hitchcock)'\n",
      " 'Daly, Mr. Peter Denis ' 'Baclini, Mrs. Solomon (Latifa Qurban)'\n",
      " 'Razi, Mr. Raihed' 'Hansen, Mr. Claus Peter'\n",
      " 'Giles, Mr. Frederick Edward'\n",
      " 'Swift, Mrs. Frederick Joel (Margaret Welles Barron)'\n",
      " 'Sage, Miss. Dorothy Edith \"Dolly\"' 'Gill, Mr. John William'\n",
      " 'Bystrom, Mrs. (Karolina)' 'Duran y More, Miss. Asuncion'\n",
      " 'Roebling, Mr. Washington Augustus II' 'van Melkebeke, Mr. Philemon'\n",
      " 'Johnson, Master. Harold Theodor' 'Balkic, Mr. Cerin'\n",
      " 'Beckwith, Mrs. Richard Leonard (Sallie Monypeny)'\n",
      " 'Carlsson, Mr. Frans Olof' 'Vander Cruyssen, Mr. Victor'\n",
      " 'Abelson, Mrs. Samuel (Hannah Wizosky)'\n",
      " 'Najib, Miss. Adele Kiamie \"Jane\"' 'Gustafsson, Mr. Alfred Ossian'\n",
      " 'Petroff, Mr. Nedelio' 'Laleff, Mr. Kristo'\n",
      " 'Potter, Mrs. Thomas Jr (Lily Alexenia Wilson)'\n",
      " 'Shelley, Mrs. William (Imanita Parrish Hall)' 'Markun, Mr. Johann'\n",
      " 'Dahlberg, Miss. Gerda Ulrika' 'Banfield, Mr. Frederick James'\n",
      " 'Sutehall, Mr. Henry Jr' 'Rice, Mrs. William (Margaret Norton)'\n",
      " 'Montvila, Rev. Juozas' 'Graham, Miss. Margaret Edith'\n",
      " 'Johnston, Miss. Catherine Helen \"Carrie\"' 'Behr, Mr. Karl Howell'\n",
      " 'Dooley, Mr. Patrick']\n",
      "Sex ['male' 'female']\n",
      "Age [22.   38.   26.   35.   54.    2.   27.   14.    4.   58.   20.   39.\n",
      " 55.   31.   34.   15.   28.    8.   19.   40.   37.   66.   42.   21.\n",
      " 18.    3.    7.   49.   29.   65.   41.   28.5   5.   11.   45.   17.\n",
      " 32.   16.   25.    0.83 30.   33.   23.   24.   46.   59.   71.   47.\n",
      " 14.5  70.5  32.5  12.    9.   36.5  51.   55.5  40.5  44.    1.   61.\n",
      " 56.   50.   36.   45.5  20.5  62.   52.   63.   23.5   0.92 43.   60.\n",
      " 10.   64.   13.   48.    0.75 53.   57.   80.   70.   24.5   6.    0.67\n",
      " 30.5   0.42 34.5  74.  ]\n",
      "SibSp [1 0 3 4 2 5 8]\n",
      "Parch [0 1 2 5 3 4 6]\n",
      "Ticket ['A/5 21171' 'PC 17599' 'STON/O2. 3101282' '113803' '373450' '330877'\n",
      " '17463' '349909' '347742' '237736' 'PP 9549' '113783' 'A/5. 2151'\n",
      " '347082' '350406' '248706' '382652' '244373' '345763' '2649' '239865'\n",
      " '248698' '330923' '113788' '347077' '2631' '19950' '330959' '349216'\n",
      " 'PC 17601' 'PC 17569' '335677' 'C.A. 24579' 'PC 17604' '113789' '2677'\n",
      " 'A./5. 2152' '345764' '2651' '7546' '11668' '349253' 'SC/Paris 2123'\n",
      " '330958' 'S.C./A.4. 23567' '370371' '14311' '2662' '349237' '3101295'\n",
      " 'A/4. 39886' 'PC 17572' '2926' '113509' '19947' 'C.A. 31026' '2697'\n",
      " 'C.A. 34651' 'CA 2144' '2669' '113572' '36973' '347088' 'PC 17605' '2661'\n",
      " 'C.A. 29395' 'S.P. 3464' '3101281' '315151' 'C.A. 33111' 'S.O.C. 14879'\n",
      " '2680' '1601' '348123' '349208' '374746' '248738' '364516' '345767'\n",
      " '345779' '330932' '113059' 'SO/C 14885' '3101278' 'W./C. 6608'\n",
      " 'SOTON/OQ 392086' '343275' '343276' '347466' 'W.E.P. 5734' 'C.A. 2315'\n",
      " '364500' '374910' 'PC 17754' 'PC 17759' '231919' '244367' '349245'\n",
      " '349215' '35281' '7540' '3101276' '349207' '343120' '312991' '349249'\n",
      " '371110' '110465' '2665' '324669' '4136' '2627' 'STON/O 2. 3101294'\n",
      " '370369' 'PC 17558' 'A4. 54510' '27267' '370372' 'C 17369' '2668'\n",
      " '347061' '349241' 'SOTON/O.Q. 3101307' 'A/5. 3337' '228414' 'C.A. 29178'\n",
      " 'SC/PARIS 2133' '11752' '7534' 'PC 17593' '2678' '347081'\n",
      " 'STON/O2. 3101279' '365222' '231945' 'C.A. 33112' '350043' '230080'\n",
      " '244310' 'S.O.P. 1166' '113776' 'A.5. 11206' 'A/5. 851' 'Fa 265302'\n",
      " 'PC 17597' '35851' 'SOTON/OQ 392090' '315037' 'CA. 2343' '371362'\n",
      " 'C.A. 33595' '347068' '315093' '363291' '113505' 'PC 17318' '111240'\n",
      " 'STON/O 2. 3101280' '17764' '350404' '4133' 'PC 17595' '250653' 'LINE'\n",
      " 'SC/PARIS 2131' '230136' '315153' '113767' '370365' '111428' '364849'\n",
      " '349247' '234604' '28424' '350046' 'PC 17610' '368703' '4579' '370370'\n",
      " '248747' '345770' '3101264' '2628' 'A/5 3540' '347054' '2699' '367231'\n",
      " '112277' 'SOTON/O.Q. 3101311' 'F.C.C. 13528' 'A/5 21174' '250646'\n",
      " '367229' '35273' 'STON/O2. 3101283' '243847' '11813' 'W/C 14208'\n",
      " 'SOTON/OQ 392089' '220367' '21440' '349234' '19943' 'PP 4348' 'SW/PP 751'\n",
      " 'A/5 21173' '236171' '347067' '237442' 'C.A. 29566' 'W./C. 6609' '26707'\n",
      " 'C.A. 31921' '28665' 'SCO/W 1585' '367230' 'W./C. 14263'\n",
      " 'STON/O 2. 3101275' '2694' '19928' '347071' '250649' '11751' '244252'\n",
      " '362316' '113514' 'A/5. 3336' '370129' '2650' 'PC 17585' '110152'\n",
      " 'PC 17755' '230433' '384461' '110413' '112059' '382649' 'C.A. 17248'\n",
      " '347083' 'PC 17582' 'PC 17760' '113798' '250644' 'PC 17596' '370375'\n",
      " '13502' '347073' '239853' 'C.A. 2673' '336439' '347464' '345778'\n",
      " 'A/5. 10482' '113056' '349239' '345774' '349206' '237798' '370373'\n",
      " '19877' '11967' 'SC/Paris 2163' '349236' '349233' 'PC 17612' '2693'\n",
      " '113781' '19988' '9234' '367226' '226593' 'A/5 2466' '17421' 'PC 17758'\n",
      " 'P/PP 3381' 'PC 17485' '11767' 'PC 17608' '250651' '349243'\n",
      " 'F.C.C. 13529' '347470' '29011' '36928' '16966' 'A/5 21172' '349219'\n",
      " '234818' '345364' '28551' '111361' '113043' 'PC 17611' '349225' '7598'\n",
      " '113784' '248740' '244361' '229236' '248733' '31418' '386525'\n",
      " 'C.A. 37671' '315088' '7267' '113510' '2695' '2647' '345783' '237671'\n",
      " '330931' '330980' 'SC/PARIS 2167' '2691' 'SOTON/O.Q. 3101310' 'C 7076'\n",
      " '110813' '2626' '14313' 'PC 17477' '11765' '3101267' '323951' 'C 7077'\n",
      " '113503' '2648' '347069' 'PC 17757' '2653' 'STON/O 2. 3101293' '349227'\n",
      " '27849' '367655' 'SC 1748' '113760' '350034' '3101277' '350052' '350407'\n",
      " '28403' '244278' '240929' 'STON/O 2. 3101289' '341826' '4137' '315096'\n",
      " '28664' '347064' '29106' '312992' '349222' '394140' 'STON/O 2. 3101269'\n",
      " '343095' '28220' '250652' '28228' '345773' '349254' 'A/5. 13032' '315082'\n",
      " '347080' 'A/4. 34244' '2003' '250655' '364851' 'SOTON/O.Q. 392078'\n",
      " '110564' '376564' 'SC/AH 3085' 'STON/O 2. 3101274' '13507' 'C.A. 18723'\n",
      " '345769' '347076' '230434' '65306' '33638' '113794' '2666' '113786'\n",
      " '65303' '113051' '17453' 'A/5 2817' '349240' '13509' '17464'\n",
      " 'F.C.C. 13531' '371060' '19952' '364506' '111320' '234360' 'A/S 2816'\n",
      " 'SOTON/O.Q. 3101306' '113792' '36209' '323592' '315089' 'SC/AH Basle 541'\n",
      " '7553' '31027' '3460' '350060' '3101298' '239854' 'A/5 3594' '4134'\n",
      " '11771' 'A.5. 18509' '65304' 'SOTON/OQ 3101317' '113787' 'PC 17609'\n",
      " 'A/4 45380' '36947' 'C.A. 6212' '350035' '315086' '364846' '330909'\n",
      " '4135' '26360' '111427' 'C 4001' '382651' 'SOTON/OQ 3101316' 'PC 17473'\n",
      " 'PC 17603' '349209' '36967' 'C.A. 34260' '226875' '349242' '12749'\n",
      " '349252' '2624' '2700' '367232' 'W./C. 14258' 'PC 17483' '3101296'\n",
      " '29104' '2641' '2690' '315084' '113050' 'PC 17761' '364498' '13568'\n",
      " 'WE/P 5735' '2908' '693' 'SC/PARIS 2146' '244358' '330979' '2620'\n",
      " '347085' '113807' '11755' '345572' '372622' '349251' '218629'\n",
      " 'SOTON/OQ 392082' 'SOTON/O.Q. 392087' 'A/4 48871' '349205' '2686'\n",
      " '350417' 'S.W./PP 752' '11769' 'PC 17474' '14312' 'A/4. 20589' '358585'\n",
      " '243880' '2689' 'STON/O 2. 3101286' '237789' '13049' '3411' '237565'\n",
      " '13567' '14973' 'A./5. 3235' 'STON/O 2. 3101273' 'A/5 3902' '364848'\n",
      " 'SC/AH 29037' '248727' '2664' '349214' '113796' '364511' '111426'\n",
      " '349910' '349246' '113804' 'SOTON/O.Q. 3101305' '370377' '364512'\n",
      " '220845' '31028' '2659' '11753' '350029' '54636' '36963' '219533'\n",
      " '349224' '334912' '27042' '347743' '13214' '112052' '237668'\n",
      " 'STON/O 2. 3101292' '350050' '349231' '13213' 'S.O./P.P. 751' 'CA. 2314'\n",
      " '349221' '8475' '330919' '365226' '349223' '29751' '2623' '5727' '349210'\n",
      " 'STON/O 2. 3101285' '234686' '312993' 'A/5 3536' '19996' '29750'\n",
      " 'F.C. 12750' 'C.A. 24580' '244270' '239856' '349912' '342826' '4138'\n",
      " '330935' '6563' '349228' '350036' '24160' '17474' '349256' '2672'\n",
      " '113800' '248731' '363592' '35852' '348121' 'PC 17475' '36864' '350025'\n",
      " '223596' 'PC 17476' 'PC 17482' '113028' '7545' '250647' '348124' '34218'\n",
      " '36568' '347062' '350048' '12233' '250643' '113806' '315094' '36866'\n",
      " '236853' 'STON/O2. 3101271' '239855' '28425' '233639' '349201' '349218'\n",
      " '16988' '376566' 'STON/O 2. 3101288' '250648' '113773' '335097' '29103'\n",
      " '392096' '345780' '349204' '350042' '29108' '363294' 'SOTON/O2 3101272'\n",
      " '2663' '347074' '112379' '364850' '8471' '345781' '350047' 'S.O./P.P. 3'\n",
      " '2674' '29105' '347078' '383121' '36865' '2687' '113501' 'W./C. 6607'\n",
      " 'SOTON/O.Q. 3101312' '374887' '3101265' '12460' 'PC 17600' '349203'\n",
      " '28213' '17465' '349244' '2685' '2625' '347089' '347063' '112050'\n",
      " '347087' '248723' '3474' '28206' '364499' '112058' 'STON/O2. 3101290'\n",
      " 'S.C./PARIS 2079' 'C 7075' '315098' '19972' '368323' '367228' '2671'\n",
      " '347468' '2223' 'PC 17756' '315097' '392092' '11774' 'SOTON/O2 3101287'\n",
      " '2683' '315090' 'C.A. 5547' '349213' '347060' 'PC 17592' '392091'\n",
      " '113055' '2629' '350026' '28134' '17466' '233866' '236852'\n",
      " 'SC/PARIS 2149' 'PC 17590' '345777' '349248' '695' '345765' '2667'\n",
      " '349212' '349217' '349257' '7552' 'C.A./SOTON 34068' 'SOTON/OQ 392076'\n",
      " '211536' '112053' '111369' '370376']\n",
      "Fare [  7.25    71.2833   7.925   53.1      8.05     8.4583  51.8625  21.075\n",
      "  11.1333  30.0708  16.7     26.55    31.275    7.8542  16.      29.125\n",
      "  13.      18.       7.225   26.       8.0292  35.5     31.3875 263.\n",
      "   7.8792   7.8958  27.7208 146.5208   7.75    10.5     82.1708  52.\n",
      "   7.2292  11.2417   9.475   21.      41.5792  15.5     21.6792  17.8\n",
      "  39.6875   7.8     76.7292  61.9792  27.75    46.9     80.      83.475\n",
      "  27.9     15.2458   8.1583   8.6625  73.5     14.4542  56.4958   7.65\n",
      "  29.      12.475    9.       9.5      7.7875  47.1     15.85    34.375\n",
      "  61.175   20.575   34.6542  63.3583  23.      77.2875   8.6542   7.775\n",
      "  24.15     9.825   14.4583 247.5208   7.1417  22.3583   6.975    7.05\n",
      "  14.5     15.0458  26.2833   9.2167  79.2      6.75    11.5     36.75\n",
      "   7.7958  12.525   66.6      7.3125  61.3792   7.7333  69.55    16.1\n",
      "  15.75    20.525   55.      25.925   33.5     30.6958  25.4667  28.7125\n",
      "   0.      15.05    39.      22.025   50.       8.4042   6.4958  10.4625\n",
      "  18.7875  31.     113.275   27.      76.2917  90.       9.35    13.5\n",
      "   7.55    26.25    12.275    7.125   52.5542  20.2125  86.5    512.3292\n",
      "  79.65   153.4625 135.6333  19.5     29.7     77.9583  20.25    78.85\n",
      "  91.0792  12.875    8.85   151.55    30.5     23.25    12.35   110.8833\n",
      " 108.9     24.      56.9292  83.1583 262.375   14.     164.8667 134.5\n",
      "   6.2375  57.9792  28.5    133.65    15.9      9.225   35.      75.25\n",
      "  69.3     55.4417 211.5      4.0125 227.525   15.7417   7.7292  12.\n",
      " 120.      12.65    18.75     6.8583  32.5      7.875   14.4     55.9\n",
      "   8.1125  81.8583  19.2583  19.9667  89.1042  38.5      7.725   13.7917\n",
      "   9.8375   7.0458   7.5208  12.2875   9.5875  49.5042  78.2667  15.1\n",
      "   7.6292  22.525   26.2875  59.4      7.4958  34.0208  93.5    221.7792\n",
      " 106.425   49.5     71.      13.8625   7.8292  39.6     17.4     51.4792\n",
      "  26.3875  30.      40.125    8.7125  15.      33.      42.4     15.55\n",
      "  65.      32.3208   7.0542   8.4333  25.5875   9.8417   8.1375  10.1708\n",
      " 211.3375  57.      13.4167   7.7417   9.4833   7.7375   8.3625  23.45\n",
      "  25.9292   8.6833   8.5167   7.8875  37.0042   6.45     6.95     8.3\n",
      "   6.4375  39.4     14.1083  13.8583  50.4958   5.       9.8458  10.5167]\n",
      "Cabin ['no_cabin' 'C85' 'C123' 'E46' 'G6' 'C103' 'D56' 'A6' 'C23 C25 C27' 'B78'\n",
      " 'D33' 'B30' 'C52' 'B28' 'C83' 'F33' 'F G73' 'E31' 'A5' 'D10 D12' 'D26'\n",
      " 'C110' 'B58 B60' 'E101' 'F E69' 'D47' 'B86' 'F2' 'C2' 'E33' 'B19' 'A7'\n",
      " 'C49' 'F4' 'A32' 'B4' 'B80' 'A31' 'D36' 'D15' 'C93' 'C78' 'D35' 'C87'\n",
      " 'B77' 'E67' 'B94' 'C125' 'C99' 'C118' 'D7' 'A19' 'B49' 'D' 'C22 C26'\n",
      " 'C106' 'C65' 'E36' 'C54' 'B57 B59 B63 B66' 'C7' 'E34' 'C32' 'B18' 'C124'\n",
      " 'C91' 'E40' 'T' 'C128' 'D37' 'B35' 'E50' 'C82' 'B96 B98' 'E10' 'E44'\n",
      " 'A34' 'C104' 'C111' 'C92' 'E38' 'D21' 'E12' 'E63' 'A14' 'B37' 'C30' 'D20'\n",
      " 'B79' 'E25' 'D46' 'B73' 'C95' 'B38' 'B39' 'B22' 'C86' 'C70' 'A16' 'C101'\n",
      " 'C68' 'A10' 'E68' 'B41' 'A20' 'D19' 'D50' 'D9' 'A23' 'B50' 'A26' 'D48'\n",
      " 'E58' 'C126' 'B71' 'B51 B53 B55' 'D49' 'B5' 'B20' 'F G63' 'C62 C64' 'E24'\n",
      " 'C90' 'C45' 'E8' 'B101' 'D45' 'C46' 'D30' 'E121' 'D11' 'E77' 'F38' 'B3'\n",
      " 'D6' 'B82 B84' 'D17' 'A36' 'B102' 'B69' 'E49' 'C47' 'D28' 'E17' 'A24'\n",
      " 'C50' 'B42' 'C148']\n",
      "Embarked ['S' 'C' 'Q' 'unknown']\n"
     ]
    }
   ],
   "source": [
    "for col in train_data_c.columns.tolist():\n",
    "    print(col, train_data_c[col].unique())"
   ]
  },
  {
   "cell_type": "code",
   "execution_count": 51,
   "id": "079ba06a",
   "metadata": {},
   "outputs": [],
   "source": [
    "train_data_c[['Name', 'Sex', 'Ticket', 'Cabin', 'Embarked']]=train_data_c[['Name', 'Sex', 'Ticket', 'Cabin', 'Embarked']].astype('category')\n",
    "train_data_c2[['Name', 'Sex', 'Ticket', 'Cabin', 'Embarked']]=train_data_c2[['Name', 'Sex', 'Ticket', 'Cabin', 'Embarked']].astype('category')"
   ]
  },
  {
   "cell_type": "code",
   "execution_count": 52,
   "id": "30559ff9",
   "metadata": {},
   "outputs": [],
   "source": [
    "test_data_c[['Name', 'Sex', 'Ticket', 'Cabin', 'Embarked']]=test_data_c[['Name', 'Sex', 'Ticket', 'Cabin', 'Embarked']].astype('category')\n",
    "test_data_c2[['Name', 'Sex', 'Ticket', 'Cabin', 'Embarked']]=test_data_c2[['Name', 'Sex', 'Ticket', 'Cabin', 'Embarked']].astype('category')"
   ]
  },
  {
   "cell_type": "code",
   "execution_count": 53,
   "id": "fbe7f7f4",
   "metadata": {
    "scrolled": true
   },
   "outputs": [
    {
     "data": {
      "text/plain": [
       "PassengerId    891\n",
       "Survived         2\n",
       "Pclass           3\n",
       "Name           891\n",
       "Sex              2\n",
       "Age             88\n",
       "SibSp            7\n",
       "Parch            7\n",
       "Ticket         681\n",
       "Fare           248\n",
       "Cabin          148\n",
       "Embarked         4\n",
       "dtype: int64"
      ]
     },
     "execution_count": 53,
     "metadata": {},
     "output_type": "execute_result"
    }
   ],
   "source": [
    "train_data_c.nunique()"
   ]
  },
  {
   "cell_type": "code",
   "execution_count": 54,
   "id": "709a546a",
   "metadata": {},
   "outputs": [],
   "source": [
    "train_data_c=pd.get_dummies(train_data_c, columns=['Pclass', 'Embarked'], prefix=['Pclass_', 'Embarked_'])"
   ]
  },
  {
   "cell_type": "code",
   "execution_count": 55,
   "id": "f1d862e7",
   "metadata": {},
   "outputs": [],
   "source": [
    "train_data_c2=pd.get_dummies(train_data_c2, columns=['Pclass', 'Embarked'], prefix=['Pclass_', 'Embarked_'])"
   ]
  },
  {
   "cell_type": "code",
   "execution_count": 56,
   "id": "f38bcc28",
   "metadata": {},
   "outputs": [],
   "source": [
    "test_data_c=pd.get_dummies(test_data_c, columns=['Pclass', 'Embarked'], prefix=['Pclass_', 'Embarked_'])"
   ]
  },
  {
   "cell_type": "code",
   "execution_count": 57,
   "id": "9bc326ca",
   "metadata": {},
   "outputs": [],
   "source": [
    "test_data_c2=pd.get_dummies(test_data_c2, columns=['Pclass', 'Embarked'], prefix=['Pclass_', 'Embarked_'])"
   ]
  },
  {
   "cell_type": "code",
   "execution_count": 58,
   "id": "b3c93f09",
   "metadata": {
    "scrolled": true
   },
   "outputs": [
    {
     "data": {
      "text/html": [
       "<div>\n",
       "<style scoped>\n",
       "    .dataframe tbody tr th:only-of-type {\n",
       "        vertical-align: middle;\n",
       "    }\n",
       "\n",
       "    .dataframe tbody tr th {\n",
       "        vertical-align: top;\n",
       "    }\n",
       "\n",
       "    .dataframe thead th {\n",
       "        text-align: right;\n",
       "    }\n",
       "</style>\n",
       "<table border=\"1\" class=\"dataframe\">\n",
       "  <thead>\n",
       "    <tr style=\"text-align: right;\">\n",
       "      <th></th>\n",
       "      <th>PassengerId</th>\n",
       "      <th>Survived</th>\n",
       "      <th>Name</th>\n",
       "      <th>Sex</th>\n",
       "      <th>Age</th>\n",
       "      <th>SibSp</th>\n",
       "      <th>Parch</th>\n",
       "      <th>Ticket</th>\n",
       "      <th>Fare</th>\n",
       "      <th>Cabin</th>\n",
       "      <th>Pclass__1</th>\n",
       "      <th>Pclass__2</th>\n",
       "      <th>Pclass__3</th>\n",
       "      <th>Embarked__C</th>\n",
       "      <th>Embarked__Q</th>\n",
       "      <th>Embarked__S</th>\n",
       "      <th>Embarked__unknown</th>\n",
       "    </tr>\n",
       "  </thead>\n",
       "  <tbody>\n",
       "    <tr>\n",
       "      <th>0</th>\n",
       "      <td>1</td>\n",
       "      <td>0</td>\n",
       "      <td>Braund, Mr. Owen Harris</td>\n",
       "      <td>1</td>\n",
       "      <td>22.0</td>\n",
       "      <td>1</td>\n",
       "      <td>0</td>\n",
       "      <td>A/5 21171</td>\n",
       "      <td>7.2500</td>\n",
       "      <td>no_cabin</td>\n",
       "      <td>0</td>\n",
       "      <td>0</td>\n",
       "      <td>1</td>\n",
       "      <td>0</td>\n",
       "      <td>0</td>\n",
       "      <td>1</td>\n",
       "      <td>0</td>\n",
       "    </tr>\n",
       "    <tr>\n",
       "      <th>1</th>\n",
       "      <td>2</td>\n",
       "      <td>1</td>\n",
       "      <td>Cumings, Mrs. John Bradley (Florence Briggs Th...</td>\n",
       "      <td>0</td>\n",
       "      <td>38.0</td>\n",
       "      <td>1</td>\n",
       "      <td>0</td>\n",
       "      <td>PC 17599</td>\n",
       "      <td>71.2833</td>\n",
       "      <td>C85</td>\n",
       "      <td>1</td>\n",
       "      <td>0</td>\n",
       "      <td>0</td>\n",
       "      <td>1</td>\n",
       "      <td>0</td>\n",
       "      <td>0</td>\n",
       "      <td>0</td>\n",
       "    </tr>\n",
       "    <tr>\n",
       "      <th>2</th>\n",
       "      <td>3</td>\n",
       "      <td>1</td>\n",
       "      <td>Heikkinen, Miss. Laina</td>\n",
       "      <td>0</td>\n",
       "      <td>26.0</td>\n",
       "      <td>0</td>\n",
       "      <td>0</td>\n",
       "      <td>STON/O2. 3101282</td>\n",
       "      <td>7.9250</td>\n",
       "      <td>no_cabin</td>\n",
       "      <td>0</td>\n",
       "      <td>0</td>\n",
       "      <td>1</td>\n",
       "      <td>0</td>\n",
       "      <td>0</td>\n",
       "      <td>1</td>\n",
       "      <td>0</td>\n",
       "    </tr>\n",
       "    <tr>\n",
       "      <th>3</th>\n",
       "      <td>4</td>\n",
       "      <td>1</td>\n",
       "      <td>Futrelle, Mrs. Jacques Heath (Lily May Peel)</td>\n",
       "      <td>0</td>\n",
       "      <td>35.0</td>\n",
       "      <td>1</td>\n",
       "      <td>0</td>\n",
       "      <td>113803</td>\n",
       "      <td>53.1000</td>\n",
       "      <td>C123</td>\n",
       "      <td>1</td>\n",
       "      <td>0</td>\n",
       "      <td>0</td>\n",
       "      <td>0</td>\n",
       "      <td>0</td>\n",
       "      <td>1</td>\n",
       "      <td>0</td>\n",
       "    </tr>\n",
       "    <tr>\n",
       "      <th>4</th>\n",
       "      <td>5</td>\n",
       "      <td>0</td>\n",
       "      <td>Allen, Mr. William Henry</td>\n",
       "      <td>1</td>\n",
       "      <td>35.0</td>\n",
       "      <td>0</td>\n",
       "      <td>0</td>\n",
       "      <td>373450</td>\n",
       "      <td>8.0500</td>\n",
       "      <td>no_cabin</td>\n",
       "      <td>0</td>\n",
       "      <td>0</td>\n",
       "      <td>1</td>\n",
       "      <td>0</td>\n",
       "      <td>0</td>\n",
       "      <td>1</td>\n",
       "      <td>0</td>\n",
       "    </tr>\n",
       "  </tbody>\n",
       "</table>\n",
       "</div>"
      ],
      "text/plain": [
       "   PassengerId  Survived                                               Name  \\\n",
       "0            1         0                            Braund, Mr. Owen Harris   \n",
       "1            2         1  Cumings, Mrs. John Bradley (Florence Briggs Th...   \n",
       "2            3         1                             Heikkinen, Miss. Laina   \n",
       "3            4         1       Futrelle, Mrs. Jacques Heath (Lily May Peel)   \n",
       "4            5         0                           Allen, Mr. William Henry   \n",
       "\n",
       "   Sex   Age  SibSp  Parch            Ticket     Fare     Cabin  Pclass__1  \\\n",
       "0    1  22.0      1      0         A/5 21171   7.2500  no_cabin          0   \n",
       "1    0  38.0      1      0          PC 17599  71.2833       C85          1   \n",
       "2    0  26.0      0      0  STON/O2. 3101282   7.9250  no_cabin          0   \n",
       "3    0  35.0      1      0            113803  53.1000      C123          1   \n",
       "4    1  35.0      0      0            373450   8.0500  no_cabin          0   \n",
       "\n",
       "   Pclass__2  Pclass__3  Embarked__C  Embarked__Q  Embarked__S  \\\n",
       "0          0          1            0            0            1   \n",
       "1          0          0            1            0            0   \n",
       "2          0          1            0            0            1   \n",
       "3          0          0            0            0            1   \n",
       "4          0          1            0            0            1   \n",
       "\n",
       "   Embarked__unknown  \n",
       "0                  0  \n",
       "1                  0  \n",
       "2                  0  \n",
       "3                  0  \n",
       "4                  0  "
      ]
     },
     "execution_count": 58,
     "metadata": {},
     "output_type": "execute_result"
    }
   ],
   "source": [
    "# Step 1. Instantiate the model (label encoding)\n",
    "label_maker = LabelEncoder()\n",
    "\n",
    "# Step 2. Fit the variable to the instatiated model\n",
    "train_data_c['Sex'] = label_maker.fit_transform(train_data_c['Sex'])\n",
    "\n",
    "train_data_c.head() #Results in appending a new column to df"
   ]
  },
  {
   "cell_type": "code",
   "execution_count": 59,
   "id": "ac28f8f7",
   "metadata": {},
   "outputs": [
    {
     "data": {
      "text/html": [
       "<div>\n",
       "<style scoped>\n",
       "    .dataframe tbody tr th:only-of-type {\n",
       "        vertical-align: middle;\n",
       "    }\n",
       "\n",
       "    .dataframe tbody tr th {\n",
       "        vertical-align: top;\n",
       "    }\n",
       "\n",
       "    .dataframe thead th {\n",
       "        text-align: right;\n",
       "    }\n",
       "</style>\n",
       "<table border=\"1\" class=\"dataframe\">\n",
       "  <thead>\n",
       "    <tr style=\"text-align: right;\">\n",
       "      <th></th>\n",
       "      <th>PassengerId</th>\n",
       "      <th>Survived</th>\n",
       "      <th>Name</th>\n",
       "      <th>Sex</th>\n",
       "      <th>Age</th>\n",
       "      <th>SibSp</th>\n",
       "      <th>Parch</th>\n",
       "      <th>Ticket</th>\n",
       "      <th>Fare</th>\n",
       "      <th>Cabin</th>\n",
       "      <th>Pclass__1</th>\n",
       "      <th>Pclass__2</th>\n",
       "      <th>Pclass__3</th>\n",
       "      <th>Embarked__C</th>\n",
       "      <th>Embarked__Q</th>\n",
       "      <th>Embarked__S</th>\n",
       "      <th>Embarked__unknown</th>\n",
       "    </tr>\n",
       "  </thead>\n",
       "  <tbody>\n",
       "    <tr>\n",
       "      <th>0</th>\n",
       "      <td>1</td>\n",
       "      <td>0</td>\n",
       "      <td>Braund, Mr. Owen Harris</td>\n",
       "      <td>1</td>\n",
       "      <td>22.0</td>\n",
       "      <td>1</td>\n",
       "      <td>0</td>\n",
       "      <td>A/5 21171</td>\n",
       "      <td>7.2500</td>\n",
       "      <td>no_cabin</td>\n",
       "      <td>0</td>\n",
       "      <td>0</td>\n",
       "      <td>1</td>\n",
       "      <td>0</td>\n",
       "      <td>0</td>\n",
       "      <td>1</td>\n",
       "      <td>0</td>\n",
       "    </tr>\n",
       "    <tr>\n",
       "      <th>1</th>\n",
       "      <td>2</td>\n",
       "      <td>1</td>\n",
       "      <td>Cumings, Mrs. John Bradley (Florence Briggs Th...</td>\n",
       "      <td>0</td>\n",
       "      <td>38.0</td>\n",
       "      <td>1</td>\n",
       "      <td>0</td>\n",
       "      <td>PC 17599</td>\n",
       "      <td>71.2833</td>\n",
       "      <td>C85</td>\n",
       "      <td>1</td>\n",
       "      <td>0</td>\n",
       "      <td>0</td>\n",
       "      <td>1</td>\n",
       "      <td>0</td>\n",
       "      <td>0</td>\n",
       "      <td>0</td>\n",
       "    </tr>\n",
       "    <tr>\n",
       "      <th>2</th>\n",
       "      <td>3</td>\n",
       "      <td>1</td>\n",
       "      <td>Heikkinen, Miss. Laina</td>\n",
       "      <td>0</td>\n",
       "      <td>26.0</td>\n",
       "      <td>0</td>\n",
       "      <td>0</td>\n",
       "      <td>STON/O2. 3101282</td>\n",
       "      <td>7.9250</td>\n",
       "      <td>no_cabin</td>\n",
       "      <td>0</td>\n",
       "      <td>0</td>\n",
       "      <td>1</td>\n",
       "      <td>0</td>\n",
       "      <td>0</td>\n",
       "      <td>1</td>\n",
       "      <td>0</td>\n",
       "    </tr>\n",
       "    <tr>\n",
       "      <th>3</th>\n",
       "      <td>4</td>\n",
       "      <td>1</td>\n",
       "      <td>Futrelle, Mrs. Jacques Heath (Lily May Peel)</td>\n",
       "      <td>0</td>\n",
       "      <td>35.0</td>\n",
       "      <td>1</td>\n",
       "      <td>0</td>\n",
       "      <td>113803</td>\n",
       "      <td>53.1000</td>\n",
       "      <td>C123</td>\n",
       "      <td>1</td>\n",
       "      <td>0</td>\n",
       "      <td>0</td>\n",
       "      <td>0</td>\n",
       "      <td>0</td>\n",
       "      <td>1</td>\n",
       "      <td>0</td>\n",
       "    </tr>\n",
       "    <tr>\n",
       "      <th>4</th>\n",
       "      <td>5</td>\n",
       "      <td>0</td>\n",
       "      <td>Allen, Mr. William Henry</td>\n",
       "      <td>1</td>\n",
       "      <td>35.0</td>\n",
       "      <td>0</td>\n",
       "      <td>0</td>\n",
       "      <td>373450</td>\n",
       "      <td>8.0500</td>\n",
       "      <td>no_cabin</td>\n",
       "      <td>0</td>\n",
       "      <td>0</td>\n",
       "      <td>1</td>\n",
       "      <td>0</td>\n",
       "      <td>0</td>\n",
       "      <td>1</td>\n",
       "      <td>0</td>\n",
       "    </tr>\n",
       "  </tbody>\n",
       "</table>\n",
       "</div>"
      ],
      "text/plain": [
       "   PassengerId  Survived                                               Name  \\\n",
       "0            1         0                            Braund, Mr. Owen Harris   \n",
       "1            2         1  Cumings, Mrs. John Bradley (Florence Briggs Th...   \n",
       "2            3         1                             Heikkinen, Miss. Laina   \n",
       "3            4         1       Futrelle, Mrs. Jacques Heath (Lily May Peel)   \n",
       "4            5         0                           Allen, Mr. William Henry   \n",
       "\n",
       "   Sex   Age  SibSp  Parch            Ticket     Fare     Cabin  Pclass__1  \\\n",
       "0    1  22.0      1      0         A/5 21171   7.2500  no_cabin          0   \n",
       "1    0  38.0      1      0          PC 17599  71.2833       C85          1   \n",
       "2    0  26.0      0      0  STON/O2. 3101282   7.9250  no_cabin          0   \n",
       "3    0  35.0      1      0            113803  53.1000      C123          1   \n",
       "4    1  35.0      0      0            373450   8.0500  no_cabin          0   \n",
       "\n",
       "   Pclass__2  Pclass__3  Embarked__C  Embarked__Q  Embarked__S  \\\n",
       "0          0          1            0            0            1   \n",
       "1          0          0            1            0            0   \n",
       "2          0          1            0            0            1   \n",
       "3          0          0            0            0            1   \n",
       "4          0          1            0            0            1   \n",
       "\n",
       "   Embarked__unknown  \n",
       "0                  0  \n",
       "1                  0  \n",
       "2                  0  \n",
       "3                  0  \n",
       "4                  0  "
      ]
     },
     "execution_count": 59,
     "metadata": {},
     "output_type": "execute_result"
    }
   ],
   "source": [
    "# Step 1. Instantiate the model (label encoding)\n",
    "label_maker = LabelEncoder()\n",
    "\n",
    "# Step 2. Fit the variable to the instatiated model\n",
    "train_data_c2['Sex'] = label_maker.fit_transform(train_data_c2['Sex'])\n",
    "\n",
    "train_data_c2.head() #Results in appending a new column to df"
   ]
  },
  {
   "cell_type": "code",
   "execution_count": 60,
   "id": "65d373c6",
   "metadata": {},
   "outputs": [
    {
     "data": {
      "text/html": [
       "<div>\n",
       "<style scoped>\n",
       "    .dataframe tbody tr th:only-of-type {\n",
       "        vertical-align: middle;\n",
       "    }\n",
       "\n",
       "    .dataframe tbody tr th {\n",
       "        vertical-align: top;\n",
       "    }\n",
       "\n",
       "    .dataframe thead th {\n",
       "        text-align: right;\n",
       "    }\n",
       "</style>\n",
       "<table border=\"1\" class=\"dataframe\">\n",
       "  <thead>\n",
       "    <tr style=\"text-align: right;\">\n",
       "      <th></th>\n",
       "      <th>PassengerId</th>\n",
       "      <th>Name</th>\n",
       "      <th>Sex</th>\n",
       "      <th>Age</th>\n",
       "      <th>SibSp</th>\n",
       "      <th>Parch</th>\n",
       "      <th>Ticket</th>\n",
       "      <th>Fare</th>\n",
       "      <th>Cabin</th>\n",
       "      <th>Pclass__1</th>\n",
       "      <th>Pclass__2</th>\n",
       "      <th>Pclass__3</th>\n",
       "      <th>Embarked__C</th>\n",
       "      <th>Embarked__Q</th>\n",
       "      <th>Embarked__S</th>\n",
       "    </tr>\n",
       "  </thead>\n",
       "  <tbody>\n",
       "    <tr>\n",
       "      <th>0</th>\n",
       "      <td>892</td>\n",
       "      <td>Kelly, Mr. James</td>\n",
       "      <td>1</td>\n",
       "      <td>34.5</td>\n",
       "      <td>0</td>\n",
       "      <td>0</td>\n",
       "      <td>330911</td>\n",
       "      <td>7.8292</td>\n",
       "      <td>no_cabin</td>\n",
       "      <td>0</td>\n",
       "      <td>0</td>\n",
       "      <td>1</td>\n",
       "      <td>0</td>\n",
       "      <td>1</td>\n",
       "      <td>0</td>\n",
       "    </tr>\n",
       "    <tr>\n",
       "      <th>1</th>\n",
       "      <td>893</td>\n",
       "      <td>Wilkes, Mrs. James (Ellen Needs)</td>\n",
       "      <td>0</td>\n",
       "      <td>47.0</td>\n",
       "      <td>1</td>\n",
       "      <td>0</td>\n",
       "      <td>363272</td>\n",
       "      <td>7.0000</td>\n",
       "      <td>no_cabin</td>\n",
       "      <td>0</td>\n",
       "      <td>0</td>\n",
       "      <td>1</td>\n",
       "      <td>0</td>\n",
       "      <td>0</td>\n",
       "      <td>1</td>\n",
       "    </tr>\n",
       "    <tr>\n",
       "      <th>2</th>\n",
       "      <td>894</td>\n",
       "      <td>Myles, Mr. Thomas Francis</td>\n",
       "      <td>1</td>\n",
       "      <td>62.0</td>\n",
       "      <td>0</td>\n",
       "      <td>0</td>\n",
       "      <td>240276</td>\n",
       "      <td>9.6875</td>\n",
       "      <td>no_cabin</td>\n",
       "      <td>0</td>\n",
       "      <td>1</td>\n",
       "      <td>0</td>\n",
       "      <td>0</td>\n",
       "      <td>1</td>\n",
       "      <td>0</td>\n",
       "    </tr>\n",
       "    <tr>\n",
       "      <th>3</th>\n",
       "      <td>895</td>\n",
       "      <td>Wirz, Mr. Albert</td>\n",
       "      <td>1</td>\n",
       "      <td>27.0</td>\n",
       "      <td>0</td>\n",
       "      <td>0</td>\n",
       "      <td>315154</td>\n",
       "      <td>8.6625</td>\n",
       "      <td>no_cabin</td>\n",
       "      <td>0</td>\n",
       "      <td>0</td>\n",
       "      <td>1</td>\n",
       "      <td>0</td>\n",
       "      <td>0</td>\n",
       "      <td>1</td>\n",
       "    </tr>\n",
       "    <tr>\n",
       "      <th>4</th>\n",
       "      <td>896</td>\n",
       "      <td>Hirvonen, Mrs. Alexander (Helga E Lindqvist)</td>\n",
       "      <td>0</td>\n",
       "      <td>22.0</td>\n",
       "      <td>1</td>\n",
       "      <td>1</td>\n",
       "      <td>3101298</td>\n",
       "      <td>12.2875</td>\n",
       "      <td>no_cabin</td>\n",
       "      <td>0</td>\n",
       "      <td>0</td>\n",
       "      <td>1</td>\n",
       "      <td>0</td>\n",
       "      <td>0</td>\n",
       "      <td>1</td>\n",
       "    </tr>\n",
       "  </tbody>\n",
       "</table>\n",
       "</div>"
      ],
      "text/plain": [
       "   PassengerId                                          Name  Sex   Age  \\\n",
       "0          892                              Kelly, Mr. James    1  34.5   \n",
       "1          893              Wilkes, Mrs. James (Ellen Needs)    0  47.0   \n",
       "2          894                     Myles, Mr. Thomas Francis    1  62.0   \n",
       "3          895                              Wirz, Mr. Albert    1  27.0   \n",
       "4          896  Hirvonen, Mrs. Alexander (Helga E Lindqvist)    0  22.0   \n",
       "\n",
       "   SibSp  Parch   Ticket     Fare     Cabin  Pclass__1  Pclass__2  Pclass__3  \\\n",
       "0      0      0   330911   7.8292  no_cabin          0          0          1   \n",
       "1      1      0   363272   7.0000  no_cabin          0          0          1   \n",
       "2      0      0   240276   9.6875  no_cabin          0          1          0   \n",
       "3      0      0   315154   8.6625  no_cabin          0          0          1   \n",
       "4      1      1  3101298  12.2875  no_cabin          0          0          1   \n",
       "\n",
       "   Embarked__C  Embarked__Q  Embarked__S  \n",
       "0            0            1            0  \n",
       "1            0            0            1  \n",
       "2            0            1            0  \n",
       "3            0            0            1  \n",
       "4            0            0            1  "
      ]
     },
     "execution_count": 60,
     "metadata": {},
     "output_type": "execute_result"
    }
   ],
   "source": [
    "test_data_c['Sex'] = label_maker.fit_transform(test_data_c['Sex'])\n",
    "\n",
    "test_data_c.head() #Results in appending a new column to df"
   ]
  },
  {
   "cell_type": "code",
   "execution_count": 61,
   "id": "c3e5b15d",
   "metadata": {},
   "outputs": [
    {
     "data": {
      "text/html": [
       "<div>\n",
       "<style scoped>\n",
       "    .dataframe tbody tr th:only-of-type {\n",
       "        vertical-align: middle;\n",
       "    }\n",
       "\n",
       "    .dataframe tbody tr th {\n",
       "        vertical-align: top;\n",
       "    }\n",
       "\n",
       "    .dataframe thead th {\n",
       "        text-align: right;\n",
       "    }\n",
       "</style>\n",
       "<table border=\"1\" class=\"dataframe\">\n",
       "  <thead>\n",
       "    <tr style=\"text-align: right;\">\n",
       "      <th></th>\n",
       "      <th>PassengerId</th>\n",
       "      <th>Name</th>\n",
       "      <th>Sex</th>\n",
       "      <th>Age</th>\n",
       "      <th>SibSp</th>\n",
       "      <th>Parch</th>\n",
       "      <th>Ticket</th>\n",
       "      <th>Fare</th>\n",
       "      <th>Cabin</th>\n",
       "      <th>Pclass__1</th>\n",
       "      <th>Pclass__2</th>\n",
       "      <th>Pclass__3</th>\n",
       "      <th>Embarked__C</th>\n",
       "      <th>Embarked__Q</th>\n",
       "      <th>Embarked__S</th>\n",
       "    </tr>\n",
       "  </thead>\n",
       "  <tbody>\n",
       "    <tr>\n",
       "      <th>0</th>\n",
       "      <td>892</td>\n",
       "      <td>Kelly, Mr. James</td>\n",
       "      <td>1</td>\n",
       "      <td>22.0</td>\n",
       "      <td>0</td>\n",
       "      <td>0</td>\n",
       "      <td>330911</td>\n",
       "      <td>7.2500</td>\n",
       "      <td>no_cabin</td>\n",
       "      <td>0</td>\n",
       "      <td>0</td>\n",
       "      <td>1</td>\n",
       "      <td>0</td>\n",
       "      <td>1</td>\n",
       "      <td>0</td>\n",
       "    </tr>\n",
       "    <tr>\n",
       "      <th>1</th>\n",
       "      <td>893</td>\n",
       "      <td>Wilkes, Mrs. James (Ellen Needs)</td>\n",
       "      <td>0</td>\n",
       "      <td>38.0</td>\n",
       "      <td>1</td>\n",
       "      <td>0</td>\n",
       "      <td>363272</td>\n",
       "      <td>71.2833</td>\n",
       "      <td>no_cabin</td>\n",
       "      <td>0</td>\n",
       "      <td>0</td>\n",
       "      <td>1</td>\n",
       "      <td>0</td>\n",
       "      <td>0</td>\n",
       "      <td>1</td>\n",
       "    </tr>\n",
       "    <tr>\n",
       "      <th>2</th>\n",
       "      <td>894</td>\n",
       "      <td>Myles, Mr. Thomas Francis</td>\n",
       "      <td>1</td>\n",
       "      <td>26.0</td>\n",
       "      <td>0</td>\n",
       "      <td>0</td>\n",
       "      <td>240276</td>\n",
       "      <td>7.9250</td>\n",
       "      <td>no_cabin</td>\n",
       "      <td>0</td>\n",
       "      <td>1</td>\n",
       "      <td>0</td>\n",
       "      <td>0</td>\n",
       "      <td>1</td>\n",
       "      <td>0</td>\n",
       "    </tr>\n",
       "    <tr>\n",
       "      <th>3</th>\n",
       "      <td>895</td>\n",
       "      <td>Wirz, Mr. Albert</td>\n",
       "      <td>1</td>\n",
       "      <td>35.0</td>\n",
       "      <td>0</td>\n",
       "      <td>0</td>\n",
       "      <td>315154</td>\n",
       "      <td>53.1000</td>\n",
       "      <td>no_cabin</td>\n",
       "      <td>0</td>\n",
       "      <td>0</td>\n",
       "      <td>1</td>\n",
       "      <td>0</td>\n",
       "      <td>0</td>\n",
       "      <td>1</td>\n",
       "    </tr>\n",
       "    <tr>\n",
       "      <th>4</th>\n",
       "      <td>896</td>\n",
       "      <td>Hirvonen, Mrs. Alexander (Helga E Lindqvist)</td>\n",
       "      <td>0</td>\n",
       "      <td>35.0</td>\n",
       "      <td>1</td>\n",
       "      <td>1</td>\n",
       "      <td>3101298</td>\n",
       "      <td>8.0500</td>\n",
       "      <td>no_cabin</td>\n",
       "      <td>0</td>\n",
       "      <td>0</td>\n",
       "      <td>1</td>\n",
       "      <td>0</td>\n",
       "      <td>0</td>\n",
       "      <td>1</td>\n",
       "    </tr>\n",
       "  </tbody>\n",
       "</table>\n",
       "</div>"
      ],
      "text/plain": [
       "   PassengerId                                          Name  Sex   Age  \\\n",
       "0          892                              Kelly, Mr. James    1  22.0   \n",
       "1          893              Wilkes, Mrs. James (Ellen Needs)    0  38.0   \n",
       "2          894                     Myles, Mr. Thomas Francis    1  26.0   \n",
       "3          895                              Wirz, Mr. Albert    1  35.0   \n",
       "4          896  Hirvonen, Mrs. Alexander (Helga E Lindqvist)    0  35.0   \n",
       "\n",
       "   SibSp  Parch   Ticket     Fare     Cabin  Pclass__1  Pclass__2  Pclass__3  \\\n",
       "0      0      0   330911   7.2500  no_cabin          0          0          1   \n",
       "1      1      0   363272  71.2833  no_cabin          0          0          1   \n",
       "2      0      0   240276   7.9250  no_cabin          0          1          0   \n",
       "3      0      0   315154  53.1000  no_cabin          0          0          1   \n",
       "4      1      1  3101298   8.0500  no_cabin          0          0          1   \n",
       "\n",
       "   Embarked__C  Embarked__Q  Embarked__S  \n",
       "0            0            1            0  \n",
       "1            0            0            1  \n",
       "2            0            1            0  \n",
       "3            0            0            1  \n",
       "4            0            0            1  "
      ]
     },
     "execution_count": 61,
     "metadata": {},
     "output_type": "execute_result"
    }
   ],
   "source": [
    "test_data_c2['Sex'] = label_maker.fit_transform(test_data_c2['Sex'])\n",
    "\n",
    "test_data_c2.head() #Results in appending a new column to df"
   ]
  },
  {
   "cell_type": "code",
   "execution_count": 62,
   "id": "5efba68c",
   "metadata": {},
   "outputs": [],
   "source": [
    "def replace_cabin(x):\n",
    "    if x!='no_cabin':\n",
    "        return 'cabin'\n",
    "    else:\n",
    "        return x"
   ]
  },
  {
   "cell_type": "code",
   "execution_count": 63,
   "id": "18bb4c80",
   "metadata": {},
   "outputs": [],
   "source": [
    "train_data_c['Cabin']=train_data_c['Cabin'].apply(replace_cabin)"
   ]
  },
  {
   "cell_type": "code",
   "execution_count": 64,
   "id": "9631109f",
   "metadata": {},
   "outputs": [],
   "source": [
    "train_data_c2['Cabin']=train_data_c2['Cabin'].apply(replace_cabin)"
   ]
  },
  {
   "cell_type": "code",
   "execution_count": 65,
   "id": "1f70f96b",
   "metadata": {},
   "outputs": [
    {
     "data": {
      "text/plain": [
       "array(['no_cabin', 'cabin'], dtype=object)"
      ]
     },
     "execution_count": 65,
     "metadata": {},
     "output_type": "execute_result"
    }
   ],
   "source": [
    "train_data_c.Cabin.unique()"
   ]
  },
  {
   "cell_type": "code",
   "execution_count": 66,
   "id": "aa9b85ba",
   "metadata": {},
   "outputs": [
    {
     "data": {
      "text/plain": [
       "array([1, 0])"
      ]
     },
     "execution_count": 66,
     "metadata": {},
     "output_type": "execute_result"
    }
   ],
   "source": [
    "# Step 2. Fit the variable to the instatiated model\n",
    "train_data_c['Cabin'] = label_maker.fit_transform(train_data_c['Cabin'])\n",
    "\n",
    "train_data_c.Cabin.unique() #Results in appending a new column to df"
   ]
  },
  {
   "cell_type": "code",
   "execution_count": 67,
   "id": "387b23bc",
   "metadata": {},
   "outputs": [
    {
     "data": {
      "text/plain": [
       "array([1, 0])"
      ]
     },
     "execution_count": 67,
     "metadata": {},
     "output_type": "execute_result"
    }
   ],
   "source": [
    "train_data_c2['Cabin'] = label_maker.fit_transform(train_data_c2['Cabin'])\n",
    "\n",
    "train_data_c2.Cabin.unique() #Results in appending a new column to df"
   ]
  },
  {
   "cell_type": "code",
   "execution_count": 68,
   "id": "5dc8ecf6",
   "metadata": {},
   "outputs": [],
   "source": [
    "test_data_c['Cabin']=test_data_c['Cabin'].apply(replace_cabin)"
   ]
  },
  {
   "cell_type": "code",
   "execution_count": 69,
   "id": "e5086f1d",
   "metadata": {},
   "outputs": [],
   "source": [
    "test_data_c2['Cabin']=test_data_c2['Cabin'].apply(replace_cabin)"
   ]
  },
  {
   "cell_type": "code",
   "execution_count": 70,
   "id": "b67ba493",
   "metadata": {},
   "outputs": [
    {
     "data": {
      "text/plain": [
       "array(['no_cabin', 'cabin'], dtype=object)"
      ]
     },
     "execution_count": 70,
     "metadata": {},
     "output_type": "execute_result"
    }
   ],
   "source": [
    "test_data_c.Cabin.unique()"
   ]
  },
  {
   "cell_type": "code",
   "execution_count": 71,
   "id": "0d0f0574",
   "metadata": {},
   "outputs": [
    {
     "data": {
      "text/plain": [
       "array([1, 0])"
      ]
     },
     "execution_count": 71,
     "metadata": {},
     "output_type": "execute_result"
    }
   ],
   "source": [
    "# Step 2. Fit the variable to the instatiated model\n",
    "test_data_c['Cabin'] = label_maker.fit_transform(test_data_c['Cabin'])\n",
    "\n",
    "test_data_c.Cabin.unique() #Results in appending a new column to df"
   ]
  },
  {
   "cell_type": "code",
   "execution_count": 72,
   "id": "76b6b39f",
   "metadata": {},
   "outputs": [
    {
     "data": {
      "text/plain": [
       "array([1, 0])"
      ]
     },
     "execution_count": 72,
     "metadata": {},
     "output_type": "execute_result"
    }
   ],
   "source": [
    "# Step 2. Fit the variable to the instatiated model\n",
    "test_data_c2['Cabin'] = label_maker.fit_transform(test_data_c2['Cabin'])\n",
    "\n",
    "test_data_c2.Cabin.unique() #Results in appending a new column to df"
   ]
  },
  {
   "cell_type": "code",
   "execution_count": 73,
   "id": "e1d2c305",
   "metadata": {},
   "outputs": [],
   "source": [
    "# train_data_c.Name.str.strip(\",\")\n",
    "train_data_c.Name=train_data_c.Name.str.split(\"[\\\\s,]+\")\n",
    "test_data_c.Name=test_data_c.Name.str.split(\"[\\\\s,]+\")"
   ]
  },
  {
   "cell_type": "code",
   "execution_count": 74,
   "id": "406cdf17",
   "metadata": {},
   "outputs": [],
   "source": [
    "train_data_c2.Name=train_data_c2.Name.str.split(\"[\\\\s,]+\")\n",
    "test_data_c2.Name=test_data_c2.Name.str.split(\"[\\\\s,]+\")"
   ]
  },
  {
   "cell_type": "code",
   "execution_count": 75,
   "id": "01f65943",
   "metadata": {},
   "outputs": [],
   "source": [
    "def keep_first(list):\n",
    "    return list[0]"
   ]
  },
  {
   "cell_type": "code",
   "execution_count": 76,
   "id": "df1432f2",
   "metadata": {},
   "outputs": [],
   "source": [
    "train_data_c.Name=train_data_c.Name.apply(keep_first)\n",
    "test_data_c.Name=test_data_c.Name.apply(keep_first)"
   ]
  },
  {
   "cell_type": "code",
   "execution_count": 77,
   "id": "00ff2ffc",
   "metadata": {},
   "outputs": [],
   "source": [
    "train_data_c2.Name=train_data_c2.Name.apply(keep_first)\n",
    "test_data_c2.Name=test_data_c2.Name.apply(keep_first)"
   ]
  },
  {
   "cell_type": "code",
   "execution_count": 78,
   "id": "f1ed35db",
   "metadata": {},
   "outputs": [],
   "source": [
    "train_data_c.Name=train_data_c.Name.astype('category')\n",
    "test_data_c.Name=test_data_c.Name.astype('category')"
   ]
  },
  {
   "cell_type": "code",
   "execution_count": 79,
   "id": "4c460919",
   "metadata": {},
   "outputs": [],
   "source": [
    "train_data_c2.Name=train_data_c2.Name.astype('category')\n",
    "test_data_c2.Name=test_data_c2.Name.astype('category')"
   ]
  },
  {
   "cell_type": "code",
   "execution_count": 80,
   "id": "50964434",
   "metadata": {
    "scrolled": false
   },
   "outputs": [
    {
     "name": "stdout",
     "output_type": "stream",
     "text": [
      "PassengerId [  1   2   3   4   5   6   7   8   9  10  11  12  13  14  15  16  17  18\n",
      "  19  20  21  22  23  24  25  26  27  28  29  30  31  32  33  34  35  36\n",
      "  37  38  39  40  41  42  43  44  45  46  47  48  49  50  51  52  53  54\n",
      "  55  56  57  58  59  60  61  62  63  64  65  66  67  68  69  70  71  72\n",
      "  73  74  75  76  77  78  79  80  81  82  83  84  85  86  87  88  89  90\n",
      "  91  92  93  94  95  96  97  98  99 100 101 102 103 104 105 106 107 108\n",
      " 109 110 111 112 113 114 115 116 117 118 119 120 121 122 123 124 125 126\n",
      " 127 128 129 130 131 132 133 134 135 136 137 138 139 140 141 142 143 144\n",
      " 145 146 147 148 149 150 151 152 153 154 155 156 157 158 159 160 161 162\n",
      " 163 164 165 166 167 168 169 170 171 172 173 174 175 176 177 178 179 180\n",
      " 181 182 183 184 185 186 187 188 189 190 191 192 193 194 195 196 197 198\n",
      " 199 200 201 202 203 204 205 206 207 208 209 210 211 212 213 214 215 216\n",
      " 217 218 219 220 221 222 223 224 225 226 227 228 229 230 231 232 233 234\n",
      " 235 236 237 238 239 240 241 242 243 244 245 246 247 248 249 250 251 252\n",
      " 253 254 255 256 257 258 259 260 261 262 263 264 265 266 267 268 269 270\n",
      " 271 272 273 274 275 276 277 278 279 280 281 282 283 284 285 286 287 288\n",
      " 289 290 291 292 293 294 295 296 297 298 299 300 301 302 303 304 305 306\n",
      " 307 308 309 310 311 312 313 314 315 316 317 318 319 320 321 322 323 324\n",
      " 325 326 327 328 329 330 331 332 333 334 335 336 337 338 339 340 341 342\n",
      " 343 344 345 346 347 348 349 350 351 352 353 354 355 356 357 358 359 360\n",
      " 361 362 363 364 365 366 367 368 369 370 371 372 373 374 375 376 377 378\n",
      " 379 380 381 382 383 384 385 386 387 388 389 390 391 392 393 394 395 396\n",
      " 397 398 399 400 401 402 403 404 405 406 407 408 409 410 411 412 413 414\n",
      " 415 416 417 418 419 420 421 422 423 424 425 426 427 428 429 430 431 432\n",
      " 433 434 435 436 437 438 439 440 441 442 443 444 445 446 447 448 449 450\n",
      " 451 452 453 454 455 456 457 458 459 460 461 462 463 464 465 466 467 468\n",
      " 469 470 471 472 473 474 475 476 477 478 479 480 481 482 483 484 485 486\n",
      " 487 488 489 490 491 492 493 494 495 496 497 498 499 500 501 502 503 504\n",
      " 505 506 507 508 509 510 511 512 513 514 515 516 517 518 519 520 521 522\n",
      " 523 524 525 526 527 528 529 530 531 532 533 534 535 536 537 538 539 540\n",
      " 541 542 543 544 545 546 547 548 549 550 551 552 553 554 555 556 557 558\n",
      " 559 560 561 562 563 564 565 566 567 568 569 570 571 572 573 574 575 576\n",
      " 577 578 579 580 581 582 583 584 585 586 587 588 589 590 591 592 593 594\n",
      " 595 596 597 598 599 600 601 602 603 604 605 606 607 608 609 610 611 612\n",
      " 613 614 615 616 617 618 619 620 621 622 623 624 625 626 627 628 629 630\n",
      " 631 632 633 634 635 636 637 638 639 640 641 642 643 644 645 646 647 648\n",
      " 649 650 651 652 653 654 655 656 657 658 659 660 661 662 663 664 665 666\n",
      " 667 668 669 670 671 672 673 674 675 676 677 678 679 680 681 682 683 684\n",
      " 685 686 687 688 689 690 691 692 693 694 695 696 697 698 699 700 701 702\n",
      " 703 704 705 706 707 708 709 710 711 712 713 714 715 716 717 718 719 720\n",
      " 721 722 723 724 725 726 727 728 729 730 731 732 733 734 735 736 737 738\n",
      " 739 740 741 742 743 744 745 746 747 748 749 750 751 752 753 754 755 756\n",
      " 757 758 759 760 761 762 763 764 765 766 767 768 769 770 771 772 773 774\n",
      " 775 776 777 778 779 780 781 782 783 784 785 786 787 788 789 790 791 792\n",
      " 793 794 795 796 797 798 799 800 801 802 803 804 805 806 807 808 809 810\n",
      " 811 812 813 814 815 816 817 818 819 820 821 822 823 824 825 826 827 828\n",
      " 829 830 831 832 833 834 835 836 837 838 839 840 841 842 843 844 845 846\n",
      " 847 848 849 850 851 852 853 854 855 856 857 858 859 860 861 862 863 864\n",
      " 865 866 867 868 869 870 871 872 873 874 875 876 877 878 879 880 881 882\n",
      " 883 884 885 886 887 888 889 890 891]\n",
      "Survived [0 1]\n",
      "Name ['Braund', 'Cumings', 'Heikkinen', 'Futrelle', 'Allen', ..., 'Banfield', 'Sutehall', 'Montvila', 'Behr', 'Dooley']\n",
      "Length: 661\n",
      "Categories (661, object): ['Braund', 'Cumings', 'Heikkinen', 'Futrelle', ..., 'Sutehall', 'Montvila', 'Behr', 'Dooley']\n",
      "Sex [1 0]\n",
      "Age [22.   38.   26.   35.   54.    2.   27.   14.    4.   58.   20.   39.\n",
      " 55.   31.   34.   15.   28.    8.   19.   40.   37.   66.   42.   21.\n",
      " 18.    3.    7.   49.   29.   65.   41.   28.5   5.   11.   45.   17.\n",
      " 32.   16.   25.    0.83 30.   33.   23.   24.   46.   59.   71.   47.\n",
      " 14.5  70.5  32.5  12.    9.   36.5  51.   55.5  40.5  44.    1.   61.\n",
      " 56.   50.   36.   45.5  20.5  62.   52.   63.   23.5   0.92 43.   60.\n",
      " 10.   64.   13.   48.    0.75 53.   57.   80.   70.   24.5   6.    0.67\n",
      " 30.5   0.42 34.5  74.  ]\n",
      "SibSp [1 0 3 4 2 5 8]\n",
      "Parch [0 1 2 5 3 4 6]\n",
      "Ticket ['A/5 21171', 'PC 17599', 'STON/O2. 3101282', '113803', '373450', ..., 'SOTON/OQ 392076', '211536', '112053', '111369', '370376']\n",
      "Length: 681\n",
      "Categories (681, object): ['A/5 21171', 'PC 17599', 'STON/O2. 3101282', '113803', ..., '211536', '112053', '111369', '370376']\n",
      "Fare [  7.25    71.2833   7.925   53.1      8.05     8.4583  51.8625  21.075\n",
      "  11.1333  30.0708  16.7     26.55    31.275    7.8542  16.      29.125\n",
      "  13.      18.       7.225   26.       8.0292  35.5     31.3875 263.\n",
      "   7.8792   7.8958  27.7208 146.5208   7.75    10.5     82.1708  52.\n",
      "   7.2292  11.2417   9.475   21.      41.5792  15.5     21.6792  17.8\n",
      "  39.6875   7.8     76.7292  61.9792  27.75    46.9     80.      83.475\n",
      "  27.9     15.2458   8.1583   8.6625  73.5     14.4542  56.4958   7.65\n",
      "  29.      12.475    9.       9.5      7.7875  47.1     15.85    34.375\n",
      "  61.175   20.575   34.6542  63.3583  23.      77.2875   8.6542   7.775\n",
      "  24.15     9.825   14.4583 247.5208   7.1417  22.3583   6.975    7.05\n",
      "  14.5     15.0458  26.2833   9.2167  79.2      6.75    11.5     36.75\n",
      "   7.7958  12.525   66.6      7.3125  61.3792   7.7333  69.55    16.1\n",
      "  15.75    20.525   55.      25.925   33.5     30.6958  25.4667  28.7125\n",
      "   0.      15.05    39.      22.025   50.       8.4042   6.4958  10.4625\n",
      "  18.7875  31.     113.275   27.      76.2917  90.       9.35    13.5\n",
      "   7.55    26.25    12.275    7.125   52.5542  20.2125  86.5    512.3292\n",
      "  79.65   153.4625 135.6333  19.5     29.7     77.9583  20.25    78.85\n",
      "  91.0792  12.875    8.85   151.55    30.5     23.25    12.35   110.8833\n",
      " 108.9     24.      56.9292  83.1583 262.375   14.     164.8667 134.5\n",
      "   6.2375  57.9792  28.5    133.65    15.9      9.225   35.      75.25\n",
      "  69.3     55.4417 211.5      4.0125 227.525   15.7417   7.7292  12.\n",
      " 120.      12.65    18.75     6.8583  32.5      7.875   14.4     55.9\n",
      "   8.1125  81.8583  19.2583  19.9667  89.1042  38.5      7.725   13.7917\n",
      "   9.8375   7.0458   7.5208  12.2875   9.5875  49.5042  78.2667  15.1\n",
      "   7.6292  22.525   26.2875  59.4      7.4958  34.0208  93.5    221.7792\n",
      " 106.425   49.5     71.      13.8625   7.8292  39.6     17.4     51.4792\n",
      "  26.3875  30.      40.125    8.7125  15.      33.      42.4     15.55\n",
      "  65.      32.3208   7.0542   8.4333  25.5875   9.8417   8.1375  10.1708\n",
      " 211.3375  57.      13.4167   7.7417   9.4833   7.7375   8.3625  23.45\n",
      "  25.9292   8.6833   8.5167   7.8875  37.0042   6.45     6.95     8.3\n",
      "   6.4375  39.4     14.1083  13.8583  50.4958   5.       9.8458  10.5167]\n",
      "Cabin [1 0]\n",
      "Pclass__1 [0 1]\n",
      "Pclass__2 [0 1]\n",
      "Pclass__3 [1 0]\n",
      "Embarked__C [0 1]\n",
      "Embarked__Q [0 1]\n",
      "Embarked__S [1 0]\n",
      "Embarked__unknown [0 1]\n"
     ]
    }
   ],
   "source": [
    "for col in train_data_c.columns.tolist():\n",
    "    print(col, train_data_c[col].unique())"
   ]
  },
  {
   "cell_type": "markdown",
   "id": "cd0a0981",
   "metadata": {},
   "source": [
    "## Feature scaling"
   ]
  },
  {
   "cell_type": "code",
   "execution_count": 81,
   "id": "8531b052",
   "metadata": {},
   "outputs": [],
   "source": [
    "train_data_num=train_data_c.select_dtypes(exclude='category')\n",
    "test_data_num=test_data_c.select_dtypes(exclude='category')"
   ]
  },
  {
   "cell_type": "code",
   "execution_count": 82,
   "id": "1a9dd866",
   "metadata": {},
   "outputs": [],
   "source": [
    "train_data_num2=train_data_c2.select_dtypes(exclude='category')\n",
    "test_data_num2=test_data_c2.select_dtypes(exclude='category')"
   ]
  },
  {
   "cell_type": "code",
   "execution_count": 83,
   "id": "155d6c5e",
   "metadata": {},
   "outputs": [],
   "source": [
    "train_data_num=train_data_num.drop(columns=['PassengerId'])\n",
    "test_data_num=test_data_num.drop(columns=['PassengerId'])"
   ]
  },
  {
   "cell_type": "code",
   "execution_count": 84,
   "id": "58ddd730",
   "metadata": {},
   "outputs": [],
   "source": [
    "train_data_num2=train_data_num2.drop(columns=['PassengerId'])\n",
    "test_data_num2=test_data_num2.drop(columns=['PassengerId'])"
   ]
  },
  {
   "cell_type": "code",
   "execution_count": 85,
   "id": "388f15eb",
   "metadata": {},
   "outputs": [],
   "source": [
    "train_columns = train_data_num.columns\n",
    "test_columns = test_data_num.columns"
   ]
  },
  {
   "cell_type": "code",
   "execution_count": 86,
   "id": "e92ab264",
   "metadata": {},
   "outputs": [
    {
     "data": {
      "text/plain": [
       "RobustScaler()"
      ]
     },
     "execution_count": 86,
     "metadata": {},
     "output_type": "execute_result"
    }
   ],
   "source": [
    "scaler = RobustScaler() \n",
    "scaler"
   ]
  },
  {
   "cell_type": "code",
   "execution_count": 87,
   "id": "066fbd3c",
   "metadata": {},
   "outputs": [],
   "source": [
    "train_data_scaled = scaler.fit_transform(train_data_num)\n",
    "train_data_scaled = pd.DataFrame(train_data_scaled, columns=train_columns)"
   ]
  },
  {
   "cell_type": "code",
   "execution_count": 88,
   "id": "d9436ffe",
   "metadata": {},
   "outputs": [],
   "source": [
    "train_data_scaled2 = scaler.fit_transform(train_data_num2)\n",
    "train_data_scaled2 = pd.DataFrame(train_data_scaled2, columns=train_columns)"
   ]
  },
  {
   "cell_type": "code",
   "execution_count": 89,
   "id": "a9c1a4eb",
   "metadata": {},
   "outputs": [],
   "source": [
    "test_data_scaled = scaler.fit_transform(test_data_num)\n",
    "test_data_scaled = pd.DataFrame(test_data_scaled, columns=test_columns)"
   ]
  },
  {
   "cell_type": "code",
   "execution_count": 90,
   "id": "a1cee6ca",
   "metadata": {},
   "outputs": [],
   "source": [
    "test_data_scaled2 = scaler.fit_transform(test_data_num2)\n",
    "test_data_scaled2 = pd.DataFrame(test_data_scaled2, columns=test_columns)"
   ]
  },
  {
   "cell_type": "code",
   "execution_count": 91,
   "id": "43872f4a",
   "metadata": {},
   "outputs": [],
   "source": [
    "test_data_full=pd.concat([test_data_scaled, test_data_c[['PassengerId','Name','Ticket']]], axis=1)\n",
    "train_data_full=pd.concat([train_data_scaled, train_data_c[['PassengerId','Name','Ticket']]], axis=1)"
   ]
  },
  {
   "cell_type": "code",
   "execution_count": 92,
   "id": "e6706e7f",
   "metadata": {},
   "outputs": [],
   "source": [
    "test_data_full2=pd.concat([test_data_scaled2, test_data_c2[['PassengerId','Name','Ticket']]], axis=1)\n",
    "train_data_full2=pd.concat([train_data_scaled2, train_data_c2[['PassengerId','Name','Ticket']]], axis=1)"
   ]
  },
  {
   "cell_type": "code",
   "execution_count": 93,
   "id": "5475f803",
   "metadata": {
    "scrolled": false
   },
   "outputs": [
    {
     "name": "stdout",
     "output_type": "stream",
     "text": [
      "<class 'pandas.core.frame.DataFrame'>\n",
      "RangeIndex: 891 entries, 0 to 890\n",
      "Data columns (total 17 columns):\n",
      " #   Column             Non-Null Count  Dtype   \n",
      "---  ------             --------------  -----   \n",
      " 0   Survived           891 non-null    float64 \n",
      " 1   Sex                891 non-null    float64 \n",
      " 2   Age                891 non-null    float64 \n",
      " 3   SibSp              891 non-null    float64 \n",
      " 4   Parch              891 non-null    float64 \n",
      " 5   Fare               891 non-null    float64 \n",
      " 6   Cabin              891 non-null    float64 \n",
      " 7   Pclass__1          891 non-null    float64 \n",
      " 8   Pclass__2          891 non-null    float64 \n",
      " 9   Pclass__3          891 non-null    float64 \n",
      " 10  Embarked__C        891 non-null    float64 \n",
      " 11  Embarked__Q        891 non-null    float64 \n",
      " 12  Embarked__S        891 non-null    float64 \n",
      " 13  Embarked__unknown  891 non-null    float64 \n",
      " 14  PassengerId        891 non-null    int64   \n",
      " 15  Name               891 non-null    category\n",
      " 16  Ticket             891 non-null    category\n",
      "dtypes: category(2), float64(14), int64(1)\n",
      "memory usage: 150.8 KB\n"
     ]
    }
   ],
   "source": [
    "train_data_full.info()"
   ]
  },
  {
   "cell_type": "code",
   "execution_count": 94,
   "id": "a283ea4e",
   "metadata": {},
   "outputs": [
    {
     "name": "stdout",
     "output_type": "stream",
     "text": [
      "<class 'pandas.core.frame.DataFrame'>\n",
      "RangeIndex: 418 entries, 0 to 417\n",
      "Data columns (total 15 columns):\n",
      " #   Column       Non-Null Count  Dtype   \n",
      "---  ------       --------------  -----   \n",
      " 0   Sex          418 non-null    float64 \n",
      " 1   Age          418 non-null    float64 \n",
      " 2   SibSp        418 non-null    float64 \n",
      " 3   Parch        418 non-null    float64 \n",
      " 4   Fare         418 non-null    float64 \n",
      " 5   Cabin        418 non-null    float64 \n",
      " 6   Pclass__1    418 non-null    float64 \n",
      " 7   Pclass__2    418 non-null    float64 \n",
      " 8   Pclass__3    418 non-null    float64 \n",
      " 9   Embarked__C  418 non-null    float64 \n",
      " 10  Embarked__Q  418 non-null    float64 \n",
      " 11  Embarked__S  418 non-null    float64 \n",
      " 12  PassengerId  418 non-null    int64   \n",
      " 13  Name         418 non-null    category\n",
      " 14  Ticket       418 non-null    category\n",
      "dtypes: category(2), float64(12), int64(1)\n",
      "memory usage: 66.0 KB\n"
     ]
    }
   ],
   "source": [
    "test_data_full2.info()"
   ]
  },
  {
   "cell_type": "code",
   "execution_count": 95,
   "id": "fb36c82f",
   "metadata": {},
   "outputs": [],
   "source": [
    "train_data_full.drop(columns=['Name', 'Ticket'], inplace=True)"
   ]
  },
  {
   "cell_type": "code",
   "execution_count": 96,
   "id": "9d60d023",
   "metadata": {},
   "outputs": [],
   "source": [
    "test_data_full.drop(columns=['Name', 'Ticket'], inplace=True)"
   ]
  },
  {
   "cell_type": "code",
   "execution_count": 97,
   "id": "acd9b409",
   "metadata": {},
   "outputs": [],
   "source": [
    "train_data_full2.drop(columns=['Name', 'Ticket'], inplace=True)"
   ]
  },
  {
   "cell_type": "code",
   "execution_count": 98,
   "id": "4753858a",
   "metadata": {},
   "outputs": [],
   "source": [
    "test_data_full2.drop(columns=['Name', 'Ticket'], inplace=True)"
   ]
  },
  {
   "cell_type": "markdown",
   "id": "aee6dd3e",
   "metadata": {},
   "source": [
    "## EDA"
   ]
  },
  {
   "cell_type": "code",
   "execution_count": 99,
   "id": "b3cc90c0",
   "metadata": {},
   "outputs": [
    {
     "data": {
      "text/plain": [
       "Survived               2\n",
       "Sex                    2\n",
       "Age                   88\n",
       "SibSp                  7\n",
       "Parch                  7\n",
       "Fare                 248\n",
       "Cabin                  2\n",
       "Pclass__1              2\n",
       "Pclass__2              2\n",
       "Pclass__3              2\n",
       "Embarked__C            2\n",
       "Embarked__Q            2\n",
       "Embarked__S            2\n",
       "Embarked__unknown      2\n",
       "PassengerId          891\n",
       "dtype: int64"
      ]
     },
     "execution_count": 99,
     "metadata": {},
     "output_type": "execute_result"
    }
   ],
   "source": [
    "train_data_full.nunique()"
   ]
  },
  {
   "cell_type": "code",
   "execution_count": 100,
   "id": "a303c8a5",
   "metadata": {},
   "outputs": [
    {
     "data": {
      "image/png": "[encoded data removed]",
      "text/plain": [
       "<Figure size 432x288 with 1 Axes>"
      ]
     },
     "metadata": {},
     "output_type": "display_data"
    },
    {
     "data": {
      "image/png": "[encoded data removed]",
      "text/plain": [
       "<Figure size 432x288 with 1 Axes>"
      ]
     },
     "metadata": {},
     "output_type": "display_data"
    },
    {
     "data": {
      "image/png": "[encoded data removed]",
      "text/plain": [
       "<Figure size 432x288 with 1 Axes>"
      ]
     },
     "metadata": {},
     "output_type": "display_data"
    },
    {
     "data": {
      "image/png": "[encoded data removed]",
      "text/plain": [
       "<Figure size 432x288 with 1 Axes>"
      ]
     },
     "metadata": {},
     "output_type": "display_data"
    },
    {
     "data": {
      "image/png": "[encoded data removed]",
      "text/plain": [
       "<Figure size 432x288 with 1 Axes>"
      ]
     },
     "metadata": {},
     "output_type": "display_data"
    },
    {
     "data": {
      "image/png": "[encoded data removed]",
      "text/plain": [
       "<Figure size 432x288 with 1 Axes>"
      ]
     },
     "metadata": {},
     "output_type": "display_data"
    },
    {
     "data": {
      "image/png": "[encoded data removed]",
      "text/plain": [
       "<Figure size 432x288 with 1 Axes>"
      ]
     },
     "metadata": {},
     "output_type": "display_data"
    },
    {
     "data": {
      "image/png": "[encoded data removed]",
      "text/plain": [
       "<Figure size 432x288 with 1 Axes>"
      ]
     },
     "metadata": {},
     "output_type": "display_data"
    },
    {
     "data": {
      "image/png": "[encoded data removed]",
      "text/plain": [
       "<Figure size 432x288 with 1 Axes>"
      ]
     },
     "metadata": {},
     "output_type": "display_data"
    },
    {
     "data": {
      "image/png": "[encoded data removed]",
      "text/plain": [
       "<Figure size 432x288 with 1 Axes>"
      ]
     },
     "metadata": {},
     "output_type": "display_data"
    },
    {
     "data": {
      "image/png": "[encoded data removed]",
      "text/plain": [
       "<Figure size 432x288 with 1 Axes>"
      ]
     },
     "metadata": {},
     "output_type": "display_data"
    },
    {
     "data": {
      "image/png": "[encoded data removed]",
      "text/plain": [
       "<Figure size 432x288 with 1 Axes>"
      ]
     },
     "metadata": {},
     "output_type": "display_data"
    },
    {
     "data": {
      "image/png": "[encoded data removed]",
      "text/plain": [
       "<Figure size 432x288 with 1 Axes>"
      ]
     },
     "metadata": {},
     "output_type": "display_data"
    },
    {
     "data": {
      "image/png": "[encoded data removed]",
      "text/plain": [
       "<Figure size 432x288 with 1 Axes>"
      ]
     },
     "metadata": {},
     "output_type": "display_data"
    },
    {
     "data": {
      "image/png": "[encoded data removed]",
      "text/plain": [
       "<Figure size 432x288 with 1 Axes>"
      ]
     },
     "metadata": {},
     "output_type": "display_data"
    }
   ],
   "source": [
    "for col in train_data_full.columns.tolist():\n",
    "    sns.histplot(data=train_data_full[col])\n",
    "    plt.title(col)\n",
    "    plt.show()"
   ]
  },
  {
   "cell_type": "code",
   "execution_count": 101,
   "id": "82662a76",
   "metadata": {},
   "outputs": [
    {
     "data": {
      "image/png": "[encoded data removed]",
      "text/plain": [
       "<Figure size 1080x1080 with 2 Axes>"
      ]
     },
     "metadata": {},
     "output_type": "display_data"
    }
   ],
   "source": [
    "corr = train_data_full.drop(columns=['PassengerId']).corr()\n",
    "#corr_survived=corr[['Survived']]\n",
    "\n",
    "#make it only bottom triangle\n",
    "matrix = np.triu(corr)\n",
    "\n",
    "\n",
    "fig=plt.figure(figsize=(15,15))\n",
    "\n",
    "#cute colours\n",
    "cmap = sns.diverging_palette(230, 20, as_cmap=True)\n",
    "\n",
    "# plot the heatmap\n",
    "g=sns.heatmap(corr, \n",
    "        xticklabels=corr.columns,\n",
    "        yticklabels=corr.columns,\n",
    "           annot=True, vmax=1, vmin=-1, center=0, mask=matrix, cmap=cmap)\n",
    "\n",
    "\n",
    "#add title\n",
    "plt.title(\"Correlation Heatmap 2018\", fontdict = {'fontsize' : 15})\n",
    "\n",
    "\n",
    "#delete ticks\n",
    "g.tick_params(axis='y',left=False)\n",
    "g.tick_params(axis='x',bottom=False)\n",
    "plt.show()"
   ]
  },
  {
   "cell_type": "markdown",
   "id": "66eca5e9",
   "metadata": {},
   "source": [
    "## Modelling"
   ]
  },
  {
   "cell_type": "code",
   "execution_count": 102,
   "id": "987ed4b9",
   "metadata": {},
   "outputs": [],
   "source": [
    "train_data_full= train_data_full.sample(frac=1)\n",
    "\n",
    "X = train_data_full.drop('Survived', axis= 1)\n",
    "y = train_data_full.Survived"
   ]
  },
  {
   "cell_type": "code",
   "execution_count": 103,
   "id": "db6a172b",
   "metadata": {},
   "outputs": [],
   "source": [
    "train_data_full= train_data_full2.sample(frac=1)\n",
    "\n",
    "X2 = train_data_full2.drop('Survived', axis= 1)\n",
    "y2 = train_data_full2.Survived"
   ]
  },
  {
   "cell_type": "code",
   "execution_count": 104,
   "id": "0f72896b",
   "metadata": {},
   "outputs": [],
   "source": [
    "X_train, X_test, y_train, y_test = train_test_split(X, y, test_size=0.3,\n",
    "                                                    random_state=42)"
   ]
  },
  {
   "cell_type": "code",
   "execution_count": 105,
   "id": "928cc157",
   "metadata": {},
   "outputs": [],
   "source": [
    "X_train2, X_test2, y_train2, y_test2 = train_test_split(X2, y2, test_size=0.3,\n",
    "                                                    random_state=42)"
   ]
  },
  {
   "cell_type": "markdown",
   "id": "2f112ff1",
   "metadata": {},
   "source": [
    "### Random forest"
   ]
  },
  {
   "cell_type": "code",
   "execution_count": 106,
   "id": "c18c3c5c",
   "metadata": {},
   "outputs": [
    {
     "data": {
      "text/plain": [
       "RandomForestClassifier(random_state=42)"
      ]
     },
     "execution_count": 106,
     "metadata": {},
     "output_type": "execute_result"
    }
   ],
   "source": [
    "rand_forest = RandomForestClassifier(n_estimators=100, random_state=42)\n",
    "rand_forest.fit(X_train, y_train)"
   ]
  },
  {
   "cell_type": "code",
   "execution_count": 107,
   "id": "493a54d2",
   "metadata": {},
   "outputs": [
    {
     "name": "stdout",
     "output_type": "stream",
     "text": [
      "-----------------------------------------\n",
      "TRAIN results\n",
      "-----------------------------------------\n",
      "Confusion Matrix \n",
      " [[372   0]\n",
      " [  0 251]]\n",
      "-----------------------------------------\n",
      "TEST results\n",
      "-----------------------------------------\n",
      "Confusion Matrix \n",
      " [[153  24]\n",
      " [ 38  53]]\n",
      " Classification report \n",
      "      precision    recall  f1-score  support\n",
      "0.0   0.801047  0.864407  0.831522    177.0\n",
      "1.0   0.688312  0.582418  0.630952     91.0\n",
      "\n",
      "++++++++ Summary of the Metrics +++++++++++++++++++++++++++++++++++\n",
      "       Accuracy  Precision    Recall        f1\n",
      "Train  0.840988   0.838492  0.831864  0.833282\n",
      "test   0.768657   0.744679  0.723412  0.731237\n"
     ]
    },
    {
     "data": {
      "text/html": [
       "<div>\n",
       "<style scoped>\n",
       "    .dataframe tbody tr th:only-of-type {\n",
       "        vertical-align: middle;\n",
       "    }\n",
       "\n",
       "    .dataframe tbody tr th {\n",
       "        vertical-align: top;\n",
       "    }\n",
       "\n",
       "    .dataframe thead th {\n",
       "        text-align: right;\n",
       "    }\n",
       "</style>\n",
       "<table border=\"1\" class=\"dataframe\">\n",
       "  <thead>\n",
       "    <tr style=\"text-align: right;\">\n",
       "      <th></th>\n",
       "      <th>Accuracy</th>\n",
       "      <th>Precision</th>\n",
       "      <th>Recall</th>\n",
       "      <th>f1</th>\n",
       "    </tr>\n",
       "  </thead>\n",
       "  <tbody>\n",
       "    <tr>\n",
       "      <th>Train</th>\n",
       "      <td>0.840988</td>\n",
       "      <td>0.838492</td>\n",
       "      <td>0.831864</td>\n",
       "      <td>0.833282</td>\n",
       "    </tr>\n",
       "    <tr>\n",
       "      <th>test</th>\n",
       "      <td>0.768657</td>\n",
       "      <td>0.744679</td>\n",
       "      <td>0.723412</td>\n",
       "      <td>0.731237</td>\n",
       "    </tr>\n",
       "  </tbody>\n",
       "</table>\n",
       "</div>"
      ],
      "text/plain": [
       "       Accuracy  Precision    Recall        f1\n",
       "Train  0.840988   0.838492  0.831864  0.833282\n",
       "test   0.768657   0.744679  0.723412  0.731237"
      ]
     },
     "execution_count": 107,
     "metadata": {},
     "output_type": "execute_result"
    }
   ],
   "source": [
    "Allmetrics(rand_forest, X_train, y_train, X_test, y_test)"
   ]
  },
  {
   "cell_type": "markdown",
   "id": "6532b095",
   "metadata": {},
   "source": [
    "### Random forest with oversampling"
   ]
  },
  {
   "cell_type": "code",
   "execution_count": 108,
   "id": "d3f0db1a",
   "metadata": {},
   "outputs": [],
   "source": [
    "smote = SMOTE(random_state =7)\n",
    "X_sm, y_sm = smote.fit_resample(X_train, y_train)"
   ]
  },
  {
   "cell_type": "code",
   "execution_count": 109,
   "id": "ce0dcfae",
   "metadata": {},
   "outputs": [
    {
     "name": "stdout",
     "output_type": "stream",
     "text": [
      "\n",
      "Before OVER-sampling\n",
      " 0.0    372\n",
      "1.0    251\n",
      "Name: Survived, dtype: int64\n",
      "\n",
      "After OVER-sampling\n",
      " 0.0    372\n",
      "1.0    372\n",
      "Name: Survived, dtype: int64\n"
     ]
    }
   ],
   "source": [
    "print('\\nBefore OVER-sampling\\n', y_train.value_counts())\n",
    "print('\\nAfter OVER-sampling\\n', y_sm.value_counts())"
   ]
  },
  {
   "cell_type": "code",
   "execution_count": 110,
   "id": "9ef6b28b",
   "metadata": {},
   "outputs": [
    {
     "data": {
      "text/plain": [
       "RandomForestClassifier(random_state=42)"
      ]
     },
     "execution_count": 110,
     "metadata": {},
     "output_type": "execute_result"
    }
   ],
   "source": [
    "rand_forest_sm = RandomForestClassifier(n_estimators=100, random_state=42)\n",
    "rand_forest_sm.fit(X_sm, y_sm)"
   ]
  },
  {
   "cell_type": "code",
   "execution_count": 111,
   "id": "303c13e6",
   "metadata": {},
   "outputs": [
    {
     "name": "stdout",
     "output_type": "stream",
     "text": [
      "-----------------------------------------\n",
      "TRAIN results\n",
      "-----------------------------------------\n",
      "Confusion Matrix \n",
      " [[372   0]\n",
      " [  0 372]]\n",
      "-----------------------------------------\n",
      "TEST results\n",
      "-----------------------------------------\n",
      "Confusion Matrix \n",
      " [[152  25]\n",
      " [ 35  56]]\n",
      " Classification report \n",
      "      precision    recall  f1-score  support\n",
      "0.0   0.812834  0.858757  0.835165    177.0\n",
      "1.0   0.691358  0.615385  0.651163     91.0\n",
      "\n",
      "++++++++ Summary of the Metrics +++++++++++++++++++++++++++++++++++\n",
      "       Accuracy  Precision    Recall        f1\n",
      "Train  0.868450   0.879547  0.868243  0.867263\n",
      "test   0.776119   0.752096  0.737071  0.743164\n"
     ]
    },
    {
     "data": {
      "text/html": [
       "<div>\n",
       "<style scoped>\n",
       "    .dataframe tbody tr th:only-of-type {\n",
       "        vertical-align: middle;\n",
       "    }\n",
       "\n",
       "    .dataframe tbody tr th {\n",
       "        vertical-align: top;\n",
       "    }\n",
       "\n",
       "    .dataframe thead th {\n",
       "        text-align: right;\n",
       "    }\n",
       "</style>\n",
       "<table border=\"1\" class=\"dataframe\">\n",
       "  <thead>\n",
       "    <tr style=\"text-align: right;\">\n",
       "      <th></th>\n",
       "      <th>Accuracy</th>\n",
       "      <th>Precision</th>\n",
       "      <th>Recall</th>\n",
       "      <th>f1</th>\n",
       "    </tr>\n",
       "  </thead>\n",
       "  <tbody>\n",
       "    <tr>\n",
       "      <th>Train</th>\n",
       "      <td>0.868450</td>\n",
       "      <td>0.879547</td>\n",
       "      <td>0.868243</td>\n",
       "      <td>0.867263</td>\n",
       "    </tr>\n",
       "    <tr>\n",
       "      <th>test</th>\n",
       "      <td>0.776119</td>\n",
       "      <td>0.752096</td>\n",
       "      <td>0.737071</td>\n",
       "      <td>0.743164</td>\n",
       "    </tr>\n",
       "  </tbody>\n",
       "</table>\n",
       "</div>"
      ],
      "text/plain": [
       "       Accuracy  Precision    Recall        f1\n",
       "Train  0.868450   0.879547  0.868243  0.867263\n",
       "test   0.776119   0.752096  0.737071  0.743164"
      ]
     },
     "execution_count": 111,
     "metadata": {},
     "output_type": "execute_result"
    }
   ],
   "source": [
    "Allmetrics(rand_forest_sm, X_sm, y_sm, X_test, y_test)"
   ]
  },
  {
   "cell_type": "markdown",
   "id": "0d52ed30",
   "metadata": {},
   "source": [
    "### Logistic regression"
   ]
  },
  {
   "cell_type": "code",
   "execution_count": 112,
   "id": "ef5b29f2",
   "metadata": {},
   "outputs": [],
   "source": [
    "log_reg = LogisticRegression(random_state=42)\n",
    "\n",
    "log_reg.fit(X_train, y_train)\n",
    "\n",
    "y_pred = log_reg.predict(X_test)"
   ]
  },
  {
   "cell_type": "code",
   "execution_count": 113,
   "id": "2ac2b54c",
   "metadata": {},
   "outputs": [
    {
     "name": "stdout",
     "output_type": "stream",
     "text": [
      "-----------------------------------------\n",
      "TRAIN results\n",
      "-----------------------------------------\n",
      "Confusion Matrix \n",
      " [[326  46]\n",
      " [ 61 190]]\n",
      "-----------------------------------------\n",
      "TEST results\n",
      "-----------------------------------------\n",
      "Confusion Matrix \n",
      " [[151  26]\n",
      " [ 32  59]]\n",
      " Classification report \n",
      "      precision    recall  f1-score  support\n",
      "0.0   0.825137  0.853107  0.838889    177.0\n",
      "1.0   0.694118  0.648352  0.670455     91.0\n",
      "\n",
      "++++++++ Summary of the Metrics +++++++++++++++++++++++++++++++++++\n",
      "       Accuracy  Precision    Recall        f1\n",
      "Train  0.823349   0.822101  0.811315  0.814016\n",
      "test   0.783582   0.759627  0.750729  0.754672\n"
     ]
    },
    {
     "data": {
      "text/html": [
       "<div>\n",
       "<style scoped>\n",
       "    .dataframe tbody tr th:only-of-type {\n",
       "        vertical-align: middle;\n",
       "    }\n",
       "\n",
       "    .dataframe tbody tr th {\n",
       "        vertical-align: top;\n",
       "    }\n",
       "\n",
       "    .dataframe thead th {\n",
       "        text-align: right;\n",
       "    }\n",
       "</style>\n",
       "<table border=\"1\" class=\"dataframe\">\n",
       "  <thead>\n",
       "    <tr style=\"text-align: right;\">\n",
       "      <th></th>\n",
       "      <th>Accuracy</th>\n",
       "      <th>Precision</th>\n",
       "      <th>Recall</th>\n",
       "      <th>f1</th>\n",
       "    </tr>\n",
       "  </thead>\n",
       "  <tbody>\n",
       "    <tr>\n",
       "      <th>Train</th>\n",
       "      <td>0.823349</td>\n",
       "      <td>0.822101</td>\n",
       "      <td>0.811315</td>\n",
       "      <td>0.814016</td>\n",
       "    </tr>\n",
       "    <tr>\n",
       "      <th>test</th>\n",
       "      <td>0.783582</td>\n",
       "      <td>0.759627</td>\n",
       "      <td>0.750729</td>\n",
       "      <td>0.754672</td>\n",
       "    </tr>\n",
       "  </tbody>\n",
       "</table>\n",
       "</div>"
      ],
      "text/plain": [
       "       Accuracy  Precision    Recall        f1\n",
       "Train  0.823349   0.822101  0.811315  0.814016\n",
       "test   0.783582   0.759627  0.750729  0.754672"
      ]
     },
     "execution_count": 113,
     "metadata": {},
     "output_type": "execute_result"
    }
   ],
   "source": [
    "Allmetrics(log_reg, X_train, y_train, X_test, y_test)"
   ]
  },
  {
   "cell_type": "markdown",
   "id": "0c75c5bc",
   "metadata": {},
   "source": [
    "### Gradient boosting"
   ]
  },
  {
   "cell_type": "markdown",
   "id": "29e0da5e",
   "metadata": {},
   "source": [
    "#### With Null values method 1"
   ]
  },
  {
   "cell_type": "code",
   "execution_count": 114,
   "id": "218eceb9",
   "metadata": {},
   "outputs": [
    {
     "name": "stdout",
     "output_type": "stream",
     "text": [
      "Learning rate:  0.05\n",
      "Accuracy score (training): 0.787\n",
      "Accuracy score (validation): 0.772\n",
      "Learning rate:  0.075\n",
      "Accuracy score (training): 0.803\n",
      "Accuracy score (validation): 0.787\n",
      "Learning rate:  0.1\n",
      "Accuracy score (training): 0.817\n",
      "Accuracy score (validation): 0.787\n",
      "Learning rate:  0.25\n",
      "Accuracy score (training): 0.841\n",
      "Accuracy score (validation): 0.769\n",
      "Learning rate:  0.5\n",
      "Accuracy score (training): 0.852\n",
      "Accuracy score (validation): 0.750\n",
      "Learning rate:  0.75\n",
      "Accuracy score (training): 0.851\n",
      "Accuracy score (validation): 0.761\n",
      "Learning rate:  1\n",
      "Accuracy score (training): 0.865\n",
      "Accuracy score (validation): 0.743\n",
      "Learning rate:  1.2\n",
      "Accuracy score (training): 0.870\n",
      "Accuracy score (validation): 0.728\n"
     ]
    }
   ],
   "source": [
    "lr_list = [0.05, 0.075, 0.1, 0.25, 0.5, 0.75, 1, 1.2]\n",
    "\n",
    "for learning_rate in lr_list:\n",
    "    gb_clf = GradientBoostingClassifier(n_estimators=20, learning_rate=learning_rate, max_features=2, max_depth=2, random_state=0)\n",
    "    gb_clf.fit(X_train, y_train)\n",
    "    print(\"Learning rate: \", learning_rate)\n",
    "    print(\"Accuracy score (training): {0:.3f}\".format(gb_clf.score(X_train, y_train)))\n",
    "    print(\"Accuracy score (validation): {0:.3f}\".format(gb_clf.score(X_test, y_test)))\n",
    " "
   ]
  },
  {
   "cell_type": "code",
   "execution_count": 115,
   "id": "6b8822e8",
   "metadata": {},
   "outputs": [
    {
     "data": {
      "text/plain": [
       "GradientBoostingClassifier(learning_rate=1, max_depth=2, max_features=2,\n",
       "                           n_estimators=20, random_state=0)"
      ]
     },
     "execution_count": 115,
     "metadata": {},
     "output_type": "execute_result"
    }
   ],
   "source": [
    "gb_clf = GradientBoostingClassifier(n_estimators=20, learning_rate=1, max_features=2, max_depth=2, random_state=0)\n",
    "gb_clf.fit(X_train, y_train)"
   ]
  },
  {
   "cell_type": "code",
   "execution_count": 116,
   "id": "e3e3cc63",
   "metadata": {},
   "outputs": [
    {
     "name": "stdout",
     "output_type": "stream",
     "text": [
      "-----------------------------------------\n",
      "TRAIN results\n",
      "-----------------------------------------\n",
      "Confusion Matrix \n",
      " [[334  38]\n",
      " [ 46 205]]\n",
      "-----------------------------------------\n",
      "TEST results\n",
      "-----------------------------------------\n",
      "Confusion Matrix \n",
      " [[145  32]\n",
      " [ 37  54]]\n",
      " Classification report \n",
      "      precision    recall  f1-score  support\n",
      "0.0   0.796703  0.819209  0.807799    177.0\n",
      "1.0   0.627907  0.593407  0.610169     91.0\n",
      "\n",
      "++++++++ Summary of the Metrics +++++++++++++++++++++++++++++++++++\n",
      "       Accuracy  Precision    Recall        f1\n",
      "Train  0.823400   0.823249  0.809977  0.813038\n",
      "test   0.742537   0.712305  0.706308  0.708984\n"
     ]
    },
    {
     "data": {
      "text/html": [
       "<div>\n",
       "<style scoped>\n",
       "    .dataframe tbody tr th:only-of-type {\n",
       "        vertical-align: middle;\n",
       "    }\n",
       "\n",
       "    .dataframe tbody tr th {\n",
       "        vertical-align: top;\n",
       "    }\n",
       "\n",
       "    .dataframe thead th {\n",
       "        text-align: right;\n",
       "    }\n",
       "</style>\n",
       "<table border=\"1\" class=\"dataframe\">\n",
       "  <thead>\n",
       "    <tr style=\"text-align: right;\">\n",
       "      <th></th>\n",
       "      <th>Accuracy</th>\n",
       "      <th>Precision</th>\n",
       "      <th>Recall</th>\n",
       "      <th>f1</th>\n",
       "    </tr>\n",
       "  </thead>\n",
       "  <tbody>\n",
       "    <tr>\n",
       "      <th>Train</th>\n",
       "      <td>0.823400</td>\n",
       "      <td>0.823249</td>\n",
       "      <td>0.809977</td>\n",
       "      <td>0.813038</td>\n",
       "    </tr>\n",
       "    <tr>\n",
       "      <th>test</th>\n",
       "      <td>0.742537</td>\n",
       "      <td>0.712305</td>\n",
       "      <td>0.706308</td>\n",
       "      <td>0.708984</td>\n",
       "    </tr>\n",
       "  </tbody>\n",
       "</table>\n",
       "</div>"
      ],
      "text/plain": [
       "       Accuracy  Precision    Recall        f1\n",
       "Train  0.823400   0.823249  0.809977  0.813038\n",
       "test   0.742537   0.712305  0.706308  0.708984"
      ]
     },
     "execution_count": 116,
     "metadata": {},
     "output_type": "execute_result"
    }
   ],
   "source": [
    "Allmetrics(gb_clf, X_train, y_train, X_test, y_test)"
   ]
  },
  {
   "cell_type": "markdown",
   "id": "1767aa56",
   "metadata": {},
   "source": [
    "#### With null values method 2"
   ]
  },
  {
   "cell_type": "code",
   "execution_count": 117,
   "id": "b7b0266c",
   "metadata": {},
   "outputs": [
    {
     "name": "stdout",
     "output_type": "stream",
     "text": [
      "Learning rate:  0.05\n",
      "Accuracy score (training): 0.737\n",
      "Accuracy score (validation): 0.713\n",
      "Learning rate:  0.075\n",
      "Accuracy score (training): 0.791\n",
      "Accuracy score (validation): 0.750\n",
      "Learning rate:  0.1\n",
      "Accuracy score (training): 0.825\n",
      "Accuracy score (validation): 0.769\n",
      "Learning rate:  0.25\n",
      "Accuracy score (training): 0.839\n",
      "Accuracy score (validation): 0.795\n",
      "Learning rate:  0.5\n",
      "Accuracy score (training): 0.848\n",
      "Accuracy score (validation): 0.787\n",
      "Learning rate:  0.75\n",
      "Accuracy score (training): 0.839\n",
      "Accuracy score (validation): 0.795\n",
      "Learning rate:  1\n",
      "Accuracy score (training): 0.843\n",
      "Accuracy score (validation): 0.799\n",
      "Learning rate:  1.2\n",
      "Accuracy score (training): 0.838\n",
      "Accuracy score (validation): 0.780\n"
     ]
    }
   ],
   "source": [
    "lr_list = [0.05, 0.075, 0.1, 0.25, 0.5, 0.75, 1, 1.2]\n",
    "\n",
    "for learning_rate in lr_list:\n",
    "    gb_clf = GradientBoostingClassifier(n_estimators=20, learning_rate=learning_rate, max_features=2, max_depth=2, random_state=0)\n",
    "    gb_clf.fit(X_train2, y_train2)\n",
    "    print(\"Learning rate: \", learning_rate)\n",
    "    print(\"Accuracy score (training): {0:.3f}\".format(gb_clf.score(X_train2, y_train2)))\n",
    "    print(\"Accuracy score (validation): {0:.3f}\".format(gb_clf.score(X_test2, y_test2)))\n",
    " "
   ]
  },
  {
   "cell_type": "code",
   "execution_count": 118,
   "id": "3f1fb135",
   "metadata": {},
   "outputs": [
    {
     "data": {
      "text/plain": [
       "GradientBoostingClassifier(learning_rate=1, max_depth=2, max_features=2,\n",
       "                           n_estimators=20, random_state=0)"
      ]
     },
     "execution_count": 118,
     "metadata": {},
     "output_type": "execute_result"
    }
   ],
   "source": [
    "gb_clf = GradientBoostingClassifier(n_estimators=20, learning_rate=1, max_features=2, max_depth=2, random_state=0)\n",
    "gb_clf.fit(X_train2, y_train2)"
   ]
  },
  {
   "cell_type": "code",
   "execution_count": 119,
   "id": "a004b3b9",
   "metadata": {},
   "outputs": [
    {
     "name": "stdout",
     "output_type": "stream",
     "text": [
      "-----------------------------------------\n",
      "TRAIN results\n",
      "-----------------------------------------\n",
      "Confusion Matrix \n",
      " [[352  40]\n",
      " [ 58 173]]\n",
      "-----------------------------------------\n",
      "TEST results\n",
      "-----------------------------------------\n",
      "Confusion Matrix \n",
      " [[136  21]\n",
      " [ 33  78]]\n",
      " Classification report \n",
      "      precision    recall  f1-score  support\n",
      "0.0   0.804734  0.866242  0.834356    157.0\n",
      "1.0   0.787879  0.702703  0.742857    111.0\n",
      "\n",
      "++++++++ Summary of the Metrics +++++++++++++++++++++++++++++++++++\n",
      "       Accuracy  Precision    Recall        f1\n",
      "Train  0.802458   0.792670  0.775566  0.781689\n",
      "test   0.798507   0.796306  0.784472  0.788606\n"
     ]
    },
    {
     "data": {
      "text/html": [
       "<div>\n",
       "<style scoped>\n",
       "    .dataframe tbody tr th:only-of-type {\n",
       "        vertical-align: middle;\n",
       "    }\n",
       "\n",
       "    .dataframe tbody tr th {\n",
       "        vertical-align: top;\n",
       "    }\n",
       "\n",
       "    .dataframe thead th {\n",
       "        text-align: right;\n",
       "    }\n",
       "</style>\n",
       "<table border=\"1\" class=\"dataframe\">\n",
       "  <thead>\n",
       "    <tr style=\"text-align: right;\">\n",
       "      <th></th>\n",
       "      <th>Accuracy</th>\n",
       "      <th>Precision</th>\n",
       "      <th>Recall</th>\n",
       "      <th>f1</th>\n",
       "    </tr>\n",
       "  </thead>\n",
       "  <tbody>\n",
       "    <tr>\n",
       "      <th>Train</th>\n",
       "      <td>0.802458</td>\n",
       "      <td>0.792670</td>\n",
       "      <td>0.775566</td>\n",
       "      <td>0.781689</td>\n",
       "    </tr>\n",
       "    <tr>\n",
       "      <th>test</th>\n",
       "      <td>0.798507</td>\n",
       "      <td>0.796306</td>\n",
       "      <td>0.784472</td>\n",
       "      <td>0.788606</td>\n",
       "    </tr>\n",
       "  </tbody>\n",
       "</table>\n",
       "</div>"
      ],
      "text/plain": [
       "       Accuracy  Precision    Recall        f1\n",
       "Train  0.802458   0.792670  0.775566  0.781689\n",
       "test   0.798507   0.796306  0.784472  0.788606"
      ]
     },
     "execution_count": 119,
     "metadata": {},
     "output_type": "execute_result"
    }
   ],
   "source": [
    "Allmetrics(gb_clf, X_train2, y_train2, X_test2, y_test2)"
   ]
  },
  {
   "cell_type": "markdown",
   "id": "36982ed3",
   "metadata": {},
   "source": [
    "## Support Vector Machine"
   ]
  },
  {
   "cell_type": "code",
   "execution_count": 120,
   "id": "f05c6c88",
   "metadata": {},
   "outputs": [
    {
     "data": {
      "text/plain": [
       "SVC(kernel='linear', probability=True)"
      ]
     },
     "execution_count": 120,
     "metadata": {},
     "output_type": "execute_result"
    }
   ],
   "source": [
    "modelSVC = SVC(kernel='linear', probability=True)\n",
    "modelSVC.fit(X_train, y_train)"
   ]
  },
  {
   "cell_type": "code",
   "execution_count": 121,
   "id": "4b55b469",
   "metadata": {
    "scrolled": true
   },
   "outputs": [],
   "source": [
    "y_pred = modelSVC.predict(X_test)"
   ]
  },
  {
   "cell_type": "code",
   "execution_count": 122,
   "id": "97a86d2c",
   "metadata": {},
   "outputs": [
    {
     "name": "stdout",
     "output_type": "stream",
     "text": [
      "Accuracy: 0.7761194029850746\n"
     ]
    }
   ],
   "source": [
    "print(\"Accuracy:\",metrics.accuracy_score(y_test, y_pred))"
   ]
  },
  {
   "cell_type": "markdown",
   "id": "13bad3e3",
   "metadata": {},
   "source": [
    "## Adaboost classifier"
   ]
  },
  {
   "cell_type": "code",
   "execution_count": 123,
   "id": "62c599d2",
   "metadata": {},
   "outputs": [
    {
     "name": "stdout",
     "output_type": "stream",
     "text": [
      "-----------------------------------------\n",
      "TRAIN results\n",
      "-----------------------------------------\n",
      "Confusion Matrix \n",
      " [[351  41]\n",
      " [ 58 173]]\n",
      "-----------------------------------------\n",
      "TEST results\n",
      "-----------------------------------------\n",
      "Confusion Matrix \n",
      " [[134  23]\n",
      " [ 32  79]]\n",
      " Classification report \n",
      "      precision    recall  f1-score  support\n",
      "0.0   0.807229  0.853503  0.829721    157.0\n",
      "1.0   0.774510  0.711712  0.741784    111.0\n",
      "\n",
      "++++++++ Summary of the Metrics +++++++++++++++++++++++++++++++++++\n",
      "       Accuracy  Precision    Recall        f1\n",
      "Train  0.800845   0.788909  0.777793  0.781888\n",
      "test   0.794776   0.790869  0.782607  0.785753\n"
     ]
    },
    {
     "data": {
      "text/html": [
       "<div>\n",
       "<style scoped>\n",
       "    .dataframe tbody tr th:only-of-type {\n",
       "        vertical-align: middle;\n",
       "    }\n",
       "\n",
       "    .dataframe tbody tr th {\n",
       "        vertical-align: top;\n",
       "    }\n",
       "\n",
       "    .dataframe thead th {\n",
       "        text-align: right;\n",
       "    }\n",
       "</style>\n",
       "<table border=\"1\" class=\"dataframe\">\n",
       "  <thead>\n",
       "    <tr style=\"text-align: right;\">\n",
       "      <th></th>\n",
       "      <th>Accuracy</th>\n",
       "      <th>Precision</th>\n",
       "      <th>Recall</th>\n",
       "      <th>f1</th>\n",
       "    </tr>\n",
       "  </thead>\n",
       "  <tbody>\n",
       "    <tr>\n",
       "      <th>Train</th>\n",
       "      <td>0.800845</td>\n",
       "      <td>0.788909</td>\n",
       "      <td>0.777793</td>\n",
       "      <td>0.781888</td>\n",
       "    </tr>\n",
       "    <tr>\n",
       "      <th>test</th>\n",
       "      <td>0.794776</td>\n",
       "      <td>0.790869</td>\n",
       "      <td>0.782607</td>\n",
       "      <td>0.785753</td>\n",
       "    </tr>\n",
       "  </tbody>\n",
       "</table>\n",
       "</div>"
      ],
      "text/plain": [
       "       Accuracy  Precision    Recall        f1\n",
       "Train  0.800845   0.788909  0.777793  0.781888\n",
       "test   0.794776   0.790869  0.782607  0.785753"
      ]
     },
     "execution_count": 123,
     "metadata": {},
     "output_type": "execute_result"
    }
   ],
   "source": [
    "ada =  AdaBoostClassifier()\n",
    "ada.fit(X_train2,y_train2)\n",
    "\n",
    "Allmetrics(ada, X_train2, y_train2, X_test2, y_test2)"
   ]
  },
  {
   "cell_type": "code",
   "execution_count": null,
   "id": "c3af165c",
   "metadata": {},
   "outputs": [],
   "source": []
  }
 ],
 "metadata": {
  "kernelspec": {
   "display_name": "Python 3",
   "language": "python",
   "name": "python3"
  },
  "language_info": {
   "codemirror_mode": {
    "name": "ipython",
    "version": 3
   },
   "file_extension": ".py",
   "mimetype": "text/x-python",
   "name": "python",
   "nbconvert_exporter": "python",
   "pygments_lexer": "ipython3",
   "version": "3.7.10"
  }
 },
 "nbformat": 4,
 "nbformat_minor": 5
}
