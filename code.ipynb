{
 "cells": [
  {
   "cell_type": "code",
   "execution_count": null,
   "id": "54912aa2",
   "metadata": {},
   "outputs": [],
   "source": [
    "import numpy as np \n",
    "import pandas as pd\n",
    "import seaborn as sns\n",
    "import matplotlib.pyplot as plt\n",
    "import warnings\n",
    "warnings.filterwarnings('ignore')\n",
    "\n",
    "\n",
    "from sklearn.model_selection import train_test_split\n",
    "from sklearn.tree import DecisionTreeClassifier\n",
    "from sklearn.model_selection import GridSearchCV\n",
    "from sklearn.model_selection import cross_validate\n",
    "from sklearn.model_selection import cross_val_score\n",
    "from sklearn import metrics\n",
    "from sklearn.metrics import confusion_matrix\n",
    "from sklearn import preprocessing\n",
    "from sklearn.preprocessing import MinMaxScaler, LabelEncoder, RobustScaler,StandardScaler\n",
    "from sklearn.tree import DecisionTreeClassifier\n",
    "from sklearn.linear_model import LogisticRegression, LogisticRegressionCV\n",
    "from imblearn.over_sampling import SMOTE\n",
    "from sklearn.ensemble import RandomForestClassifier\n",
    "from sklearn.ensemble import GradientBoostingClassifier, AdaBoostClassifier\n",
    "from sklearn.impute import SimpleImputer, KNNImputer\n",
    "from sklearn.svm import SVR, SVC"
   ]
  },
  {
   "cell_type": "code",
   "execution_count": null,
   "id": "8b16dd8a",
   "metadata": {},
   "outputs": [],
   "source": [
    "import sys\n",
    "sys.path.insert(0, '/Users/bertagrim/dev_projects/data_science_bootcamp/_CLASS CONTENT/_functions_')"
   ]
  },
  {
   "cell_type": "code",
   "execution_count": null,
   "id": "04ab8727",
   "metadata": {},
   "outputs": [],
   "source": [
    "from fx_MLClassification import *\n",
    "from Functions_EDA import *\n",
    "from fx_MLClassification import *\n",
    "from Functions_EDA import *"
   ]
  },
  {
   "cell_type": "code",
   "execution_count": null,
   "id": "c1edacf9",
   "metadata": {},
   "outputs": [],
   "source": [
    "# survival - Survival (0 = No; 1 = Yes)\n",
    "# class - Passenger Class (1 = 1st; 2 = 2nd; 3 = 3rd)\n",
    "# name - Name\n",
    "# sex - Sex\n",
    "# age - Age\n",
    "# sibsp - Number of Siblings/Spouses Aboard\n",
    "# parch - Number of Parents/Children Aboard\n",
    "# ticket - Ticket Number\n",
    "# fare - Passenger Fare\n",
    "# cabin - Cabin\n",
    "# embarked - Port of Embarkation (C = Cherbourg; Q = Queenstown; S = Southampton)"
   ]
  },
  {
   "cell_type": "code",
   "execution_count": null,
   "id": "1ce37cee",
   "metadata": {},
   "outputs": [],
   "source": [
    "list_missing_values=['Nan']"
   ]
  },
  {
   "cell_type": "code",
   "execution_count": null,
   "id": "354e07b3",
   "metadata": {},
   "outputs": [],
   "source": [
    "train_data = pd.read_csv(\"/Users/bertagrim/dev_projects/titanic/train.csv\", na_values=list_missing_values)\n",
    "train_data.head()"
   ]
  },
  {
   "cell_type": "code",
   "execution_count": null,
   "id": "f20d8090",
   "metadata": {},
   "outputs": [],
   "source": [
    "test_data = pd.read_csv(\"/Users/bertagrim/dev_projects/titanic/test.csv\", na_values=list_missing_values)\n",
    "test_data.head()"
   ]
  },
  {
   "cell_type": "code",
   "execution_count": null,
   "id": "e1bc56dc",
   "metadata": {},
   "outputs": [],
   "source": [
    "#gender_submission=pd.read_csv(\"/Users/bertagrim/dev_projects/titanic/gender_submission.csv\")\n",
    "#gender_submission.head()"
   ]
  },
  {
   "cell_type": "code",
   "execution_count": null,
   "id": "1063f2ae",
   "metadata": {},
   "outputs": [],
   "source": [
    "print(train_data.shape)\n",
    "print(test_data.shape)\n"
   ]
  },
  {
   "cell_type": "code",
   "execution_count": null,
   "id": "9ed439d3",
   "metadata": {},
   "outputs": [],
   "source": [
    "train_data.info()"
   ]
  },
  {
   "cell_type": "code",
   "execution_count": null,
   "id": "67b67596",
   "metadata": {},
   "outputs": [],
   "source": [
    "test_data.info()"
   ]
  },
  {
   "cell_type": "code",
   "execution_count": null,
   "id": "a9f2d880",
   "metadata": {},
   "outputs": [],
   "source": [
    "train_data.nunique()"
   ]
  },
  {
   "cell_type": "markdown",
   "id": "7ea80dd6",
   "metadata": {},
   "source": [
    "## Data cleaning"
   ]
  },
  {
   "cell_type": "code",
   "execution_count": null,
   "id": "4fc862d6",
   "metadata": {},
   "outputs": [],
   "source": [
    "train_data.isnull().sum()"
   ]
  },
  {
   "cell_type": "code",
   "execution_count": null,
   "id": "74bfa87e",
   "metadata": {},
   "outputs": [],
   "source": [
    "test_data.isnull().sum()"
   ]
  },
  {
   "cell_type": "code",
   "execution_count": null,
   "id": "8be135c7",
   "metadata": {},
   "outputs": [],
   "source": [
    "train_data['Cabin'].unique()"
   ]
  },
  {
   "cell_type": "code",
   "execution_count": null,
   "id": "e79b461a",
   "metadata": {},
   "outputs": [],
   "source": [
    "train_data['Cabin'].fillna('no_cabin',inplace=True)\n",
    "test_data['Cabin'].fillna('no_cabin',inplace=True)"
   ]
  },
  {
   "cell_type": "code",
   "execution_count": null,
   "id": "b9009e0c",
   "metadata": {},
   "outputs": [],
   "source": [
    "print(train_data.Cabin.isnull().sum())\n",
    "print(test_data.Cabin.isnull().sum())"
   ]
  },
  {
   "cell_type": "code",
   "execution_count": null,
   "id": "e772ba3a",
   "metadata": {},
   "outputs": [],
   "source": [
    "train_data.Embarked.isnull().sum()"
   ]
  },
  {
   "cell_type": "code",
   "execution_count": null,
   "id": "ecc941cb",
   "metadata": {},
   "outputs": [],
   "source": [
    "train_data['Embarked'].fillna('unknown',inplace=True)\n",
    "train_data.Embarked.isnull().sum()"
   ]
  },
  {
   "cell_type": "code",
   "execution_count": null,
   "id": "4fdd9ca3",
   "metadata": {},
   "outputs": [],
   "source": [
    "test_data.info()"
   ]
  },
  {
   "cell_type": "code",
   "execution_count": null,
   "id": "0a7e39c8",
   "metadata": {},
   "outputs": [],
   "source": [
    "test_data['Fare']= test_data['Fare'].fillna(test_data['Fare'].median())"
   ]
  },
  {
   "cell_type": "code",
   "execution_count": null,
   "id": "8e056cf3",
   "metadata": {},
   "outputs": [],
   "source": [
    "test_data['Fare'].isnull().sum()"
   ]
  },
  {
   "cell_type": "code",
   "execution_count": null,
   "id": "6b3a1d45",
   "metadata": {},
   "outputs": [],
   "source": [
    "test_data['Fare'].median()"
   ]
  },
  {
   "cell_type": "markdown",
   "id": "0ededef0",
   "metadata": {},
   "source": [
    "## Null values Age"
   ]
  },
  {
   "cell_type": "markdown",
   "id": "7243f874",
   "metadata": {},
   "source": [
    "#### Method 1: group by means"
   ]
  },
  {
   "cell_type": "code",
   "execution_count": null,
   "id": "1c221127",
   "metadata": {},
   "outputs": [],
   "source": [
    "all_data=pd.concat([train_data, test_data], ignore_index=True)"
   ]
  },
  {
   "cell_type": "code",
   "execution_count": null,
   "id": "810a3177",
   "metadata": {
    "scrolled": true
   },
   "outputs": [],
   "source": [
    "all_data.info()"
   ]
  },
  {
   "cell_type": "code",
   "execution_count": null,
   "id": "4f11c9ec",
   "metadata": {
    "scrolled": true
   },
   "outputs": [],
   "source": [
    "all_data.groupby(['Sex','Pclass']).Age.mean()\n"
   ]
  },
  {
   "cell_type": "code",
   "execution_count": null,
   "id": "07669f7f",
   "metadata": {},
   "outputs": [],
   "source": [
    "mean_f1=37\n",
    "mean_f2=27\n",
    "mean_f3=22\n",
    "mean_m1=41\n",
    "mean_m2=31\n",
    "mean_m3=26"
   ]
  },
  {
   "cell_type": "code",
   "execution_count": null,
   "id": "07694081",
   "metadata": {},
   "outputs": [],
   "source": [
    "train_data_c=train_data.copy()\n",
    "        "
   ]
  },
  {
   "cell_type": "code",
   "execution_count": null,
   "id": "a821d8bc",
   "metadata": {},
   "outputs": [],
   "source": [
    "train_data_c.loc[(train_data_c['Sex']=='female') & (train_data_c['Pclass']==1), 'Age'] = train_data_c.loc[(train_data_c['Sex']=='female') & (train_data_c['Pclass']==1),'Age'].fillna(mean_f1)\n",
    "train_data_c.loc[(train_data_c['Sex']=='female') & (train_data_c['Pclass']==2), 'Age'] = train_data_c.loc[(train_data_c['Sex']=='female') & (train_data_c['Pclass']==2),'Age'].fillna(mean_f2)\n",
    "train_data_c.loc[(train_data_c['Sex']=='female') & (train_data_c['Pclass']==3), 'Age'] = train_data_c.loc[(train_data_c['Sex']=='female') & (train_data_c['Pclass']==3),'Age'].fillna(mean_f3)\n",
    "train_data_c.loc[(train_data_c['Sex']=='male') & (train_data_c['Pclass']==1), 'Age'] = train_data_c.loc[(train_data_c['Sex']=='male') & (train_data_c['Pclass']==1),'Age'].fillna(mean_m1)\n",
    "train_data_c.loc[(train_data_c['Sex']=='male') & (train_data_c['Pclass']==2), 'Age'] = train_data_c.loc[(train_data_c['Sex']=='male') & (train_data_c['Pclass']==2),'Age'].fillna(mean_m2)\n",
    "train_data_c.loc[(train_data_c['Sex']=='male') & (train_data_c['Pclass']==3), 'Age'] = train_data_c.loc[(train_data_c['Sex']=='male') & (train_data_c['Pclass']==3),'Age'].fillna(mean_m3)\n"
   ]
  },
  {
   "cell_type": "code",
   "execution_count": null,
   "id": "5fdfbd90",
   "metadata": {
    "scrolled": true
   },
   "outputs": [],
   "source": [
    "train_data_c['Age'].isnull().sum()"
   ]
  },
  {
   "cell_type": "code",
   "execution_count": null,
   "id": "8ab9889d",
   "metadata": {},
   "outputs": [],
   "source": [
    "test_data_c=test_data.copy()"
   ]
  },
  {
   "cell_type": "code",
   "execution_count": null,
   "id": "671e337c",
   "metadata": {},
   "outputs": [],
   "source": [
    "test_data_c.loc[(test_data_c['Sex']=='female') & (test_data_c['Pclass']==1), 'Age'] = test_data_c.loc[(test_data_c['Sex']=='female') & (test_data_c['Pclass']==1),'Age'].fillna(mean_f1)\n",
    "test_data_c.loc[(test_data_c['Sex']=='female') & (test_data_c['Pclass']==2), 'Age'] = test_data_c.loc[(test_data_c['Sex']=='female') & (test_data_c['Pclass']==2),'Age'].fillna(mean_f2)\n",
    "test_data_c.loc[(test_data_c['Sex']=='female') & (test_data_c['Pclass']==3), 'Age'] = test_data_c.loc[(test_data_c['Sex']=='female') & (test_data_c['Pclass']==3),'Age'].fillna(mean_f3)\n",
    "test_data_c.loc[(test_data_c['Sex']=='male') & (test_data_c['Pclass']==1), 'Age'] = test_data_c.loc[(test_data_c['Sex']=='male') & (test_data_c['Pclass']==1),'Age'].fillna(mean_m1)\n",
    "test_data_c.loc[(test_data_c['Sex']=='male') & (test_data_c['Pclass']==2), 'Age'] = test_data_c.loc[(test_data_c['Sex']=='male') & (test_data_c['Pclass']==2),'Age'].fillna(mean_m2)\n",
    "test_data_c.loc[(test_data_c['Sex']=='male') & (test_data_c['Pclass']==3), 'Age'] = test_data_c.loc[(test_data_c['Sex']=='male') & (test_data_c['Pclass']==3),'Age'].fillna(mean_m3)\n"
   ]
  },
  {
   "cell_type": "code",
   "execution_count": null,
   "id": "210fa650",
   "metadata": {},
   "outputs": [],
   "source": [
    "test_data_c['Age'].isnull().sum()"
   ]
  },
  {
   "cell_type": "code",
   "execution_count": null,
   "id": "ce330a42",
   "metadata": {},
   "outputs": [],
   "source": [
    "test_data_c.info()"
   ]
  },
  {
   "cell_type": "markdown",
   "id": "dde7c4e7",
   "metadata": {},
   "source": [
    "#### Method 2: KNN imputer"
   ]
  },
  {
   "cell_type": "code",
   "execution_count": null,
   "id": "43e7285d",
   "metadata": {},
   "outputs": [],
   "source": [
    "train_data_c2=train_data.copy()"
   ]
  },
  {
   "cell_type": "code",
   "execution_count": null,
   "id": "cd9721d1",
   "metadata": {},
   "outputs": [],
   "source": [
    "test_data_c2=test_data.copy()"
   ]
  },
  {
   "cell_type": "code",
   "execution_count": null,
   "id": "b0f9bf59",
   "metadata": {
    "scrolled": true
   },
   "outputs": [],
   "source": [
    "train_data_c2.isnull().sum()"
   ]
  },
  {
   "cell_type": "code",
   "execution_count": null,
   "id": "ca41fd0c",
   "metadata": {
    "scrolled": true
   },
   "outputs": [],
   "source": [
    "train_num=train_data_c2[['Age','Fare']]\n",
    "test_num=train_data_c2[['Age','Fare']]"
   ]
  },
  {
   "cell_type": "code",
   "execution_count": null,
   "id": "39f48b3a",
   "metadata": {},
   "outputs": [],
   "source": [
    "imputer=KNNImputer(n_neighbors=1)\n",
    "array_train_num=imputer.fit_transform(train_num)\n",
    "train_num=pd.DataFrame(array_train_num, columns = train_num.columns)"
   ]
  },
  {
   "cell_type": "code",
   "execution_count": null,
   "id": "8f807866",
   "metadata": {},
   "outputs": [],
   "source": [
    "imputer=KNNImputer(n_neighbors=1)\n",
    "array_test_num=imputer.fit_transform(test_num)\n",
    "test_num=pd.DataFrame(array_test_num, columns = test_num.columns)"
   ]
  },
  {
   "cell_type": "code",
   "execution_count": null,
   "id": "4f647503",
   "metadata": {},
   "outputs": [],
   "source": [
    "train_num.info()"
   ]
  },
  {
   "cell_type": "code",
   "execution_count": null,
   "id": "c77a88c3",
   "metadata": {},
   "outputs": [],
   "source": [
    "train_data_c2[['Age','Fare']]=train_num[['Age', 'Fare']]\n",
    "test_data_c2[['Age','Fare']]=test_num[['Age', 'Fare']]"
   ]
  },
  {
   "cell_type": "code",
   "execution_count": null,
   "id": "a73b1763",
   "metadata": {},
   "outputs": [],
   "source": [
    "train_data_c2.info()"
   ]
  },
  {
   "cell_type": "code",
   "execution_count": null,
   "id": "dc556d95",
   "metadata": {},
   "outputs": [],
   "source": [
    "test_data_c2.info()"
   ]
  },
  {
   "cell_type": "markdown",
   "id": "b19399fd",
   "metadata": {},
   "source": [
    "## Feature engineering"
   ]
  },
  {
   "cell_type": "markdown",
   "id": "9001b5ab",
   "metadata": {},
   "source": [
    "#### Change type of categorical data"
   ]
  },
  {
   "cell_type": "code",
   "execution_count": null,
   "id": "439a0134",
   "metadata": {},
   "outputs": [],
   "source": [
    "train_data_c.head()"
   ]
  },
  {
   "cell_type": "code",
   "execution_count": null,
   "id": "4c3b948d",
   "metadata": {},
   "outputs": [],
   "source": [
    "for col in train_data_c.columns.tolist():\n",
    "    print(col, train_data_c[col].unique())"
   ]
  },
  {
   "cell_type": "code",
   "execution_count": null,
   "id": "079ba06a",
   "metadata": {},
   "outputs": [],
   "source": [
    "train_data_c[['Name', 'Sex', 'Ticket', 'Cabin', 'Embarked']]=train_data_c[['Name', 'Sex', 'Ticket', 'Cabin', 'Embarked']].astype('category')\n",
    "train_data_c2[['Name', 'Sex', 'Ticket', 'Cabin', 'Embarked']]=train_data_c2[['Name', 'Sex', 'Ticket', 'Cabin', 'Embarked']].astype('category')"
   ]
  },
  {
   "cell_type": "code",
   "execution_count": null,
   "id": "30559ff9",
   "metadata": {},
   "outputs": [],
   "source": [
    "test_data_c[['Name', 'Sex', 'Ticket', 'Cabin', 'Embarked']]=test_data_c[['Name', 'Sex', 'Ticket', 'Cabin', 'Embarked']].astype('category')\n",
    "test_data_c2[['Name', 'Sex', 'Ticket', 'Cabin', 'Embarked']]=test_data_c2[['Name', 'Sex', 'Ticket', 'Cabin', 'Embarked']].astype('category')"
   ]
  },
  {
   "cell_type": "code",
   "execution_count": null,
   "id": "fbe7f7f4",
   "metadata": {
    "scrolled": true
   },
   "outputs": [],
   "source": [
    "train_data_c.nunique()"
   ]
  },
  {
   "cell_type": "code",
   "execution_count": null,
   "id": "709a546a",
   "metadata": {},
   "outputs": [],
   "source": [
    "train_data_c=pd.get_dummies(train_data_c, columns=['Pclass', 'Embarked'], prefix=['Pclass_', 'Embarked_'])"
   ]
  },
  {
   "cell_type": "code",
   "execution_count": null,
   "id": "f1d862e7",
   "metadata": {},
   "outputs": [],
   "source": [
    "train_data_c2=pd.get_dummies(train_data_c2, columns=['Pclass', 'Embarked'], prefix=['Pclass_', 'Embarked_'])"
   ]
  },
  {
   "cell_type": "code",
   "execution_count": null,
   "id": "f38bcc28",
   "metadata": {},
   "outputs": [],
   "source": [
    "test_data_c=pd.get_dummies(test_data_c, columns=['Pclass', 'Embarked'], prefix=['Pclass_', 'Embarked_'])"
   ]
  },
  {
   "cell_type": "code",
   "execution_count": null,
   "id": "9bc326ca",
   "metadata": {},
   "outputs": [],
   "source": [
    "test_data_c2=pd.get_dummies(test_data_c2, columns=['Pclass', 'Embarked'], prefix=['Pclass_', 'Embarked_'])"
   ]
  },
  {
   "cell_type": "code",
   "execution_count": null,
   "id": "b3c93f09",
   "metadata": {
    "scrolled": true
   },
   "outputs": [],
   "source": [
    "label_maker = LabelEncoder()\n",
    "\n",
    "train_data_c['Sex'] = label_maker.fit_transform(train_data_c['Sex'])\n",
    "\n",
    "train_data_c.head()"
   ]
  },
  {
   "cell_type": "code",
   "execution_count": null,
   "id": "ac28f8f7",
   "metadata": {},
   "outputs": [],
   "source": [
    "label_maker = LabelEncoder()\n",
    "\n",
    "train_data_c2['Sex'] = label_maker.fit_transform(train_data_c2['Sex'])\n",
    "\n",
    "train_data_c2.head()"
   ]
  },
  {
   "cell_type": "code",
   "execution_count": null,
   "id": "65d373c6",
   "metadata": {},
   "outputs": [],
   "source": [
    "test_data_c['Sex'] = label_maker.fit_transform(test_data_c['Sex'])\n",
    "\n",
    "test_data_c.head()"
   ]
  },
  {
   "cell_type": "code",
   "execution_count": null,
   "id": "c3e5b15d",
   "metadata": {},
   "outputs": [],
   "source": [
    "test_data_c2['Sex'] = label_maker.fit_transform(test_data_c2['Sex'])\n",
    "\n",
    "test_data_c2.head()"
   ]
  },
  {
   "cell_type": "code",
   "execution_count": null,
   "id": "5efba68c",
   "metadata": {},
   "outputs": [],
   "source": [
    "def replace_cabin(x):\n",
    "    if x!='no_cabin':\n",
    "        return 'cabin'\n",
    "    else:\n",
    "        return x"
   ]
  },
  {
   "cell_type": "code",
   "execution_count": null,
   "id": "18bb4c80",
   "metadata": {},
   "outputs": [],
   "source": [
    "train_data_c['Cabin']=train_data_c['Cabin'].apply(replace_cabin)"
   ]
  },
  {
   "cell_type": "code",
   "execution_count": null,
   "id": "9631109f",
   "metadata": {},
   "outputs": [],
   "source": [
    "train_data_c2['Cabin']=train_data_c2['Cabin'].apply(replace_cabin)"
   ]
  },
  {
   "cell_type": "code",
   "execution_count": null,
   "id": "1f70f96b",
   "metadata": {},
   "outputs": [],
   "source": [
    "train_data_c.Cabin.unique()"
   ]
  },
  {
   "cell_type": "code",
   "execution_count": null,
   "id": "aa9b85ba",
   "metadata": {},
   "outputs": [],
   "source": [
    "train_data_c['Cabin'] = label_maker.fit_transform(train_data_c['Cabin'])\n",
    "\n",
    "train_data_c.Cabin.unique()"
   ]
  },
  {
   "cell_type": "code",
   "execution_count": null,
   "id": "387b23bc",
   "metadata": {},
   "outputs": [],
   "source": [
    "train_data_c2['Cabin'] = label_maker.fit_transform(train_data_c2['Cabin'])\n",
    "\n",
    "train_data_c2.Cabin.unique()"
   ]
  },
  {
   "cell_type": "code",
   "execution_count": null,
   "id": "5dc8ecf6",
   "metadata": {},
   "outputs": [],
   "source": [
    "test_data_c['Cabin']=test_data_c['Cabin'].apply(replace_cabin)"
   ]
  },
  {
   "cell_type": "code",
   "execution_count": null,
   "id": "e5086f1d",
   "metadata": {},
   "outputs": [],
   "source": [
    "test_data_c2['Cabin']=test_data_c2['Cabin'].apply(replace_cabin)"
   ]
  },
  {
   "cell_type": "code",
   "execution_count": null,
   "id": "b67ba493",
   "metadata": {},
   "outputs": [],
   "source": [
    "test_data_c.Cabin.unique()"
   ]
  },
  {
   "cell_type": "code",
   "execution_count": null,
   "id": "0d0f0574",
   "metadata": {},
   "outputs": [],
   "source": [
    "test_data_c['Cabin'] = label_maker.fit_transform(test_data_c['Cabin'])\n",
    "\n",
    "test_data_c.Cabin.unique()"
   ]
  },
  {
   "cell_type": "code",
   "execution_count": null,
   "id": "76b6b39f",
   "metadata": {},
   "outputs": [],
   "source": [
    "test_data_c2['Cabin'] = label_maker.fit_transform(test_data_c2['Cabin'])\n",
    "\n",
    "test_data_c2.Cabin.unique()"
   ]
  },
  {
   "cell_type": "code",
   "execution_count": null,
   "id": "e1d2c305",
   "metadata": {},
   "outputs": [],
   "source": [
    "train_data_c.Name=train_data_c.Name.str.split(\"[\\\\s,]+\")\n",
    "test_data_c.Name=test_data_c.Name.str.split(\"[\\\\s,]+\")"
   ]
  },
  {
   "cell_type": "code",
   "execution_count": null,
   "id": "406cdf17",
   "metadata": {},
   "outputs": [],
   "source": [
    "train_data_c2.Name=train_data_c2.Name.str.split(\"[\\\\s,]+\")\n",
    "test_data_c2.Name=test_data_c2.Name.str.split(\"[\\\\s,]+\")"
   ]
  },
  {
   "cell_type": "code",
   "execution_count": null,
   "id": "01f65943",
   "metadata": {},
   "outputs": [],
   "source": [
    "def keep_first(list):\n",
    "    return list[0]"
   ]
  },
  {
   "cell_type": "code",
   "execution_count": null,
   "id": "df1432f2",
   "metadata": {},
   "outputs": [],
   "source": [
    "train_data_c.Name=train_data_c.Name.apply(keep_first)\n",
    "test_data_c.Name=test_data_c.Name.apply(keep_first)"
   ]
  },
  {
   "cell_type": "code",
   "execution_count": null,
   "id": "00ff2ffc",
   "metadata": {},
   "outputs": [],
   "source": [
    "train_data_c2.Name=train_data_c2.Name.apply(keep_first)\n",
    "test_data_c2.Name=test_data_c2.Name.apply(keep_first)"
   ]
  },
  {
   "cell_type": "code",
   "execution_count": null,
   "id": "f1ed35db",
   "metadata": {},
   "outputs": [],
   "source": [
    "train_data_c.Name=train_data_c.Name.astype('category')\n",
    "test_data_c.Name=test_data_c.Name.astype('category')"
   ]
  },
  {
   "cell_type": "code",
   "execution_count": null,
   "id": "4c460919",
   "metadata": {},
   "outputs": [],
   "source": [
    "train_data_c2.Name=train_data_c2.Name.astype('category')\n",
    "test_data_c2.Name=test_data_c2.Name.astype('category')"
   ]
  },
  {
   "cell_type": "code",
   "execution_count": null,
   "id": "50964434",
   "metadata": {
    "scrolled": false
   },
   "outputs": [],
   "source": [
    "for col in train_data_c.columns.tolist():\n",
    "    print(col, train_data_c[col].unique())"
   ]
  },
  {
   "cell_type": "markdown",
   "id": "cd0a0981",
   "metadata": {},
   "source": [
    "## Feature scaling"
   ]
  },
  {
   "cell_type": "code",
   "execution_count": null,
   "id": "8531b052",
   "metadata": {},
   "outputs": [],
   "source": [
    "train_data_num=train_data_c.select_dtypes(exclude='category')\n",
    "test_data_num=test_data_c.select_dtypes(exclude='category')"
   ]
  },
  {
   "cell_type": "code",
   "execution_count": null,
   "id": "1a9dd866",
   "metadata": {},
   "outputs": [],
   "source": [
    "train_data_num2=train_data_c2.select_dtypes(exclude='category')\n",
    "test_data_num2=test_data_c2.select_dtypes(exclude='category')"
   ]
  },
  {
   "cell_type": "code",
   "execution_count": null,
   "id": "155d6c5e",
   "metadata": {},
   "outputs": [],
   "source": [
    "train_data_num=train_data_num.drop(columns=['PassengerId'])\n",
    "test_data_num=test_data_num.drop(columns=['PassengerId'])"
   ]
  },
  {
   "cell_type": "code",
   "execution_count": null,
   "id": "58ddd730",
   "metadata": {},
   "outputs": [],
   "source": [
    "train_data_num2=train_data_num2.drop(columns=['PassengerId'])\n",
    "test_data_num2=test_data_num2.drop(columns=['PassengerId'])"
   ]
  },
  {
   "cell_type": "code",
   "execution_count": null,
   "id": "388f15eb",
   "metadata": {},
   "outputs": [],
   "source": [
    "train_columns = train_data_num.columns\n",
    "test_columns = test_data_num.columns"
   ]
  },
  {
   "cell_type": "code",
   "execution_count": null,
   "id": "e92ab264",
   "metadata": {},
   "outputs": [],
   "source": [
    "scaler = RobustScaler() \n",
    "scaler"
   ]
  },
  {
   "cell_type": "code",
   "execution_count": null,
   "id": "066fbd3c",
   "metadata": {},
   "outputs": [],
   "source": [
    "train_data_scaled = scaler.fit_transform(train_data_num)\n",
    "train_data_scaled = pd.DataFrame(train_data_scaled, columns=train_columns)"
   ]
  },
  {
   "cell_type": "code",
   "execution_count": null,
   "id": "d9436ffe",
   "metadata": {},
   "outputs": [],
   "source": [
    "train_data_scaled2 = scaler.fit_transform(train_data_num2)\n",
    "train_data_scaled2 = pd.DataFrame(train_data_scaled2, columns=train_columns)"
   ]
  },
  {
   "cell_type": "code",
   "execution_count": null,
   "id": "a9c1a4eb",
   "metadata": {},
   "outputs": [],
   "source": [
    "test_data_scaled = scaler.fit_transform(test_data_num)\n",
    "test_data_scaled = pd.DataFrame(test_data_scaled, columns=test_columns)"
   ]
  },
  {
   "cell_type": "code",
   "execution_count": null,
   "id": "a1cee6ca",
   "metadata": {},
   "outputs": [],
   "source": [
    "test_data_scaled2 = scaler.fit_transform(test_data_num2)\n",
    "test_data_scaled2 = pd.DataFrame(test_data_scaled2, columns=test_columns)"
   ]
  },
  {
   "cell_type": "code",
   "execution_count": null,
   "id": "43872f4a",
   "metadata": {},
   "outputs": [],
   "source": [
    "test_data_full=pd.concat([test_data_scaled, test_data_c[['PassengerId','Name','Ticket']]], axis=1)\n",
    "train_data_full=pd.concat([train_data_scaled, train_data_c[['PassengerId','Name','Ticket']]], axis=1)"
   ]
  },
  {
   "cell_type": "code",
   "execution_count": null,
   "id": "e6706e7f",
   "metadata": {},
   "outputs": [],
   "source": [
    "test_data_full2=pd.concat([test_data_scaled2, test_data_c2[['PassengerId','Name','Ticket']]], axis=1)\n",
    "train_data_full2=pd.concat([train_data_scaled2, train_data_c2[['PassengerId','Name','Ticket']]], axis=1)"
   ]
  },
  {
   "cell_type": "code",
   "execution_count": null,
   "id": "5475f803",
   "metadata": {
    "scrolled": false
   },
   "outputs": [],
   "source": [
    "train_data_full.info()"
   ]
  },
  {
   "cell_type": "code",
   "execution_count": null,
   "id": "a283ea4e",
   "metadata": {},
   "outputs": [],
   "source": [
    "test_data_full2.info()"
   ]
  },
  {
   "cell_type": "code",
   "execution_count": null,
   "id": "fb36c82f",
   "metadata": {},
   "outputs": [],
   "source": [
    "train_data_full.drop(columns=['Name', 'Ticket'], inplace=True)"
   ]
  },
  {
   "cell_type": "code",
   "execution_count": null,
   "id": "9d60d023",
   "metadata": {},
   "outputs": [],
   "source": [
    "test_data_full.drop(columns=['Name', 'Ticket'], inplace=True)"
   ]
  },
  {
   "cell_type": "code",
   "execution_count": null,
   "id": "acd9b409",
   "metadata": {},
   "outputs": [],
   "source": [
    "train_data_full2.drop(columns=['Name', 'Ticket'], inplace=True)"
   ]
  },
  {
   "cell_type": "code",
   "execution_count": null,
   "id": "4753858a",
   "metadata": {},
   "outputs": [],
   "source": [
    "test_data_full2.drop(columns=['Name', 'Ticket'], inplace=True)"
   ]
  },
  {
   "cell_type": "markdown",
   "id": "aee6dd3e",
   "metadata": {},
   "source": [
    "## EDA"
   ]
  },
  {
   "cell_type": "code",
   "execution_count": null,
   "id": "b3cc90c0",
   "metadata": {},
   "outputs": [],
   "source": [
    "train_data_full.nunique()"
   ]
  },
  {
   "cell_type": "code",
   "execution_count": null,
   "id": "a303c8a5",
   "metadata": {},
   "outputs": [],
   "source": [
    "for col in train_data_full.columns.tolist():\n",
    "    sns.histplot(data=train_data_full[col])\n",
    "    plt.title(col)\n",
    "    plt.show()"
   ]
  },
  {
   "cell_type": "code",
   "execution_count": null,
   "id": "82662a76",
   "metadata": {},
   "outputs": [],
   "source": [
    "corr = train_data_full.drop(columns=['PassengerId']).corr()\n",
    "#corr_survived=corr[['Survived']]\n",
    "\n",
    "#make it only bottom triangle\n",
    "matrix = np.triu(corr)\n",
    "\n",
    "fig=plt.figure(figsize=(15,15))\n",
    "\n",
    "#change colours\n",
    "cmap = sns.diverging_palette(230, 20, as_cmap=True)\n",
    "\n",
    "# plot the heatmap\n",
    "g=sns.heatmap(corr, \n",
    "        xticklabels=corr.columns,\n",
    "        yticklabels=corr.columns,\n",
    "           annot=True, vmax=1, vmin=-1, center=0, mask=matrix, cmap=cmap)\n",
    "\n",
    "\n",
    "#add title\n",
    "plt.title(\"Correlation Heatmap 2018\", fontdict = {'fontsize' : 15})\n",
    "\n",
    "\n",
    "#delete ticks\n",
    "g.tick_params(axis='y',left=False)\n",
    "g.tick_params(axis='x',bottom=False)\n",
    "plt.show()"
   ]
  },
  {
   "cell_type": "markdown",
   "id": "66eca5e9",
   "metadata": {},
   "source": [
    "## Modelling"
   ]
  },
  {
   "cell_type": "code",
   "execution_count": null,
   "id": "987ed4b9",
   "metadata": {},
   "outputs": [],
   "source": [
    "train_data_full= train_data_full.sample(frac=1)\n",
    "\n",
    "X = train_data_full.drop('Survived', axis= 1)\n",
    "y = train_data_full.Survived"
   ]
  },
  {
   "cell_type": "code",
   "execution_count": null,
   "id": "db6a172b",
   "metadata": {},
   "outputs": [],
   "source": [
    "train_data_full= train_data_full2.sample(frac=1)\n",
    "\n",
    "X2 = train_data_full2.drop('Survived', axis= 1)\n",
    "y2 = train_data_full2.Survived"
   ]
  },
  {
   "cell_type": "code",
   "execution_count": null,
   "id": "0f72896b",
   "metadata": {},
   "outputs": [],
   "source": [
    "X_train, X_test, y_train, y_test = train_test_split(X, y, test_size=0.3,\n",
    "                                                    random_state=42)"
   ]
  },
  {
   "cell_type": "code",
   "execution_count": null,
   "id": "928cc157",
   "metadata": {},
   "outputs": [],
   "source": [
    "X_train2, X_test2, y_train2, y_test2 = train_test_split(X2, y2, test_size=0.3,\n",
    "                                                    random_state=42)"
   ]
  },
  {
   "cell_type": "markdown",
   "id": "2f112ff1",
   "metadata": {},
   "source": [
    "### Random forest"
   ]
  },
  {
   "cell_type": "code",
   "execution_count": null,
   "id": "c18c3c5c",
   "metadata": {},
   "outputs": [],
   "source": [
    "rand_forest = RandomForestClassifier(n_estimators=100, random_state=42)\n",
    "rand_forest.fit(X_train, y_train)"
   ]
  },
  {
   "cell_type": "code",
   "execution_count": null,
   "id": "493a54d2",
   "metadata": {},
   "outputs": [],
   "source": [
    "Allmetrics(rand_forest, X_train, y_train, X_test, y_test)"
   ]
  },
  {
   "cell_type": "markdown",
   "id": "6532b095",
   "metadata": {},
   "source": [
    "### Random forest with oversampling"
   ]
  },
  {
   "cell_type": "code",
   "execution_count": null,
   "id": "d3f0db1a",
   "metadata": {},
   "outputs": [],
   "source": [
    "smote = SMOTE(random_state =7)\n",
    "X_sm, y_sm = smote.fit_resample(X_train, y_train)"
   ]
  },
  {
   "cell_type": "code",
   "execution_count": null,
   "id": "ce0dcfae",
   "metadata": {},
   "outputs": [],
   "source": [
    "print('\\nBefore OVER-sampling\\n', y_train.value_counts())\n",
    "print('\\nAfter OVER-sampling\\n', y_sm.value_counts())"
   ]
  },
  {
   "cell_type": "code",
   "execution_count": null,
   "id": "9ef6b28b",
   "metadata": {},
   "outputs": [],
   "source": [
    "rand_forest_sm = RandomForestClassifier(n_estimators=100, random_state=42)\n",
    "rand_forest_sm.fit(X_sm, y_sm)"
   ]
  },
  {
   "cell_type": "code",
   "execution_count": null,
   "id": "303c13e6",
   "metadata": {},
   "outputs": [],
   "source": [
    "Allmetrics(rand_forest_sm, X_sm, y_sm, X_test, y_test)"
   ]
  },
  {
   "cell_type": "markdown",
   "id": "0d52ed30",
   "metadata": {},
   "source": [
    "### Logistic regression"
   ]
  },
  {
   "cell_type": "code",
   "execution_count": null,
   "id": "ef5b29f2",
   "metadata": {},
   "outputs": [],
   "source": [
    "log_reg = LogisticRegression(random_state=42)\n",
    "\n",
    "log_reg.fit(X_train, y_train)\n",
    "\n",
    "y_pred = log_reg.predict(X_test)"
   ]
  },
  {
   "cell_type": "code",
   "execution_count": null,
   "id": "2ac2b54c",
   "metadata": {},
   "outputs": [],
   "source": [
    "Allmetrics(log_reg, X_train, y_train, X_test, y_test)"
   ]
  },
  {
   "cell_type": "markdown",
   "id": "0c75c5bc",
   "metadata": {},
   "source": [
    "### Gradient boosting"
   ]
  },
  {
   "cell_type": "markdown",
   "id": "29e0da5e",
   "metadata": {},
   "source": [
    "#### With Null values method 1"
   ]
  },
  {
   "cell_type": "code",
   "execution_count": null,
   "id": "218eceb9",
   "metadata": {},
   "outputs": [],
   "source": [
    "lr_list = [0.05, 0.075, 0.1, 0.25, 0.5, 0.75, 1, 1.2]\n",
    "\n",
    "for learning_rate in lr_list:\n",
    "    gb_clf = GradientBoostingClassifier(n_estimators=20, learning_rate=learning_rate, max_features=2, max_depth=2, random_state=0)\n",
    "    gb_clf.fit(X_train, y_train)\n",
    "    print(\"Learning rate: \", learning_rate)\n",
    "    print(\"Accuracy score (training): {0:.3f}\".format(gb_clf.score(X_train, y_train)))\n",
    "    print(\"Accuracy score (validation): {0:.3f}\".format(gb_clf.score(X_test, y_test)))\n",
    " "
   ]
  },
  {
   "cell_type": "code",
   "execution_count": null,
   "id": "6b8822e8",
   "metadata": {},
   "outputs": [],
   "source": [
    "gb_clf = GradientBoostingClassifier(n_estimators=20, learning_rate=1, max_features=2, max_depth=2, random_state=0)\n",
    "gb_clf.fit(X_train, y_train)"
   ]
  },
  {
   "cell_type": "code",
   "execution_count": null,
   "id": "e3e3cc63",
   "metadata": {},
   "outputs": [],
   "source": [
    "Allmetrics(gb_clf, X_train, y_train, X_test, y_test)"
   ]
  },
  {
   "cell_type": "markdown",
   "id": "1767aa56",
   "metadata": {},
   "source": [
    "#### With null values method 2"
   ]
  },
  {
   "cell_type": "code",
   "execution_count": null,
   "id": "b7b0266c",
   "metadata": {},
   "outputs": [],
   "source": [
    "lr_list = [0.05, 0.075, 0.1, 0.25, 0.5, 0.75, 1, 1.2]\n",
    "\n",
    "for learning_rate in lr_list:\n",
    "    gb_clf = GradientBoostingClassifier(n_estimators=20, learning_rate=learning_rate, max_features=2, max_depth=2, random_state=0)\n",
    "    gb_clf.fit(X_train2, y_train2)\n",
    "    print(\"Learning rate: \", learning_rate)\n",
    "    print(\"Accuracy score (training): {0:.3f}\".format(gb_clf.score(X_train2, y_train2)))\n",
    "    print(\"Accuracy score (validation): {0:.3f}\".format(gb_clf.score(X_test2, y_test2)))\n",
    " "
   ]
  },
  {
   "cell_type": "code",
   "execution_count": null,
   "id": "3f1fb135",
   "metadata": {},
   "outputs": [],
   "source": [
    "gb_clf = GradientBoostingClassifier(n_estimators=20, learning_rate=1, max_features=2, max_depth=2, random_state=0)\n",
    "gb_clf.fit(X_train2, y_train2)"
   ]
  },
  {
   "cell_type": "code",
   "execution_count": null,
   "id": "a004b3b9",
   "metadata": {},
   "outputs": [],
   "source": [
    "Allmetrics(gb_clf, X_train2, y_train2, X_test2, y_test2)"
   ]
  },
  {
   "cell_type": "markdown",
   "id": "36982ed3",
   "metadata": {},
   "source": [
    "## Support Vector Machine"
   ]
  },
  {
   "cell_type": "code",
   "execution_count": null,
   "id": "f05c6c88",
   "metadata": {},
   "outputs": [],
   "source": [
    "modelSVC = SVC(kernel='linear', probability=True)\n",
    "modelSVC.fit(X_train, y_train)"
   ]
  },
  {
   "cell_type": "code",
   "execution_count": null,
   "id": "4b55b469",
   "metadata": {
    "scrolled": true
   },
   "outputs": [],
   "source": [
    "y_pred = modelSVC.predict(X_test)"
   ]
  },
  {
   "cell_type": "code",
   "execution_count": null,
   "id": "97a86d2c",
   "metadata": {},
   "outputs": [],
   "source": [
    "print(\"Accuracy:\",metrics.accuracy_score(y_test, y_pred))"
   ]
  },
  {
   "cell_type": "markdown",
   "id": "13bad3e3",
   "metadata": {},
   "source": [
    "## Adaboost classifier"
   ]
  },
  {
   "cell_type": "code",
   "execution_count": null,
   "id": "62c599d2",
   "metadata": {},
   "outputs": [],
   "source": [
    "ada =  AdaBoostClassifier()\n",
    "ada.fit(X_train2,y_train2)\n",
    "\n",
    "Allmetrics(ada, X_train2, y_train2, X_test2, y_test2)"
   ]
  }
 ],
 "metadata": {
  "kernelspec": {
   "display_name": "Python 3",
   "language": "python",
   "name": "python3"
  },
  "language_info": {
   "codemirror_mode": {
    "name": "ipython",
    "version": 3
   },
   "file_extension": ".py",
   "mimetype": "text/x-python",
   "name": "python",
   "nbconvert_exporter": "python",
   "pygments_lexer": "ipython3",
   "version": "3.7.10"
  }
 },
 "nbformat": 4,
 "nbformat_minor": 5
}
